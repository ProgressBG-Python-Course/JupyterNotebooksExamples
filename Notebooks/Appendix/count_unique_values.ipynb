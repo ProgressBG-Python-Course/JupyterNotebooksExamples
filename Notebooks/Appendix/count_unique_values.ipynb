{
 "cells": [
  {
   "cell_type": "markdown",
   "metadata": {},
   "source": [
    "### Calc unique values-counts in list/ndarray\n",
    "\n",
    "Let's see different versions of doing that task and measure the speed of each approach."
   ]
  },
  {
   "cell_type": "code",
   "execution_count": 12,
   "metadata": {},
   "outputs": [],
   "source": [
    "import numpy as np\n",
    "from collections import defaultdict,Counter"
   ]
  },
  {
   "cell_type": "code",
   "execution_count": 21,
   "metadata": {
    "code_folding": []
   },
   "outputs": [],
   "source": [
    "def get_values_counts_with_dict_1(atribute_list):\n",
    "    \"\"\"with python dictionary (defaultdict)\"\"\"    \n",
    "    values_counts = defaultdict(int)\n",
    "    \n",
    "    for val in atribute_list:\n",
    "        values_counts[val] += 1\n",
    "\n",
    "    return values_counts    "
   ]
  },
  {
   "cell_type": "code",
   "execution_count": 23,
   "metadata": {
    "code_folding": []
   },
   "outputs": [],
   "source": [
    "def get_values_counts_with_list_count(attribute_list):\n",
    "    \"\"\"with python list.count() method\"\"\"\n",
    "    values_counts = {}\n",
    "    \n",
    "    for val in set(attribute_list):\n",
    "        values_counts[val] = attribute_list.count(val)\n",
    "\n",
    "    return values_counts"
   ]
  },
  {
   "cell_type": "code",
   "execution_count": 24,
   "metadata": {
    "code_folding": []
   },
   "outputs": [],
   "source": [
    "def get_values_counts_Counter(attribute_list):\n",
    "    \"\"\"with python Counter dict subclass\"\"\"    \n",
    "    return Counter(attribute_list)"
   ]
  },
  {
   "cell_type": "code",
   "execution_count": 40,
   "metadata": {
    "code_folding": []
   },
   "outputs": [],
   "source": [
    "def get_values_countes_with_np_unique(attribute_list):\n",
    "    \"\"\"with np.unique method\"\"\"\n",
    "    values, counts = np.unique(attribute_list, return_counts=True)\n",
    "    \n",
    "    return dict(zip(values, counts))"
   ]
  },
  {
   "cell_type": "markdown",
   "metadata": {},
   "source": [
    "### Speed timing"
   ]
  },
  {
   "cell_type": "code",
   "execution_count": 41,
   "metadata": {
    "code_folding": []
   },
   "outputs": [],
   "source": [
    "def timing_values_counts(arr):\n",
    "    the_list = list(arr)    \n",
    "    print('Testing on Python list with len: {}'.format(len(the_list)))\n",
    "    \n",
    "    print('\\n{}:'.format(get_values_counts_with_dict_1.__doc__))\n",
    "    %timeit -n1 get_values_counts_with_dict_1(the_list)\n",
    "    \n",
    "    print('\\n{}:'.format(get_values_counts_with_list_count.__doc__))\n",
    "    %timeit -n1 get_values_counts_with_list_count(the_list)        \n",
    "    \n",
    "    print('\\n{}:'.format(get_values_counts_Counter.__doc__))\n",
    "    %timeit -n1 get_values_counts_Counter(the_list)\n",
    "       \n",
    "    print('\\n{}:'.format(get_values_countes_with_np_unique.__doc__))    \n",
    "    %timeit -n1 get_values_countes_with_np_unique(arr)"
   ]
  },
  {
   "cell_type": "code",
   "execution_count": 48,
   "metadata": {},
   "outputs": [
    {
     "name": "stdout",
     "output_type": "stream",
     "text": [
      "Testing on Python list with len: 300000\n",
      "\n",
      "with python dictionary (defaultdict):\n",
      "41.1 ms ± 5.36 ms per loop (mean ± std. dev. of 7 runs, 1 loop each)\n",
      "\n",
      "with python list.count() method:\n",
      "25.8 ms ± 271 µs per loop (mean ± std. dev. of 7 runs, 1 loop each)\n",
      "\n",
      "with python Counter dict subclass:\n",
      "28.5 ms ± 2.3 ms per loop (mean ± std. dev. of 7 runs, 1 loop each)\n",
      "\n",
      "with np.unique method:\n",
      "33.1 ms ± 1.39 ms per loop (mean ± std. dev. of 7 runs, 1 loop each)\n"
     ]
    }
   ],
   "source": [
    "length_factor = 100000\n",
    "\n",
    "arr = np.repeat(np.array(['red','green','blue']),length_factor)\n",
    "np.random.shuffle(arr) \n",
    "\n",
    "timing_values_counts(arr)"
   ]
  },
  {
   "cell_type": "code",
   "execution_count": 49,
   "metadata": {},
   "outputs": [
    {
     "data": {
      "text/plain": [
       "{'blue': 100000, 'green': 100000, 'red': 100000}"
      ]
     },
     "execution_count": 49,
     "metadata": {},
     "output_type": "execute_result"
    }
   ],
   "source": [
    "# get_values_counts_with_dict_1(list(arr))\n",
    "get_values_counts_with_list_count(list(arr))\n",
    "get_values_counts_Counter(list(arr))\n",
    "get_values_countes_with_np_unique(arr)"
   ]
  },
  {
   "cell_type": "code",
   "execution_count": null,
   "metadata": {},
   "outputs": [],
   "source": []
  }
 ],
 "metadata": {
  "kernelspec": {
   "display_name": "Python 3",
   "language": "python",
   "name": "python3"
  },
  "language_info": {
   "codemirror_mode": {
    "name": "ipython",
    "version": 3
   },
   "file_extension": ".py",
   "mimetype": "text/x-python",
   "name": "python",
   "nbconvert_exporter": "python",
   "pygments_lexer": "ipython3",
   "version": "3.7.4"
  },
  "toc": {
   "base_numbering": 1,
   "nav_menu": {},
   "number_sections": true,
   "sideBar": true,
   "skip_h1_title": true,
   "title_cell": "Table of Contents",
   "title_sidebar": "Content",
   "toc_cell": false,
   "toc_position": {},
   "toc_section_display": true,
   "toc_window_display": true
  }
 },
 "nbformat": 4,
 "nbformat_minor": 4
}
