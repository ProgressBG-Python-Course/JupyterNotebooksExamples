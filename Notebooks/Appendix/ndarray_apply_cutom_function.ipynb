{
 "cells": [
  {
   "cell_type": "code",
   "execution_count": 9,
   "metadata": {},
   "outputs": [],
   "source": [
    "import numpy as np\n",
    "import pandas as pd\n",
    "import time\n",
    "import sys"
   ]
  },
  {
   "cell_type": "markdown",
   "metadata": {},
   "source": [
    "# Test and measure different ways of applying a custom function to a numpy array"
   ]
  },
  {
   "cell_type": "code",
   "execution_count": 10,
   "metadata": {},
   "outputs": [],
   "source": [
    "def _statit(f):\n",
    "  \"\"\" simple stat decorator\n",
    "\n",
    "      prints time taken and the returned object size\n",
    "  \"\"\"\n",
    "  def timed(*args, **kw):\n",
    "    time_start = time.time()\n",
    "    result = f(*args, **kw)\n",
    "    time_end = time.time()\n",
    "\n",
    "    time_taken = (time_end - time_start) * 1000\n",
    "    result_size = sys.getsizeof(result)\n",
    "\n",
    "    print('{:35s}:{:2.2f} ms.\\n\\t result size: {} bytes\\n\\n'.\n",
    "      format(f.__name__, time_taken, result_size))\n",
    "\n",
    "    return result\n",
    "\n",
    "  return timed\n"
   ]
  },
  {
   "cell_type": "code",
   "execution_count": 11,
   "metadata": {},
   "outputs": [],
   "source": [
    "def mapit(i):\n",
    "  \"\"\" Intentionally not used lambdas, in order to keep code readable\n",
    "      for non-lambdas programmers. But it's perfectly ok to use\n",
    "      lambda i: mappings[i]\n",
    "\n",
    "      For binary mappings is also ok not to use a function at all, but just the statement:\n",
    "      \"'red' if i == 0 else 'green'\"\n",
    "  \"\"\"\n",
    "  return mappings[i]"
   ]
  },
  {
   "cell_type": "code",
   "execution_count": 17,
   "metadata": {},
   "outputs": [],
   "source": [
    "@_statit\n",
    "def mapping_with_list_comprehension(y):\n",
    "  return [mapit(i) for i in y]\n",
    "\n",
    "@_statit\n",
    "def mapping_with_map_function(y):\n",
    "  return list(map(mapit, y))\n",
    "\n",
    "@_statit\n",
    "def mapping_with_npvectorize(y):\n",
    "  # note, that we include the np.vectorize(f) init time here\n",
    "  return np.vectorize(mapit)(y)\n",
    "\n",
    "@_statit\n",
    "def mapping_with_series_map(y):    \n",
    "  s = pd.Series(y)\n",
    "  return s.map(mappings)\n",
    "\n",
    "@_statit\n",
    "def mapping_with_series_apply(y):\n",
    "  s = pd.Series(y)\n",
    "  return s.apply(mapit)\n"
   ]
  },
  {
   "cell_type": "code",
   "execution_count": 19,
   "metadata": {},
   "outputs": [
    {
     "name": "stdout",
     "output_type": "stream",
     "text": [
      "mapping_with_list_comprehension    :392.78 ms.\n",
      "\t result size: 8697472 bytes\n",
      "\n",
      "\n",
      "mapping_with_map_function          :305.02 ms.\n",
      "\t result size: 8250176 bytes\n",
      "\n",
      "\n",
      "mapping_with_npvectorize           :174.47 ms.\n",
      "\t result size: 20000096 bytes\n",
      "\n",
      "\n",
      "mapping_with_series_map            :18.73 ms.\n",
      "\t result size: 80997835 bytes\n",
      "\n",
      "\n",
      "mapping_with_series_apply          :120.22 ms.\n",
      "\t result size: 80997835 bytes\n",
      "\n",
      "\n"
     ]
    },
    {
     "data": {
      "text/plain": [
       "0           red\n",
       "1         green\n",
       "2           red\n",
       "3          blue\n",
       "4          blue\n",
       "          ...  \n",
       "999995     blue\n",
       "999996      red\n",
       "999997     blue\n",
       "999998    green\n",
       "999999     blue\n",
       "Length: 1000000, dtype: object"
      ]
     },
     "execution_count": 19,
     "metadata": {},
     "output_type": "execute_result"
    }
   ],
   "source": [
    "mappings = {\n",
    "    0: 'red',\n",
    "    1: 'green',\n",
    "    2: 'blue'\n",
    "}\n",
    "\n",
    "ARRAY_SIZE = 1_000_000\n",
    "y = np.random.choice([0, 1, 2], size=ARRAY_SIZE)\n",
    "\n",
    "mapping_with_list_comprehension(y)\n",
    "mapping_with_map_function(y)\n",
    "mapping_with_npvectorize(y)\n",
    "mapping_with_series_map(y)\n",
    "mapping_with_series_apply(y)"
   ]
  }
 ],
 "metadata": {
  "kernelspec": {
   "display_name": "Python 3",
   "language": "python",
   "name": "python3"
  },
  "language_info": {
   "codemirror_mode": {
    "name": "ipython",
    "version": 3
   },
   "file_extension": ".py",
   "mimetype": "text/x-python",
   "name": "python",
   "nbconvert_exporter": "python",
   "pygments_lexer": "ipython3",
   "version": "3.7.4"
  }
 },
 "nbformat": 4,
 "nbformat_minor": 4
}
