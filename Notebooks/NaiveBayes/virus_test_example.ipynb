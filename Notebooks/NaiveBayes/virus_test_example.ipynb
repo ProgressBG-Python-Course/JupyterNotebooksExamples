{
 "cells": [
  {
   "cell_type": "markdown",
   "metadata": {},
   "source": [
    "# Naive Bayess - virus test"
   ]
  },
  {
   "cell_type": "markdown",
   "metadata": {},
   "source": [
    "<b>Given</b>: imagine a virus, that affects <span class=\"note\">1%</span> of the population. And that there is a test, which gives positive result for <span class=\"note\">90%</span> of people who have that virus (true positive). The test also gives a positive result for <span class=\"note\">5%</span> of the people who are cancer-free (false positive).\n",
    "\n",
    "<b>Question</b>: a person received a positive test result - what is the probability that he have the virus?"
   ]
  },
  {
   "cell_type": "markdown",
   "metadata": {},
   "source": [
    "### Represent as Tree Diagram"
   ]
  },
  {
   "cell_type": "markdown",
   "metadata": {},
   "source": [
    "\n",
    "![tree_diagram-virus_test_example](images/diagrams/tree_diagram-virus_test_example.png)\n"
   ]
  },
  {
   "cell_type": "markdown",
   "metadata": {},
   "source": [
    "### Formalize"
   ]
  },
  {
   "cell_type": "markdown",
   "metadata": {},
   "source": [
    "P(virus) = 0.01\n",
    "\n",
    "P(test_positive|virus) = 0.9\n",
    "\n",
    "P(test_positive|non_virus) = 0.05\n",
    "\n",
    "p(virus|tests_positive) = ( P(virus) * P(test_positive|virus) ) / P(test_positive)"
   ]
  },
  {
   "cell_type": "markdown",
   "metadata": {},
   "source": [
    "## Solution"
   ]
  },
  {
   "cell_type": "code",
   "execution_count": 12,
   "metadata": {},
   "outputs": [
    {
     "name": "stdout",
     "output_type": "stream",
     "text": [
      "0.15384615384615385\n"
     ]
    }
   ],
   "source": [
    "# given\n",
    "p_virus = 0.01\n",
    "p_test_positive_given_virus = 0.9\n",
    "p_test_positive_given_non_virus = 0.05\n",
    "\n",
    "# calculate from given:\n",
    "p_test_positive = p_virus * p_test_positive_given_virus + (1 - p_virus) * p_test_positive_given_non_virus\n",
    "# (0.01*0.9) / ( 0.01*0.9  + (1-0.01)*0.05)\n",
    "\n",
    "# calculate p(virus|tests_positive):\n",
    "p_virus_given_test_positive = (p_virus * p_test_positive_given_virus)/p_test_positive\n",
    "\n",
    "\n",
    "print(p_virus_given_test_positive)"
   ]
  }
 ],
 "metadata": {
  "kernelspec": {
   "display_name": "Python 3",
   "language": "python",
   "name": "python3"
  },
  "language_info": {
   "codemirror_mode": {
    "name": "ipython",
    "version": 3
   },
   "file_extension": ".py",
   "mimetype": "text/x-python",
   "name": "python",
   "nbconvert_exporter": "python",
   "pygments_lexer": "ipython3",
   "version": "3.7.4"
  }
 },
 "nbformat": 4,
 "nbformat_minor": 4
}
