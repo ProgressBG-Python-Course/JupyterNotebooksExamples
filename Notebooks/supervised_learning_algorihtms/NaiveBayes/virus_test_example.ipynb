{
 "cells": [
  {
   "cell_type": "markdown",
   "metadata": {},
   "source": [
    "# Naive Bayess - virus test"
   ]
  },
  {
   "attachments": {},
   "cell_type": "markdown",
   "metadata": {},
   "source": [
    "<b>Given</b>: imagine a virus, that affects <span class=\"note\">1%</span> of the population. Let's have a test, which has:\n",
    "\n",
    "90% specifity - test gives positive result for <span class=\"note\">90%</span> of people who have that virus (true positive). \n",
    "\n",
    "95% sensitivity - the test gives a negative result for <span class=\"note\">95%</span> of the people who are virus-free (true negative).\n",
    "\n",
    "<b>Question</b>: a person received a positive test result - what is the probability that he have the virus?"
   ]
  },
  {
   "cell_type": "markdown",
   "metadata": {},
   "source": [
    "### Represent as Tree Diagram"
   ]
  },
  {
   "attachments": {},
   "cell_type": "markdown",
   "metadata": {},
   "source": [
    "\n",
    "![tree_diagram-virus_test_example](./images/diagrams/tree_diagram_new-virus_test_example.png)\n"
   ]
  },
  {
   "cell_type": "markdown",
   "metadata": {},
   "source": [
    "### Formalize"
   ]
  },
  {
   "attachments": {},
   "cell_type": "markdown",
   "metadata": {},
   "source": [
    "P(virus) = 0.01<br>\n",
    "P(non_virus) = 0.99\n",
    "\n",
    "P(test_positive|virus) = 0.9<br>\n",
    "P(test_negative|virus) = 0.1<br>\n",
    "\n",
    "P(test_negative|non_virus) = 0.95<br>\n",
    "P(test_positive|non_virus) = 0.05<br>\n",
    "\n",
    "P(virus|tests_positive) = ?\n",
    "\n",
    "From Bayes' Theorem\n",
    "\n",
    "<div style=\"font-style:normal; font-size:1.4em\">\n",
    "\n",
    "$P(virus|tests\\_positive) = \\frac{P(test\\_positive|virus) *P(virus)}{P(test\\_positive)}$\n",
    "\n",
    "</div>"
   ]
  },
  {
   "attachments": {},
   "cell_type": "markdown",
   "metadata": {},
   "source": [
    "## Solution\n",
    "We know P(test_positive|virus) and P(virus). We must find P(test_positive):\n",
    "\n",
    "P(test_positive) = TP + FP = (0.01 * 0.9) + (0.99 * 0.05) = 0,0585\n",
    "\n",
    "Now, we can calculate that:\n",
    "<div style=\"font-style:normal; font-size:1.4em\">\n",
    "\n",
    "$P(virus|tests\\_positive) = \\frac{0.9 * 0.01}{0.0585} = 0,153846154$\n",
    "\n",
    "</div>"
   ]
  },
  {
   "cell_type": "code",
   "execution_count": 1,
   "metadata": {},
   "outputs": [
    {
     "name": "stdout",
     "output_type": "stream",
     "text": [
      "0.15384615384615385\n"
     ]
    }
   ],
   "source": [
    "# given\n",
    "p_virus = 0.01\n",
    "p_test_positive_given_virus = 0.9\n",
    "p_test_positive_given_non_virus = 0.05\n",
    "\n",
    "# calculate from given:\n",
    "p_test_positive = p_virus * p_test_positive_given_virus + (1 - p_virus) * p_test_positive_given_non_virus\n",
    "# ( 0.01*0.9  + (1-0.01)*0.05)\n",
    "\n",
    "# calculate p(virus|tests_positive):\n",
    "p_virus_given_test_positive = (p_virus * p_test_positive_given_virus)/p_test_positive\n",
    "\n",
    "\n",
    "print(p_virus_given_test_positive)"
   ]
  }
 ],
 "metadata": {
  "kernelspec": {
   "display_name": ".venv",
   "language": "python",
   "name": "python3"
  },
  "language_info": {
   "codemirror_mode": {
    "name": "ipython",
    "version": 3
   },
   "file_extension": ".py",
   "mimetype": "text/x-python",
   "name": "python",
   "nbconvert_exporter": "python",
   "pygments_lexer": "ipython3",
   "version": "3.9.12"
  },
  "vscode": {
   "interpreter": {
    "hash": "80d53e83da47a8dbd3f05a73e91e3e7dbf0e420a2da730c28d0eaee714054d51"
   }
  }
 },
 "nbformat": 4,
 "nbformat_minor": 4
}
