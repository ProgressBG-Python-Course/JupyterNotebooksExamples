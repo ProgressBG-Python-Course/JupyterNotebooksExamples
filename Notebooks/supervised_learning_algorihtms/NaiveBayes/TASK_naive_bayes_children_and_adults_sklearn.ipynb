{
 "cells": [
  {
   "cell_type": "code",
   "execution_count": 1,
   "metadata": {},
   "outputs": [],
   "source": [
    "import numpy as np\n",
    "import pandas as pd\n",
    "\n",
    "from sklearn import datasets\n",
    "from sklearn.model_selection import train_test_split\n",
    "\n",
    "from sklearn.naive_bayes import GaussianNB\n",
    "from sklearn.metrics import accuracy_score, classification_report\n",
    "\n",
    "import matplotlib.pyplot as plt\n",
    "import seaborn as sns\n",
    "\n",
    "import warnings\n",
    "warnings.filterwarnings('ignore')"
   ]
  },
  {
   "cell_type": "markdown",
   "metadata": {},
   "source": [
    "## Define the problem"
   ]
  },
  {
   "cell_type": "markdown",
   "metadata": {},
   "source": [
    "**Given**: set of individuals heights and weights, labeled as 'Adult' (1) and 'Child' (0)  \n",
    "    40 children -> Gaussian([120, 50], [[90,10 ],[10, 40]])  \n",
    "    120 adults -> Gaussian([150, 80], [[60, 10],[10, 40]])  \n",
    "\n",
    "**Goal**: Fit a naive Bayesian Classifier, to classify next data:\n",
    "    [[180,90],[110,20], [130, 60]]"
   ]
  },
  {
   "cell_type": "markdown",
   "metadata": {},
   "source": [
    "## Prepare the data (Data Preprocessing)\n",
    "\n",
    "In next example we will generate the data"
   ]
  },
  {
   "cell_type": "code",
   "execution_count": 2,
   "metadata": {},
   "outputs": [],
   "source": [
    "# Set random seed for reproducibility\n",
    "np.random.seed(42)\n",
    "\n",
    "# Define the mean and covariance matrix for children\n",
    "# children_mean: [120, 50] -> mean height is 120 cm, mean weight is 50 kg\n",
    "# children_cov: covariance matrix for height and weight\n",
    "# 90 is the variance of height, 40 is the variance of weight, and 10 is the covariance between them\n",
    "children_mean = [120, 50]\n",
    "children_cov = [[90, 10], [10, 40]]\n",
    "\n",
    "# Define the mean and covariance matrix for adults\n",
    "# adults_mean: [150, 80] -> mean height is 150 cm, mean weight is 80 kg\n",
    "# adults_cov: covariance matrix for height and weight\n",
    "# 60 is the variance of height, 40 is the variance of weight, and 10 is the covariance between them\n",
    "adults_mean = [150, 80]\n",
    "adults_cov = [[60, 10], [10, 40]]  # Increase variance and reduce correlation\n",
    "\n",
    "# Generate data for 40 children\n",
    "children_data = np.random.multivariate_normal(children_mean, children_cov, 40)\n",
    "children_labels = np.zeros(40)  # Label children as 0\n",
    "\n",
    "# Generate data for 120 adults\n",
    "adults_data = np.random.multivariate_normal(adults_mean, adults_cov, 120)\n",
    "adults_labels = np.ones(120)  # Label adults as 1\n",
    "\n",
    "# Combine the data and labels\n",
    "heights_weights = np.vstack((children_data, adults_data))\n",
    "labels = np.hstack((children_labels, adults_labels))\n",
    "\n",
    "# Create a DataFrame for easier handling\n",
    "df = pd.DataFrame(heights_weights, columns=['height', 'weight'])\n",
    "df['label'] = labels\n"
   ]
  },
  {
   "cell_type": "markdown",
   "metadata": {},
   "source": [
    "### Load the data"
   ]
  },
  {
   "cell_type": "markdown",
   "metadata": {},
   "source": [
    "### Get insight of the data (Prepare and clean)"
   ]
  },
  {
   "cell_type": "code",
   "execution_count": 3,
   "metadata": {},
   "outputs": [],
   "source": [
    "# Display the first and last 3 of the generated data"
   ]
  },
  {
   "cell_type": "markdown",
   "metadata": {},
   "source": [
    "#### Visualize with Seaborn"
   ]
  },
  {
   "cell_type": "code",
   "execution_count": 4,
   "metadata": {},
   "outputs": [],
   "source": [
    "# ax = sns.scatterplot(x=df.weight, y=df.height, hue=df.label)"
   ]
  },
  {
   "cell_type": "markdown",
   "metadata": {
    "code_folding": []
   },
   "source": [
    "## Select features"
   ]
  },
  {
   "cell_type": "code",
   "execution_count": 5,
   "metadata": {},
   "outputs": [],
   "source": [
    "# Define X and y"
   ]
  },
  {
   "cell_type": "markdown",
   "metadata": {},
   "source": [
    "## Separate the training data from the test data"
   ]
  },
  {
   "cell_type": "code",
   "execution_count": 6,
   "metadata": {},
   "outputs": [],
   "source": [
    "# split into X_train, X_test, y_train, y_test"
   ]
  },
  {
   "cell_type": "markdown",
   "metadata": {},
   "source": [
    "##  Choose the model"
   ]
  },
  {
   "cell_type": "code",
   "execution_count": 7,
   "metadata": {},
   "outputs": [],
   "source": []
  },
  {
   "cell_type": "markdown",
   "metadata": {},
   "source": [
    "## Train the model (fit the model)"
   ]
  },
  {
   "cell_type": "code",
   "execution_count": null,
   "metadata": {},
   "outputs": [],
   "source": []
  },
  {
   "cell_type": "markdown",
   "metadata": {},
   "source": [
    "## Predict (classify unknown input sample)"
   ]
  },
  {
   "cell_type": "code",
   "execution_count": 9,
   "metadata": {},
   "outputs": [],
   "source": []
  },
  {
   "cell_type": "markdown",
   "metadata": {},
   "source": [
    "## Evaluate the model"
   ]
  },
  {
   "cell_type": "markdown",
   "metadata": {},
   "source": [
    "Check the Precision and recall of the system"
   ]
  },
  {
   "cell_type": "code",
   "execution_count": 7,
   "metadata": {},
   "outputs": [],
   "source": [
    "# print(classification_report(y_test, y_pred, target_names=['children', 'adults']))"
   ]
  }
 ],
 "metadata": {
  "jupytext": {},
  "kernelspec": {
   "display_name": ".venv",
   "language": "python",
   "name": "python3"
  },
  "language_info": {
   "codemirror_mode": {
    "name": "ipython",
    "version": 3
   },
   "file_extension": ".py",
   "mimetype": "text/x-python",
   "name": "python",
   "nbconvert_exporter": "python",
   "pygments_lexer": "ipython3",
   "version": "3.12.3"
  },
  "toc": {
   "base_numbering": 1,
   "nav_menu": {},
   "number_sections": true,
   "sideBar": true,
   "skip_h1_title": true,
   "title_cell": "Table of Contents",
   "title_sidebar": "Content",
   "toc_cell": false,
   "toc_position": {
    "height": "calc(100% - 180px)",
    "left": "10px",
    "top": "150px",
    "width": "165px"
   },
   "toc_section_display": true,
   "toc_window_display": true
  },
  "vscode": {
   "interpreter": {
    "hash": "80d53e83da47a8dbd3f05a73e91e3e7dbf0e420a2da730c28d0eaee714054d51"
   }
  }
 },
 "nbformat": 4,
 "nbformat_minor": 4
}
