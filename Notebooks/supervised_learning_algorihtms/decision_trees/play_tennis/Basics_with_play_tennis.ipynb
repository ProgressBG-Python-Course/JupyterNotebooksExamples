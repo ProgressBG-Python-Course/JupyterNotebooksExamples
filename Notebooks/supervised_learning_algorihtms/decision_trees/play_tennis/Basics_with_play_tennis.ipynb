{
 "cells": [
  {
   "cell_type": "code",
   "execution_count": 2,
   "metadata": {},
   "outputs": [],
   "source": [
    "import numpy as np\n",
    "import pandas as pd\n",
    "\n",
    "from sklearn.model_selection import train_test_split\n",
    "from sklearn import tree,metrics\n",
    "\n",
    "\n",
    "from IPython.display import Image, display\n",
    "# from utils import plot_decision\n",
    "\n",
    "# from sklearn import tree\n",
    "# import pydotplus\n",
    "from sklearn.tree import DecisionTreeClassifier, export_graphviz\n",
    "from IPython.display import Image, display\n",
    "# from utils import plot_decision"
   ]
  },
  {
   "cell_type": "markdown",
   "metadata": {},
   "source": [
    "## What are decision trees\n",
    "\n",
    "Decision trees are a popular supervised learning algorithm used for both classification and regression tasks.\n",
    "\n",
    "They model decisions in the form of a tree, where each internal node represents a feature, each branch represents a decision rule, and each leaf represents an outcome."
   ]
  },
  {
   "cell_type": "markdown",
   "metadata": {},
   "source": [
    "<ul>\n",
    "    <li>Extensive usage of Information Theory</li>\n",
    "    <li>Decision trees can be regarded as a set of <code>if-then</code> rules.</li>\n",
    "    <li>Or formally speaking, Decision trees represent a <span class=\"note\">disjunction of conjunctive clauses</span></li>\n",
    "    <li>A hierarchical data structure that represents data by implementing a <a href=\"https://en.wiktionary.org/wiki/divide_and_conquer\">divide and conquer</a> strategy</li>\n",
    "    <li>Can be used with continuous or categorical input and target features</li>\n",
    "    <li>Trees can be applied to both regression and classification problems</li>\n",
    "    <li>Regression Trees and Decision trees</li>\n",
    "</ul>\n",
    "\n",
    "<a href=\"images/DecisionTree_PlayTennis.png\"><img src=\"images/DecisionTree_PlayTennis.png\" alt=\"\"></a>"
   ]
  },
  {
   "cell_type": "markdown",
   "metadata": {},
   "source": [
    "## Data insights"
   ]
  },
  {
   "cell_type": "code",
   "execution_count": 24,
   "metadata": {},
   "outputs": [
    {
     "data": {
      "text/html": [
       "<div>\n",
       "<style scoped>\n",
       "    .dataframe tbody tr th:only-of-type {\n",
       "        vertical-align: middle;\n",
       "    }\n",
       "\n",
       "    .dataframe tbody tr th {\n",
       "        vertical-align: top;\n",
       "    }\n",
       "\n",
       "    .dataframe thead th {\n",
       "        text-align: right;\n",
       "    }\n",
       "</style>\n",
       "<table border=\"1\" class=\"dataframe\">\n",
       "  <thead>\n",
       "    <tr style=\"text-align: right;\">\n",
       "      <th></th>\n",
       "      <th>Outlook</th>\n",
       "      <th>Humidity</th>\n",
       "      <th>Wind</th>\n",
       "      <th>Play</th>\n",
       "    </tr>\n",
       "  </thead>\n",
       "  <tbody>\n",
       "    <tr>\n",
       "      <th>0</th>\n",
       "      <td>Sunny</td>\n",
       "      <td>High</td>\n",
       "      <td>Weak</td>\n",
       "      <td>No</td>\n",
       "    </tr>\n",
       "    <tr>\n",
       "      <th>1</th>\n",
       "      <td>Sunny</td>\n",
       "      <td>High</td>\n",
       "      <td>Strong</td>\n",
       "      <td>No</td>\n",
       "    </tr>\n",
       "    <tr>\n",
       "      <th>2</th>\n",
       "      <td>Overcast</td>\n",
       "      <td>High</td>\n",
       "      <td>Weak</td>\n",
       "      <td>Yes</td>\n",
       "    </tr>\n",
       "    <tr>\n",
       "      <th>3</th>\n",
       "      <td>Rain</td>\n",
       "      <td>High</td>\n",
       "      <td>Weak</td>\n",
       "      <td>Yes</td>\n",
       "    </tr>\n",
       "    <tr>\n",
       "      <th>4</th>\n",
       "      <td>Rain</td>\n",
       "      <td>Normal</td>\n",
       "      <td>Weak</td>\n",
       "      <td>Yes</td>\n",
       "    </tr>\n",
       "  </tbody>\n",
       "</table>\n",
       "</div>"
      ],
      "text/plain": [
       "    Outlook Humidity    Wind Play\n",
       "0     Sunny     High    Weak   No\n",
       "1     Sunny     High  Strong   No\n",
       "2  Overcast     High    Weak  Yes\n",
       "3      Rain     High    Weak  Yes\n",
       "4      Rain   Normal    Weak  Yes"
      ]
     },
     "execution_count": 24,
     "metadata": {},
     "output_type": "execute_result"
    }
   ],
   "source": [
    "df = pd.read_csv('./play_tennis_data.csv')\n",
    "df.head()"
   ]
  },
  {
   "cell_type": "code",
   "execution_count": 25,
   "metadata": {},
   "outputs": [
    {
     "data": {
      "text/html": [
       "<style type=\"text/css\">\n",
       "#T_98648_row0_col0, #T_98648_row0_col1, #T_98648_row0_col2, #T_98648_row0_col3, #T_98648_row1_col0, #T_98648_row1_col1, #T_98648_row1_col2, #T_98648_row1_col3, #T_98648_row5_col0, #T_98648_row5_col1, #T_98648_row5_col2, #T_98648_row5_col3, #T_98648_row7_col0, #T_98648_row7_col1, #T_98648_row7_col2, #T_98648_row7_col3, #T_98648_row13_col0, #T_98648_row13_col1, #T_98648_row13_col2, #T_98648_row13_col3 {\n",
       "  color: red;\n",
       "}\n",
       "#T_98648_row2_col0, #T_98648_row2_col1, #T_98648_row2_col2, #T_98648_row2_col3, #T_98648_row3_col0, #T_98648_row3_col1, #T_98648_row3_col2, #T_98648_row3_col3, #T_98648_row4_col0, #T_98648_row4_col1, #T_98648_row4_col2, #T_98648_row4_col3, #T_98648_row6_col0, #T_98648_row6_col1, #T_98648_row6_col2, #T_98648_row6_col3, #T_98648_row8_col0, #T_98648_row8_col1, #T_98648_row8_col2, #T_98648_row8_col3, #T_98648_row9_col0, #T_98648_row9_col1, #T_98648_row9_col2, #T_98648_row9_col3, #T_98648_row10_col0, #T_98648_row10_col1, #T_98648_row10_col2, #T_98648_row10_col3, #T_98648_row11_col0, #T_98648_row11_col1, #T_98648_row11_col2, #T_98648_row11_col3, #T_98648_row12_col0, #T_98648_row12_col1, #T_98648_row12_col2, #T_98648_row12_col3 {\n",
       "  color: green;\n",
       "}\n",
       "</style>\n",
       "<table id=\"T_98648\">\n",
       "  <thead>\n",
       "    <tr>\n",
       "      <th class=\"blank level0\" >&nbsp;</th>\n",
       "      <th id=\"T_98648_level0_col0\" class=\"col_heading level0 col0\" >Outlook</th>\n",
       "      <th id=\"T_98648_level0_col1\" class=\"col_heading level0 col1\" >Humidity</th>\n",
       "      <th id=\"T_98648_level0_col2\" class=\"col_heading level0 col2\" >Wind</th>\n",
       "      <th id=\"T_98648_level0_col3\" class=\"col_heading level0 col3\" >Play</th>\n",
       "    </tr>\n",
       "  </thead>\n",
       "  <tbody>\n",
       "    <tr>\n",
       "      <th id=\"T_98648_level0_row0\" class=\"row_heading level0 row0\" >0</th>\n",
       "      <td id=\"T_98648_row0_col0\" class=\"data row0 col0\" >Sunny</td>\n",
       "      <td id=\"T_98648_row0_col1\" class=\"data row0 col1\" >High</td>\n",
       "      <td id=\"T_98648_row0_col2\" class=\"data row0 col2\" >Weak</td>\n",
       "      <td id=\"T_98648_row0_col3\" class=\"data row0 col3\" >No</td>\n",
       "    </tr>\n",
       "    <tr>\n",
       "      <th id=\"T_98648_level0_row1\" class=\"row_heading level0 row1\" >1</th>\n",
       "      <td id=\"T_98648_row1_col0\" class=\"data row1 col0\" >Sunny</td>\n",
       "      <td id=\"T_98648_row1_col1\" class=\"data row1 col1\" >High</td>\n",
       "      <td id=\"T_98648_row1_col2\" class=\"data row1 col2\" >Strong</td>\n",
       "      <td id=\"T_98648_row1_col3\" class=\"data row1 col3\" >No</td>\n",
       "    </tr>\n",
       "    <tr>\n",
       "      <th id=\"T_98648_level0_row2\" class=\"row_heading level0 row2\" >2</th>\n",
       "      <td id=\"T_98648_row2_col0\" class=\"data row2 col0\" >Overcast</td>\n",
       "      <td id=\"T_98648_row2_col1\" class=\"data row2 col1\" >High</td>\n",
       "      <td id=\"T_98648_row2_col2\" class=\"data row2 col2\" >Weak</td>\n",
       "      <td id=\"T_98648_row2_col3\" class=\"data row2 col3\" >Yes</td>\n",
       "    </tr>\n",
       "    <tr>\n",
       "      <th id=\"T_98648_level0_row3\" class=\"row_heading level0 row3\" >3</th>\n",
       "      <td id=\"T_98648_row3_col0\" class=\"data row3 col0\" >Rain</td>\n",
       "      <td id=\"T_98648_row3_col1\" class=\"data row3 col1\" >High</td>\n",
       "      <td id=\"T_98648_row3_col2\" class=\"data row3 col2\" >Weak</td>\n",
       "      <td id=\"T_98648_row3_col3\" class=\"data row3 col3\" >Yes</td>\n",
       "    </tr>\n",
       "    <tr>\n",
       "      <th id=\"T_98648_level0_row4\" class=\"row_heading level0 row4\" >4</th>\n",
       "      <td id=\"T_98648_row4_col0\" class=\"data row4 col0\" >Rain</td>\n",
       "      <td id=\"T_98648_row4_col1\" class=\"data row4 col1\" >Normal</td>\n",
       "      <td id=\"T_98648_row4_col2\" class=\"data row4 col2\" >Weak</td>\n",
       "      <td id=\"T_98648_row4_col3\" class=\"data row4 col3\" >Yes</td>\n",
       "    </tr>\n",
       "    <tr>\n",
       "      <th id=\"T_98648_level0_row5\" class=\"row_heading level0 row5\" >5</th>\n",
       "      <td id=\"T_98648_row5_col0\" class=\"data row5 col0\" >Rain</td>\n",
       "      <td id=\"T_98648_row5_col1\" class=\"data row5 col1\" >Normal</td>\n",
       "      <td id=\"T_98648_row5_col2\" class=\"data row5 col2\" >Strong</td>\n",
       "      <td id=\"T_98648_row5_col3\" class=\"data row5 col3\" >No</td>\n",
       "    </tr>\n",
       "    <tr>\n",
       "      <th id=\"T_98648_level0_row6\" class=\"row_heading level0 row6\" >6</th>\n",
       "      <td id=\"T_98648_row6_col0\" class=\"data row6 col0\" >Overcast</td>\n",
       "      <td id=\"T_98648_row6_col1\" class=\"data row6 col1\" >Normal</td>\n",
       "      <td id=\"T_98648_row6_col2\" class=\"data row6 col2\" >Strong</td>\n",
       "      <td id=\"T_98648_row6_col3\" class=\"data row6 col3\" >Yes</td>\n",
       "    </tr>\n",
       "    <tr>\n",
       "      <th id=\"T_98648_level0_row7\" class=\"row_heading level0 row7\" >7</th>\n",
       "      <td id=\"T_98648_row7_col0\" class=\"data row7 col0\" >Sunny</td>\n",
       "      <td id=\"T_98648_row7_col1\" class=\"data row7 col1\" >High</td>\n",
       "      <td id=\"T_98648_row7_col2\" class=\"data row7 col2\" >Weak</td>\n",
       "      <td id=\"T_98648_row7_col3\" class=\"data row7 col3\" >No</td>\n",
       "    </tr>\n",
       "    <tr>\n",
       "      <th id=\"T_98648_level0_row8\" class=\"row_heading level0 row8\" >8</th>\n",
       "      <td id=\"T_98648_row8_col0\" class=\"data row8 col0\" >Sunny</td>\n",
       "      <td id=\"T_98648_row8_col1\" class=\"data row8 col1\" >Normal</td>\n",
       "      <td id=\"T_98648_row8_col2\" class=\"data row8 col2\" >Weak</td>\n",
       "      <td id=\"T_98648_row8_col3\" class=\"data row8 col3\" >Yes</td>\n",
       "    </tr>\n",
       "    <tr>\n",
       "      <th id=\"T_98648_level0_row9\" class=\"row_heading level0 row9\" >9</th>\n",
       "      <td id=\"T_98648_row9_col0\" class=\"data row9 col0\" >Rain</td>\n",
       "      <td id=\"T_98648_row9_col1\" class=\"data row9 col1\" >Normal</td>\n",
       "      <td id=\"T_98648_row9_col2\" class=\"data row9 col2\" >Weak</td>\n",
       "      <td id=\"T_98648_row9_col3\" class=\"data row9 col3\" >Yes</td>\n",
       "    </tr>\n",
       "    <tr>\n",
       "      <th id=\"T_98648_level0_row10\" class=\"row_heading level0 row10\" >10</th>\n",
       "      <td id=\"T_98648_row10_col0\" class=\"data row10 col0\" >Sunny</td>\n",
       "      <td id=\"T_98648_row10_col1\" class=\"data row10 col1\" >Normal</td>\n",
       "      <td id=\"T_98648_row10_col2\" class=\"data row10 col2\" >Strong</td>\n",
       "      <td id=\"T_98648_row10_col3\" class=\"data row10 col3\" >Yes</td>\n",
       "    </tr>\n",
       "    <tr>\n",
       "      <th id=\"T_98648_level0_row11\" class=\"row_heading level0 row11\" >11</th>\n",
       "      <td id=\"T_98648_row11_col0\" class=\"data row11 col0\" >Overcast</td>\n",
       "      <td id=\"T_98648_row11_col1\" class=\"data row11 col1\" >High</td>\n",
       "      <td id=\"T_98648_row11_col2\" class=\"data row11 col2\" >Strong</td>\n",
       "      <td id=\"T_98648_row11_col3\" class=\"data row11 col3\" >Yes</td>\n",
       "    </tr>\n",
       "    <tr>\n",
       "      <th id=\"T_98648_level0_row12\" class=\"row_heading level0 row12\" >12</th>\n",
       "      <td id=\"T_98648_row12_col0\" class=\"data row12 col0\" >Overcast</td>\n",
       "      <td id=\"T_98648_row12_col1\" class=\"data row12 col1\" >Normal</td>\n",
       "      <td id=\"T_98648_row12_col2\" class=\"data row12 col2\" >Weak</td>\n",
       "      <td id=\"T_98648_row12_col3\" class=\"data row12 col3\" >Yes</td>\n",
       "    </tr>\n",
       "    <tr>\n",
       "      <th id=\"T_98648_level0_row13\" class=\"row_heading level0 row13\" >13</th>\n",
       "      <td id=\"T_98648_row13_col0\" class=\"data row13 col0\" >Rain</td>\n",
       "      <td id=\"T_98648_row13_col1\" class=\"data row13 col1\" >High</td>\n",
       "      <td id=\"T_98648_row13_col2\" class=\"data row13 col2\" >Strong</td>\n",
       "      <td id=\"T_98648_row13_col3\" class=\"data row13 col3\" >No</td>\n",
       "    </tr>\n",
       "  </tbody>\n",
       "</table>\n"
      ],
      "text/plain": [
       "<pandas.io.formats.style.Styler at 0x7fb356c6a150>"
      ]
     },
     "execution_count": 25,
     "metadata": {},
     "output_type": "execute_result"
    }
   ],
   "source": [
    "def highlight_play(row):\n",
    "    '''Function to apply color based on the value in the 'Play' column'''\n",
    "    color = 'red' if row['Play'] == 'No' else 'green'\n",
    "    return [f'color:{color}'] * len(row)\n",
    "\n",
    "# Show data with colors\n",
    "df.style.apply(highlight_play, axis=1)\n"
   ]
  },
  {
   "cell_type": "code",
   "execution_count": 22,
   "metadata": {},
   "outputs": [
    {
     "data": {
      "text/html": [
       "<div>\n",
       "<style scoped>\n",
       "    .dataframe tbody tr th:only-of-type {\n",
       "        vertical-align: middle;\n",
       "    }\n",
       "\n",
       "    .dataframe tbody tr th {\n",
       "        vertical-align: top;\n",
       "    }\n",
       "\n",
       "    .dataframe thead th {\n",
       "        text-align: right;\n",
       "    }\n",
       "</style>\n",
       "<table border=\"1\" class=\"dataframe\">\n",
       "  <thead>\n",
       "    <tr style=\"text-align: right;\">\n",
       "      <th></th>\n",
       "      <th></th>\n",
       "      <th>Day</th>\n",
       "      <th>Wind</th>\n",
       "      <th>Play</th>\n",
       "    </tr>\n",
       "    <tr>\n",
       "      <th>Outlook</th>\n",
       "      <th>Humidity</th>\n",
       "      <th></th>\n",
       "      <th></th>\n",
       "      <th></th>\n",
       "    </tr>\n",
       "  </thead>\n",
       "  <tbody>\n",
       "    <tr>\n",
       "      <th rowspan=\"2\" valign=\"top\">Sunny</th>\n",
       "      <th>High</th>\n",
       "      <td>D1</td>\n",
       "      <td>Weak</td>\n",
       "      <td>No</td>\n",
       "    </tr>\n",
       "    <tr>\n",
       "      <th>High</th>\n",
       "      <td>D2</td>\n",
       "      <td>Strong</td>\n",
       "      <td>No</td>\n",
       "    </tr>\n",
       "    <tr>\n",
       "      <th>Rain</th>\n",
       "      <th>Normal</th>\n",
       "      <td>D6</td>\n",
       "      <td>Strong</td>\n",
       "      <td>No</td>\n",
       "    </tr>\n",
       "    <tr>\n",
       "      <th>Sunny</th>\n",
       "      <th>High</th>\n",
       "      <td>D8</td>\n",
       "      <td>Weak</td>\n",
       "      <td>No</td>\n",
       "    </tr>\n",
       "    <tr>\n",
       "      <th>Rain</th>\n",
       "      <th>High</th>\n",
       "      <td>D14</td>\n",
       "      <td>Strong</td>\n",
       "      <td>No</td>\n",
       "    </tr>\n",
       "    <tr>\n",
       "      <th>Overcast</th>\n",
       "      <th>High</th>\n",
       "      <td>D3</td>\n",
       "      <td>Weak</td>\n",
       "      <td>Yes</td>\n",
       "    </tr>\n",
       "    <tr>\n",
       "      <th rowspan=\"2\" valign=\"top\">Rain</th>\n",
       "      <th>High</th>\n",
       "      <td>D4</td>\n",
       "      <td>Weak</td>\n",
       "      <td>Yes</td>\n",
       "    </tr>\n",
       "    <tr>\n",
       "      <th>Normal</th>\n",
       "      <td>D5</td>\n",
       "      <td>Weak</td>\n",
       "      <td>Yes</td>\n",
       "    </tr>\n",
       "    <tr>\n",
       "      <th>Overcast</th>\n",
       "      <th>Normal</th>\n",
       "      <td>D7</td>\n",
       "      <td>Strong</td>\n",
       "      <td>Yes</td>\n",
       "    </tr>\n",
       "    <tr>\n",
       "      <th>Sunny</th>\n",
       "      <th>Normal</th>\n",
       "      <td>D9</td>\n",
       "      <td>Weak</td>\n",
       "      <td>Yes</td>\n",
       "    </tr>\n",
       "    <tr>\n",
       "      <th>Rain</th>\n",
       "      <th>Normal</th>\n",
       "      <td>D10</td>\n",
       "      <td>Weak</td>\n",
       "      <td>Yes</td>\n",
       "    </tr>\n",
       "    <tr>\n",
       "      <th>Sunny</th>\n",
       "      <th>Normal</th>\n",
       "      <td>D11</td>\n",
       "      <td>Strong</td>\n",
       "      <td>Yes</td>\n",
       "    </tr>\n",
       "    <tr>\n",
       "      <th rowspan=\"2\" valign=\"top\">Overcast</th>\n",
       "      <th>High</th>\n",
       "      <td>D12</td>\n",
       "      <td>Strong</td>\n",
       "      <td>Yes</td>\n",
       "    </tr>\n",
       "    <tr>\n",
       "      <th>Normal</th>\n",
       "      <td>D13</td>\n",
       "      <td>Weak</td>\n",
       "      <td>Yes</td>\n",
       "    </tr>\n",
       "  </tbody>\n",
       "</table>\n",
       "</div>"
      ],
      "text/plain": [
       "                   Day    Wind Play\n",
       "Outlook  Humidity                  \n",
       "Sunny    High       D1    Weak   No\n",
       "         High       D2  Strong   No\n",
       "Rain     Normal     D6  Strong   No\n",
       "Sunny    High       D8    Weak   No\n",
       "Rain     High      D14  Strong   No\n",
       "Overcast High       D3    Weak  Yes\n",
       "Rain     High       D4    Weak  Yes\n",
       "         Normal     D5    Weak  Yes\n",
       "Overcast Normal     D7  Strong  Yes\n",
       "Sunny    Normal     D9    Weak  Yes\n",
       "Rain     Normal    D10    Weak  Yes\n",
       "Sunny    Normal    D11  Strong  Yes\n",
       "Overcast High      D12  Strong  Yes\n",
       "         Normal    D13    Weak  Yes"
      ]
     },
     "execution_count": 22,
     "metadata": {},
     "output_type": "execute_result"
    }
   ],
   "source": [
    "outlook_humidity = df.set_index(['Outlook', 'Humidity']).sort_values('Play')\n",
    "outlook_humidity"
   ]
  },
  {
   "cell_type": "code",
   "execution_count": 23,
   "metadata": {
    "scrolled": true
   },
   "outputs": [
    {
     "ename": "KeyError",
     "evalue": "\"None of ['outlook', 'windy'] are in the columns\"",
     "output_type": "error",
     "traceback": [
      "\u001b[0;31m---------------------------------------------------------------------------\u001b[0m",
      "\u001b[0;31mKeyError\u001b[0m                                  Traceback (most recent call last)",
      "\u001b[0;32m/tmp/ipykernel_69942/3864935855.py\u001b[0m in \u001b[0;36m?\u001b[0;34m()\u001b[0m\n\u001b[0;32m----> 1\u001b[0;31m \u001b[0moutlook_windy\u001b[0m \u001b[0;34m=\u001b[0m \u001b[0mdf\u001b[0m\u001b[0;34m.\u001b[0m\u001b[0mset_index\u001b[0m\u001b[0;34m(\u001b[0m\u001b[0;34m[\u001b[0m\u001b[0;34m'outlook'\u001b[0m\u001b[0;34m,\u001b[0m \u001b[0;34m'windy'\u001b[0m\u001b[0;34m]\u001b[0m\u001b[0;34m)\u001b[0m\u001b[0;34m.\u001b[0m\u001b[0msort_values\u001b[0m\u001b[0;34m(\u001b[0m\u001b[0;34m'play'\u001b[0m\u001b[0;34m)\u001b[0m\u001b[0;34m\u001b[0m\u001b[0;34m\u001b[0m\u001b[0m\n\u001b[0m\u001b[1;32m      2\u001b[0m \u001b[0moutlook_windy\u001b[0m\u001b[0;34m.\u001b[0m\u001b[0msort_index\u001b[0m\u001b[0;34m(\u001b[0m\u001b[0;34m)\u001b[0m\u001b[0;34m\u001b[0m\u001b[0;34m\u001b[0m\u001b[0m\n",
      "\u001b[0;32m/media/nemsys/data/projects/courses/common/JupyterNotebooksExamples/.venv/lib/python3.12/site-packages/pandas/core/frame.py\u001b[0m in \u001b[0;36m?\u001b[0;34m(self, keys, drop, append, inplace, verify_integrity)\u001b[0m\n\u001b[1;32m   6118\u001b[0m                     \u001b[0;32mif\u001b[0m \u001b[0;32mnot\u001b[0m \u001b[0mfound\u001b[0m\u001b[0;34m:\u001b[0m\u001b[0;34m\u001b[0m\u001b[0;34m\u001b[0m\u001b[0m\n\u001b[1;32m   6119\u001b[0m                         \u001b[0mmissing\u001b[0m\u001b[0;34m.\u001b[0m\u001b[0mappend\u001b[0m\u001b[0;34m(\u001b[0m\u001b[0mcol\u001b[0m\u001b[0;34m)\u001b[0m\u001b[0;34m\u001b[0m\u001b[0;34m\u001b[0m\u001b[0m\n\u001b[1;32m   6120\u001b[0m \u001b[0;34m\u001b[0m\u001b[0m\n\u001b[1;32m   6121\u001b[0m         \u001b[0;32mif\u001b[0m \u001b[0mmissing\u001b[0m\u001b[0;34m:\u001b[0m\u001b[0;34m\u001b[0m\u001b[0;34m\u001b[0m\u001b[0m\n\u001b[0;32m-> 6122\u001b[0;31m             \u001b[0;32mraise\u001b[0m \u001b[0mKeyError\u001b[0m\u001b[0;34m(\u001b[0m\u001b[0;34mf\"\u001b[0m\u001b[0;34mNone of \u001b[0m\u001b[0;34m{\u001b[0m\u001b[0mmissing\u001b[0m\u001b[0;34m}\u001b[0m\u001b[0;34m are in the columns\u001b[0m\u001b[0;34m\"\u001b[0m\u001b[0;34m)\u001b[0m\u001b[0;34m\u001b[0m\u001b[0;34m\u001b[0m\u001b[0m\n\u001b[0m\u001b[1;32m   6123\u001b[0m \u001b[0;34m\u001b[0m\u001b[0m\n\u001b[1;32m   6124\u001b[0m         \u001b[0;32mif\u001b[0m \u001b[0minplace\u001b[0m\u001b[0;34m:\u001b[0m\u001b[0;34m\u001b[0m\u001b[0;34m\u001b[0m\u001b[0m\n\u001b[1;32m   6125\u001b[0m             \u001b[0mframe\u001b[0m \u001b[0;34m=\u001b[0m \u001b[0mself\u001b[0m\u001b[0;34m\u001b[0m\u001b[0;34m\u001b[0m\u001b[0m\n",
      "\u001b[0;31mKeyError\u001b[0m: \"None of ['outlook', 'windy'] are in the columns\""
     ]
    }
   ],
   "source": [
    "outlook_windy = df.set_index(['outlook', 'windy']).sort_values('play')\n",
    "outlook_windy.sort_index()"
   ]
  },
  {
   "cell_type": "markdown",
   "metadata": {},
   "source": [
    "## Prepare data\n",
    "\n",
    "### Categorical attributes to values"
   ]
  },
  {
   "cell_type": "code",
   "execution_count": 234,
   "metadata": {},
   "outputs": [
    {
     "name": "stdout",
     "output_type": "stream",
     "text": [
      "['outlook' 'humidity' 'windy']\n",
      "['play']\n"
     ]
    }
   ],
   "source": [
    "attribute_names = df.columns[:-1].values\n",
    "class_name = df.columns[-1:].values\n",
    "\n",
    "print(attribute_names)\n",
    "print(class_name)\n",
    "\n",
    "# categorize attributes\n",
    "for column in attribute_names:\n",
    "    df[column] = pd.factorize(df[column])[0]\n",
    "\n",
    "# categorize class values\n",
    "df[class_name] = df[class_name].replace('yes', 1)\n",
    "df[class_name] = df[class_name].replace('no', 0)\n",
    "# df"
   ]
  },
  {
   "cell_type": "markdown",
   "metadata": {},
   "source": [
    "## Split to train/test sets"
   ]
  },
  {
   "cell_type": "code",
   "execution_count": 244,
   "metadata": {},
   "outputs": [
    {
     "data": {
      "text/html": [
       "<div>\n",
       "<style scoped>\n",
       "    .dataframe tbody tr th:only-of-type {\n",
       "        vertical-align: middle;\n",
       "    }\n",
       "\n",
       "    .dataframe tbody tr th {\n",
       "        vertical-align: top;\n",
       "    }\n",
       "\n",
       "    .dataframe thead th {\n",
       "        text-align: right;\n",
       "    }\n",
       "</style>\n",
       "<table border=\"1\" class=\"dataframe\">\n",
       "  <thead>\n",
       "    <tr style=\"text-align: right;\">\n",
       "      <th></th>\n",
       "      <th>outlook</th>\n",
       "      <th>humidity</th>\n",
       "      <th>windy</th>\n",
       "    </tr>\n",
       "  </thead>\n",
       "  <tbody>\n",
       "    <tr>\n",
       "      <th>6</th>\n",
       "      <td>1</td>\n",
       "      <td>1</td>\n",
       "      <td>1</td>\n",
       "    </tr>\n",
       "    <tr>\n",
       "      <th>8</th>\n",
       "      <td>0</td>\n",
       "      <td>1</td>\n",
       "      <td>0</td>\n",
       "    </tr>\n",
       "    <tr>\n",
       "      <th>10</th>\n",
       "      <td>0</td>\n",
       "      <td>1</td>\n",
       "      <td>1</td>\n",
       "    </tr>\n",
       "    <tr>\n",
       "      <th>9</th>\n",
       "      <td>2</td>\n",
       "      <td>1</td>\n",
       "      <td>0</td>\n",
       "    </tr>\n",
       "    <tr>\n",
       "      <th>2</th>\n",
       "      <td>1</td>\n",
       "      <td>0</td>\n",
       "      <td>0</td>\n",
       "    </tr>\n",
       "    <tr>\n",
       "      <th>0</th>\n",
       "      <td>0</td>\n",
       "      <td>0</td>\n",
       "      <td>0</td>\n",
       "    </tr>\n",
       "    <tr>\n",
       "      <th>1</th>\n",
       "      <td>0</td>\n",
       "      <td>0</td>\n",
       "      <td>1</td>\n",
       "    </tr>\n",
       "    <tr>\n",
       "      <th>12</th>\n",
       "      <td>1</td>\n",
       "      <td>1</td>\n",
       "      <td>0</td>\n",
       "    </tr>\n",
       "    <tr>\n",
       "      <th>11</th>\n",
       "      <td>1</td>\n",
       "      <td>0</td>\n",
       "      <td>1</td>\n",
       "    </tr>\n",
       "  </tbody>\n",
       "</table>\n",
       "</div>"
      ],
      "text/plain": [
       "    outlook  humidity  windy\n",
       "6         1         1      1\n",
       "8         0         1      0\n",
       "10        0         1      1\n",
       "9         2         1      0\n",
       "2         1         0      0\n",
       "0         0         0      0\n",
       "1         0         0      1\n",
       "12        1         1      0\n",
       "11        1         0      1"
      ]
     },
     "execution_count": 244,
     "metadata": {},
     "output_type": "execute_result"
    }
   ],
   "source": [
    "train, test = train_test_split(df, test_size=0.3, train_size = 0.7)\n",
    "X_train, y_train = train[attribute_names], train[class_name]\n",
    "X_test, y_test = test[attribute_names], train[class_name]\n",
    "X_train"
   ]
  },
  {
   "cell_type": "markdown",
   "metadata": {},
   "source": [
    "## Train the model"
   ]
  },
  {
   "cell_type": "code",
   "execution_count": 245,
   "metadata": {},
   "outputs": [],
   "source": [
    "# ID3 Algorithm (Entropy)\n",
    "model = DecisionTreeClassifier(max_depth=3, criterion='entropy')\n",
    "\n",
    "# gini\n",
    "# dt = DecisionTreeClassifier(max_depth=3, criterion='gini')\n",
    "\n",
    "\n",
    "fitted = model.fit(X_train,y_train)"
   ]
  },
  {
   "cell_type": "markdown",
   "metadata": {},
   "source": [
    "## Make predictions"
   ]
  },
  {
   "cell_type": "code",
   "execution_count": 246,
   "metadata": {},
   "outputs": [],
   "source": [
    "y_pred = fitted.predict(X_test)"
   ]
  },
  {
   "cell_type": "markdown",
   "metadata": {},
   "source": [
    "### Viualize decision bounaries"
   ]
  },
  {
   "cell_type": "code",
   "execution_count": 250,
   "metadata": {
    "scrolled": true
   },
   "outputs": [
    {
     "ename": "ImportError",
     "evalue": "cannot import name 'plot_decision' from 'utils' (/home/nemsys/projects/courses/ProgressBG/ProgressBG-MLwithPython/ProgressBG-MLwithPython-Code/.venv/lib/python3.7/site-packages/utils/__init__.py)",
     "output_type": "error",
     "traceback": [
      "\u001b[0;31m---------------------------------------------------------------------------\u001b[0m",
      "\u001b[0;31mImportError\u001b[0m                               Traceback (most recent call last)",
      "\u001b[0;32m<ipython-input-250-e2f822a755a8>\u001b[0m in \u001b[0;36m<module>\u001b[0;34m\u001b[0m\n\u001b[1;32m      1\u001b[0m \u001b[0;31m# visualize the model's decision regions\u001b[0m\u001b[0;34m\u001b[0m\u001b[0;34m\u001b[0m\u001b[0m\n\u001b[0;32m----> 2\u001b[0;31m \u001b[0;32mfrom\u001b[0m \u001b[0mutils\u001b[0m \u001b[0;32mimport\u001b[0m \u001b[0mplot_decision\u001b[0m\u001b[0;34m\u001b[0m\u001b[0m\n\u001b[0m\u001b[1;32m      3\u001b[0m \u001b[0;34m\u001b[0m\u001b[0m\n\u001b[1;32m      4\u001b[0m \u001b[0mX_combined\u001b[0m \u001b[0;34m=\u001b[0m \u001b[0mnp\u001b[0m\u001b[0;34m.\u001b[0m\u001b[0mvstack\u001b[0m\u001b[0;34m(\u001b[0m\u001b[0;34m(\u001b[0m\u001b[0mX_train\u001b[0m\u001b[0;34m,\u001b[0m \u001b[0mX_test\u001b[0m\u001b[0;34m)\u001b[0m\u001b[0;34m)\u001b[0m\u001b[0;34m\u001b[0m\u001b[0m\n\u001b[1;32m      5\u001b[0m \u001b[0my_combined\u001b[0m \u001b[0;34m=\u001b[0m \u001b[0mnp\u001b[0m\u001b[0;34m.\u001b[0m\u001b[0mhstack\u001b[0m\u001b[0;34m(\u001b[0m\u001b[0;34m(\u001b[0m\u001b[0my_train\u001b[0m\u001b[0;34m,\u001b[0m \u001b[0my_test\u001b[0m\u001b[0;34m)\u001b[0m\u001b[0;34m)\u001b[0m\u001b[0;34m\u001b[0m\u001b[0m\n",
      "\u001b[0;31mImportError\u001b[0m: cannot import name 'plot_decision' from 'utils' (/home/nemsys/projects/courses/ProgressBG/ProgressBG-MLwithPython/ProgressBG-MLwithPython-Code/.venv/lib/python3.7/site-packages/utils/__init__.py)"
     ]
    }
   ],
   "source": [
    "# visualize the model's decision regions\n",
    "from utils import plot_decision\n",
    "\n",
    "X_combined = np.vstack((X_train, X_test))\n",
    "y_combined = np.hstack((y_train, y_test))\n",
    "plot_decision(X=X_combined, y=y_combined, classifier=fitted)\n",
    "plt.legend(loc='upper left')\n",
    "plt.show()"
   ]
  },
  {
   "cell_type": "markdown",
   "metadata": {},
   "source": [
    "## Evaluate the model performance"
   ]
  },
  {
   "cell_type": "code",
   "execution_count": 251,
   "metadata": {},
   "outputs": [
    {
     "data": {
      "text/plain": [
       "((9, 1), (5,))"
      ]
     },
     "execution_count": 251,
     "metadata": {},
     "output_type": "execute_result"
    }
   ],
   "source": [
    "# accuracy\n",
    "# count_misclassified = (y_test != y_pred).sum()\n",
    "# print('Misclassified samples: {}'.format(count_misclassified))\n",
    "# accuracy = metrics.accuracy_score(y_test, y_pred)\n",
    "y_test.shape, y_pred.shape\n",
    "# print('Accuracy: {:.2f}'.format(accuracy))"
   ]
  },
  {
   "cell_type": "markdown",
   "metadata": {},
   "source": [
    "## Visualize Tree "
   ]
  },
  {
   "cell_type": "code",
   "execution_count": null,
   "metadata": {
    "code_folding": [
     0
    ]
   },
   "outputs": [],
   "source": [
    "def plot_boundary(clf, X, y):\n",
    "    x_min, x_max = X[:, 0].min() - 1, X[:, 0].max() + 1\n",
    "    y_min, y_max = X[:, 1].min() - 1, X[:, 1].max() + 1\n",
    "    xx, yy = np.meshgrid(np.arange(x_min, x_max, 0.1),\n",
    "                         np.arange(y_min, y_max, 0.1))\n",
    "\n",
    "    f, ax = plt.subplots(figsize=(10, 8))\n",
    "\n",
    "    Z = clf.predict(np.c_[xx.ravel(), yy.ravel()])\n",
    "    Z = Z.reshape(xx.shape)\n",
    "\n",
    "    ax.contourf(xx, yy, Z, alpha=0.4)\n",
    "    ax.scatter(X[:, 0], X[:, 1], c=y, s=20, edgecolor='k')\n",
    "\n",
    "    plt.show()\n",
    "\n",
    "# plot_boundary(fitted,X, y)"
   ]
  },
  {
   "cell_type": "code",
   "execution_count": null,
   "metadata": {
    "code_folding": []
   },
   "outputs": [],
   "source": [
    "def vis_tree_exp(fitted):\n",
    "    dot_data = tree.export_graphviz(fitted, out_file=None, filled=True, rounded=True,\n",
    "                                feature_names=np.array(attribute_names),\n",
    "                                class_names=np.array(['Yes','No']))\n",
    "\n",
    "    graph = pydotplus.graph_from_dot_data(dot_data)\n",
    "    display(Image(graph.create_png()))"
   ]
  },
  {
   "cell_type": "code",
   "execution_count": null,
   "metadata": {
    "code_folding": [
     0
    ]
   },
   "outputs": [],
   "source": [
    "def vis_tree(clf):\n",
    "    dot_data = tree.export_graphviz(clf,\n",
    "                                feature_names=attribute_names,\n",
    "                                out_file=None,\n",
    "                                filled=True,\n",
    "                                rounded=True)\n",
    "    graph = pydotplus.graph_from_dot_data(dot_data)\n",
    "\n",
    "    colors = ('green', 'red')\n",
    "    edges = collections.defaultdict(list)\n",
    "\n",
    "    for edge in graph.get_edge_list():\n",
    "        edges[edge.get_source()].append(int(edge.get_destination()))\n",
    "\n",
    "    for edge in edges:\n",
    "        edges[edge].sort()\n",
    "        for i in range(2):\n",
    "            dest = graph.get_node(str(edges[edge][i]))[0]\n",
    "            dest.set_fillcolor(colors[i])\n",
    "\n",
    "    graph.write_png('tree.png')\n",
    "\n",
    "    return graph\n",
    "#     return graph.Source(dot_data)\n"
   ]
  },
  {
   "cell_type": "code",
   "execution_count": null,
   "metadata": {
    "code_folding": [
     0
    ]
   },
   "outputs": [],
   "source": [
    "def vis_tree_graphviz(clf):\n",
    "    from IPython.display import SVG\n",
    "    import pydotplus\n",
    "    from sklearn.externals.six import StringIO\n",
    "\n",
    "    dot_data = StringIO()\n",
    "    export_graphviz(\n",
    "        clf,\n",
    "        out_file=dot_data,\n",
    "        feature_names=np.array(attribute_names),\n",
    "        class_names=['No Play','Play'],\n",
    "\n",
    "        filled=True,\n",
    "        rounded=True,\n",
    "        special_characters=True\n",
    "    )\n",
    "    graph = pydotplus.graph_from_dot_data(dot_data.getvalue())\n",
    "    SVG(graph.create(format='svg'))"
   ]
  },
  {
   "cell_type": "code",
   "execution_count": null,
   "metadata": {},
   "outputs": [],
   "source": [
    "graph = vis_tree_exp(fitted)\n",
    "# display(Image(graph.create_png()))\n"
   ]
  },
  {
   "cell_type": "markdown",
   "metadata": {},
   "source": [
    "## Confusion Matrix"
   ]
  },
  {
   "cell_type": "code",
   "execution_count": 252,
   "metadata": {},
   "outputs": [
    {
     "ename": "AttributeError",
     "evalue": "'DataFrame' object has no attribute 'Play'",
     "output_type": "error",
     "traceback": [
      "\u001b[0;31m---------------------------------------------------------------------------\u001b[0m",
      "\u001b[0;31mAttributeError\u001b[0m                            Traceback (most recent call last)",
      "\u001b[0;32m<ipython-input-252-31824252ab2e>\u001b[0m in \u001b[0;36m<module>\u001b[0;34m\u001b[0m\n\u001b[1;32m      3\u001b[0m \u001b[0;31m# Compute confusion matrix\u001b[0m\u001b[0;34m\u001b[0m\u001b[0;34m\u001b[0m\u001b[0m\n\u001b[1;32m      4\u001b[0m \u001b[0mtest_output\u001b[0m \u001b[0;34m=\u001b[0m \u001b[0mdecision_tree_binary_classifier\u001b[0m\u001b[0;34m.\u001b[0m\u001b[0mpredict\u001b[0m\u001b[0;34m(\u001b[0m\u001b[0mtest\u001b[0m\u001b[0;34m[\u001b[0m\u001b[0mcategorical_cols\u001b[0m\u001b[0;34m]\u001b[0m\u001b[0;34m)\u001b[0m\u001b[0;34m\u001b[0m\u001b[0m\n\u001b[0;32m----> 5\u001b[0;31m \u001b[0mcm\u001b[0m \u001b[0;34m=\u001b[0m \u001b[0mconfusion_matrix\u001b[0m\u001b[0;34m(\u001b[0m\u001b[0mtest\u001b[0m\u001b[0;34m.\u001b[0m\u001b[0mPlay\u001b[0m\u001b[0;34m,\u001b[0m \u001b[0mtest_output\u001b[0m\u001b[0;34m)\u001b[0m\u001b[0;34m\u001b[0m\u001b[0m\n\u001b[0m\u001b[1;32m      6\u001b[0m \u001b[0;34m\u001b[0m\u001b[0m\n\u001b[1;32m      7\u001b[0m \u001b[0mprint\u001b[0m\u001b[0;34m(\u001b[0m\u001b[0;34m'Confusion matrix'\u001b[0m\u001b[0;34m)\u001b[0m\u001b[0;34m\u001b[0m\u001b[0m\n",
      "\u001b[0;32m~/projects/courses/ProgressBG/ProgressBG-MLwithPython/ProgressBG-MLwithPython-Code/.venv/lib/python3.7/site-packages/pandas/core/generic.py\u001b[0m in \u001b[0;36m__getattr__\u001b[0;34m(self, name)\u001b[0m\n\u001b[1;32m   4374\u001b[0m             \u001b[0;32mif\u001b[0m \u001b[0mself\u001b[0m\u001b[0;34m.\u001b[0m\u001b[0m_info_axis\u001b[0m\u001b[0;34m.\u001b[0m\u001b[0m_can_hold_identifiers_and_holds_name\u001b[0m\u001b[0;34m(\u001b[0m\u001b[0mname\u001b[0m\u001b[0;34m)\u001b[0m\u001b[0;34m:\u001b[0m\u001b[0;34m\u001b[0m\u001b[0m\n\u001b[1;32m   4375\u001b[0m                 \u001b[0;32mreturn\u001b[0m \u001b[0mself\u001b[0m\u001b[0;34m[\u001b[0m\u001b[0mname\u001b[0m\u001b[0;34m]\u001b[0m\u001b[0;34m\u001b[0m\u001b[0m\n\u001b[0;32m-> 4376\u001b[0;31m             \u001b[0;32mreturn\u001b[0m \u001b[0mobject\u001b[0m\u001b[0;34m.\u001b[0m\u001b[0m__getattribute__\u001b[0m\u001b[0;34m(\u001b[0m\u001b[0mself\u001b[0m\u001b[0;34m,\u001b[0m \u001b[0mname\u001b[0m\u001b[0;34m)\u001b[0m\u001b[0;34m\u001b[0m\u001b[0m\n\u001b[0m\u001b[1;32m   4377\u001b[0m \u001b[0;34m\u001b[0m\u001b[0m\n\u001b[1;32m   4378\u001b[0m     \u001b[0;32mdef\u001b[0m \u001b[0m__setattr__\u001b[0m\u001b[0;34m(\u001b[0m\u001b[0mself\u001b[0m\u001b[0;34m,\u001b[0m \u001b[0mname\u001b[0m\u001b[0;34m,\u001b[0m \u001b[0mvalue\u001b[0m\u001b[0;34m)\u001b[0m\u001b[0;34m:\u001b[0m\u001b[0;34m\u001b[0m\u001b[0m\n",
      "\u001b[0;31mAttributeError\u001b[0m: 'DataFrame' object has no attribute 'Play'"
     ]
    }
   ],
   "source": [
    "from sklearn.metrics import confusion_matrix, classification_report\n",
    "\n",
    "# Compute confusion matrix\n",
    "test_output = decision_tree_binary_classifier.predict(test[categorical_cols])\n",
    "cm = confusion_matrix(test.Play, test_output)\n",
    "\n",
    "print('Confusion matrix')\n",
    "print(cm)\n",
    "\n",
    "# Visualize confusion matrix\n",
    "plt.figure(figsize=(16, 16))\n",
    "plt.matshow(cm, cmap=plt.get_cmap('Blues'))\n",
    "# plt.title('Confusion matrix')\n",
    "plt.colorbar()\n",
    "plt.ylabel('True label')\n",
    "plt.xlabel('Predicted label')\n",
    "plt.show()"
   ]
  },
  {
   "cell_type": "code",
   "execution_count": 256,
   "metadata": {},
   "outputs": [
    {
     "ename": "ValueError",
     "evalue": "Found input variables with inconsistent numbers of samples: [9, 5]",
     "output_type": "error",
     "traceback": [
      "\u001b[0;31m---------------------------------------------------------------------------\u001b[0m",
      "\u001b[0;31mValueError\u001b[0m                                Traceback (most recent call last)",
      "\u001b[0;32m<ipython-input-256-e6002d7e1ebd>\u001b[0m in \u001b[0;36m<module>\u001b[0;34m\u001b[0m\n\u001b[1;32m      1\u001b[0m \u001b[0;31m# gen confusion matrix\u001b[0m\u001b[0;34m\u001b[0m\u001b[0;34m\u001b[0m\u001b[0m\n\u001b[0;32m----> 2\u001b[0;31m \u001b[0mconfusion\u001b[0m \u001b[0;34m=\u001b[0m \u001b[0mmetrics\u001b[0m\u001b[0;34m.\u001b[0m\u001b[0mconfusion_matrix\u001b[0m\u001b[0;34m(\u001b[0m\u001b[0my_test\u001b[0m\u001b[0;34m,\u001b[0m \u001b[0my_pred\u001b[0m\u001b[0;34m)\u001b[0m\u001b[0;34m\u001b[0m\u001b[0m\n\u001b[0m\u001b[1;32m      3\u001b[0m \u001b[0;34m\u001b[0m\u001b[0m\n\u001b[1;32m      4\u001b[0m \u001b[0mTP\u001b[0m \u001b[0;34m=\u001b[0m \u001b[0mconfusion\u001b[0m\u001b[0;34m[\u001b[0m\u001b[0;36m1\u001b[0m\u001b[0;34m,\u001b[0m \u001b[0;36m1\u001b[0m\u001b[0;34m]\u001b[0m\u001b[0;34m\u001b[0m\u001b[0m\n\u001b[1;32m      5\u001b[0m \u001b[0mTN\u001b[0m \u001b[0;34m=\u001b[0m \u001b[0mconfusion\u001b[0m\u001b[0;34m[\u001b[0m\u001b[0;36m0\u001b[0m\u001b[0;34m,\u001b[0m \u001b[0;36m0\u001b[0m\u001b[0;34m]\u001b[0m\u001b[0;34m\u001b[0m\u001b[0m\n",
      "\u001b[0;32m~/projects/courses/ProgressBG/ProgressBG-MLwithPython/ProgressBG-MLwithPython-Code/.venv/lib/python3.7/site-packages/sklearn/metrics/classification.py\u001b[0m in \u001b[0;36mconfusion_matrix\u001b[0;34m(y_true, y_pred, labels, sample_weight)\u001b[0m\n\u001b[1;32m    251\u001b[0m \u001b[0;34m\u001b[0m\u001b[0m\n\u001b[1;32m    252\u001b[0m     \"\"\"\n\u001b[0;32m--> 253\u001b[0;31m     \u001b[0my_type\u001b[0m\u001b[0;34m,\u001b[0m \u001b[0my_true\u001b[0m\u001b[0;34m,\u001b[0m \u001b[0my_pred\u001b[0m \u001b[0;34m=\u001b[0m \u001b[0m_check_targets\u001b[0m\u001b[0;34m(\u001b[0m\u001b[0my_true\u001b[0m\u001b[0;34m,\u001b[0m \u001b[0my_pred\u001b[0m\u001b[0;34m)\u001b[0m\u001b[0;34m\u001b[0m\u001b[0m\n\u001b[0m\u001b[1;32m    254\u001b[0m     \u001b[0;32mif\u001b[0m \u001b[0my_type\u001b[0m \u001b[0;32mnot\u001b[0m \u001b[0;32min\u001b[0m \u001b[0;34m(\u001b[0m\u001b[0;34m\"binary\"\u001b[0m\u001b[0;34m,\u001b[0m \u001b[0;34m\"multiclass\"\u001b[0m\u001b[0;34m)\u001b[0m\u001b[0;34m:\u001b[0m\u001b[0;34m\u001b[0m\u001b[0m\n\u001b[1;32m    255\u001b[0m         \u001b[0;32mraise\u001b[0m \u001b[0mValueError\u001b[0m\u001b[0;34m(\u001b[0m\u001b[0;34m\"%s is not supported\"\u001b[0m \u001b[0;34m%\u001b[0m \u001b[0my_type\u001b[0m\u001b[0;34m)\u001b[0m\u001b[0;34m\u001b[0m\u001b[0m\n",
      "\u001b[0;32m~/projects/courses/ProgressBG/ProgressBG-MLwithPython/ProgressBG-MLwithPython-Code/.venv/lib/python3.7/site-packages/sklearn/metrics/classification.py\u001b[0m in \u001b[0;36m_check_targets\u001b[0;34m(y_true, y_pred)\u001b[0m\n\u001b[1;32m     69\u001b[0m     \u001b[0my_pred\u001b[0m \u001b[0;34m:\u001b[0m \u001b[0marray\u001b[0m \u001b[0;32mor\u001b[0m \u001b[0mindicator\u001b[0m \u001b[0mmatrix\u001b[0m\u001b[0;34m\u001b[0m\u001b[0m\n\u001b[1;32m     70\u001b[0m     \"\"\"\n\u001b[0;32m---> 71\u001b[0;31m     \u001b[0mcheck_consistent_length\u001b[0m\u001b[0;34m(\u001b[0m\u001b[0my_true\u001b[0m\u001b[0;34m,\u001b[0m \u001b[0my_pred\u001b[0m\u001b[0;34m)\u001b[0m\u001b[0;34m\u001b[0m\u001b[0m\n\u001b[0m\u001b[1;32m     72\u001b[0m     \u001b[0mtype_true\u001b[0m \u001b[0;34m=\u001b[0m \u001b[0mtype_of_target\u001b[0m\u001b[0;34m(\u001b[0m\u001b[0my_true\u001b[0m\u001b[0;34m)\u001b[0m\u001b[0;34m\u001b[0m\u001b[0m\n\u001b[1;32m     73\u001b[0m     \u001b[0mtype_pred\u001b[0m \u001b[0;34m=\u001b[0m \u001b[0mtype_of_target\u001b[0m\u001b[0;34m(\u001b[0m\u001b[0my_pred\u001b[0m\u001b[0;34m)\u001b[0m\u001b[0;34m\u001b[0m\u001b[0m\n",
      "\u001b[0;32m~/projects/courses/ProgressBG/ProgressBG-MLwithPython/ProgressBG-MLwithPython-Code/.venv/lib/python3.7/site-packages/sklearn/utils/validation.py\u001b[0m in \u001b[0;36mcheck_consistent_length\u001b[0;34m(*arrays)\u001b[0m\n\u001b[1;32m    233\u001b[0m     \u001b[0;32mif\u001b[0m \u001b[0mlen\u001b[0m\u001b[0;34m(\u001b[0m\u001b[0muniques\u001b[0m\u001b[0;34m)\u001b[0m \u001b[0;34m>\u001b[0m \u001b[0;36m1\u001b[0m\u001b[0;34m:\u001b[0m\u001b[0;34m\u001b[0m\u001b[0m\n\u001b[1;32m    234\u001b[0m         raise ValueError(\"Found input variables with inconsistent numbers of\"\n\u001b[0;32m--> 235\u001b[0;31m                          \" samples: %r\" % [int(l) for l in lengths])\n\u001b[0m\u001b[1;32m    236\u001b[0m \u001b[0;34m\u001b[0m\u001b[0m\n\u001b[1;32m    237\u001b[0m \u001b[0;34m\u001b[0m\u001b[0m\n",
      "\u001b[0;31mValueError\u001b[0m: Found input variables with inconsistent numbers of samples: [9, 5]"
     ]
    }
   ],
   "source": [
    "# gen confusion matrix\n",
    "confusion = metrics.confusion_matrix(y_test, y_pred)\n",
    "\n",
    "TP = confusion[1, 1]\n",
    "TN = confusion[0, 0]\n",
    "FP = confusion[0, 1]\n",
    "FN = confusion[1, 0]"
   ]
  },
  {
   "cell_type": "code",
   "execution_count": null,
   "metadata": {},
   "outputs": [],
   "source": []
  }
 ],
 "metadata": {
  "kernelspec": {
   "display_name": "Python 3",
   "language": "python",
   "name": "python3"
  },
  "language_info": {
   "codemirror_mode": {
    "name": "ipython",
    "version": 3
   },
   "file_extension": ".py",
   "mimetype": "text/x-python",
   "name": "python",
   "nbconvert_exporter": "python",
   "pygments_lexer": "ipython3",
   "version": "3.12.3"
  },
  "toc": {
   "base_numbering": 1,
   "nav_menu": {},
   "number_sections": true,
   "sideBar": true,
   "skip_h1_title": true,
   "title_cell": "Table of Contents",
   "title_sidebar": "Content",
   "toc_cell": false,
   "toc_position": {
    "height": "calc(100% - 180px)",
    "left": "10px",
    "top": "150px",
    "width": "165px"
   },
   "toc_section_display": true,
   "toc_window_display": true
  }
 },
 "nbformat": 4,
 "nbformat_minor": 2
}
