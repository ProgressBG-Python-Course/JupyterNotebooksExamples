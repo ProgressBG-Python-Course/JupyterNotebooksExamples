{
 "cells": [
  {
   "cell_type": "code",
   "execution_count": 1,
   "metadata": {},
   "outputs": [],
   "source": [
    "import numpy as np\n",
    "import matplotlib.pyplot as plt"
   ]
  },
  {
   "cell_type": "markdown",
   "metadata": {},
   "source": [
    "# Standard Least Square Regrassion Method"
   ]
  },
  {
   "attachments": {},
   "cell_type": "markdown",
   "metadata": {},
   "source": [
    "## Prerequisites: Statistical Concepts"
   ]
  },
  {
   "attachments": {},
   "cell_type": "markdown",
   "metadata": {},
   "source": [
    "### Variance\n",
    "\n",
    "Variance is a measure of dispersion (like range, mean, median, ...), meaning it is a measure of how far a set of numbers is spread out from their average value. High variance signifies that dataset values are far from their mean. On the other side, low variance signifies that the values are very close to their mean.\n",
    "\n",
    "In statistics sample variance is denoted by $s^2$ as the variance is the square of the standard deviation - a mesure most commonly used. The basic difference between both is that standard deviation is represented in the same units as the mean of data, while the variance is represented in squared units.\n",
    "\n",
    "Sample variance is calculated as the average of the squared differences from the mean:\n",
    "\n",
    "<div style=\"font-size:1.3em; font-weight:bold; color:#000\">\n",
    "\n",
    "$s^2 = \\frac{\\sum{(x_i-\\bar{x})^2}}{n-1}$\n",
    "\n",
    "</div>\n",
    "\n",
    "where:\n",
    "\n",
    "- $S^2$ - sample variance\n",
    "- $x_i$ - the value of the one observation\n",
    "- $\\bar{x}$ - the mean value of all observations\n",
    "- $n$ - the number of observations\n",
    "\n",
    "##### How to calculate variance by \n",
    "\n",
    "Let's have next sample data: X = [17, 15, 23, 7, 9, 13]. \n",
    "\n",
    "In this case, $n=6$ (the number of observations), and mean ($\\bar{x}$) is: (17+15+23+7+9+13)/6=14.\n",
    "\n",
    "To calculate the variance first we must calculate the numerator: $\\sum(X_i - \\overline{X})^2$, i.e. the sum of the squared differences from the mean for each data point. Next table represent how to do that:\n",
    "\n",
    "<img src=\"./images/Calculate-Variance-Numerator.jpeg\">\n",
    "\n",
    "Reference: [https://www.wikihow.com/Calculate-Variance](https://www.wikihow.com/Calculate-Variance)"
   ]
  },
  {
   "attachments": {},
   "cell_type": "markdown",
   "metadata": {},
   "source": [
    "### Standard Deviation\n",
    "\n",
    "In statistics, the standard deviation is a measure of the amount of the dispersion of a set of values. \n",
    "\n",
    "Standard deviation is calculated as the square root of variance:\n",
    "\n",
    "<div style=\"font-size:1.3em; font-weight:bold; color:#000\">\n",
    "\n",
    "$s = \\sqrt{\\frac{\\sum{(x_i-\\bar{x})^2}}{n-1}}$\n",
    "\n",
    "</div>\n",
    "\n",
    "A low standard deviation indicates that the values tend to be close to the mean of the set, while a high standard deviation indicates that the values are spread out over a wider range.\n",
    "\n",
    "Reference: [Стандартно отклонение](https://bg.wikipedia.org/wiki/%D0%A1%D1%82%D0%B0%D0%BD%D0%B4%D0%B0%D1%80%D1%82%D0%BD%D0%BE_%D0%BE%D1%82%D0%BA%D0%BB%D0%BE%D0%BD%D0%B5%D0%BD%D0%B8%D0%B5)\n",
    "\n",
    "Standard deviation tells you how spread out the data is. It is a measure of how far each observed value is from the mean. \n",
    "\n",
    "<img src=\"./images/Standard-deviation.jpg\" style=\"height:8em; background:#FFF\">"
   ]
  },
  {
   "attachments": {},
   "cell_type": "markdown",
   "metadata": {},
   "source": [
    "### Variance vs Standard Deviation\n",
    "\n",
    "The basic difference between both is that **standard deviation is represented in the same units as the mean of data**, while the variance is represented in squared units.\n",
    "\n",
    "![variance_vs_std_deviation_formulae.png](./images/variance_vs_std_deviation_formulae.png)"
   ]
  },
  {
   "attachments": {},
   "cell_type": "markdown",
   "metadata": {},
   "source": [
    "### Z-score\n",
    "\n",
    "\n",
    "Z-score indicates how much a given value differs from the standard deviation. The Z-score, or standard score, is the number of standard deviations a given data point lies above or below mean\n",
    "\n",
    "When the population mean and the population standard deviation are unknown, the standard score may be estimated by using the sample mean and sample standard deviation as estimates of the population values:\n",
    "\n",
    "<div style=\"font-size:1.3em; font-weight:bold; color:#000\">\n",
    "\n",
    "$z={x-{\\bar {x}} \\over S}$\n",
    "\n",
    "</div>\n",
    "<img src=\"./images/z-scores-formula-concepts-and-examples.jpg\" style=\"width:30em\">"
   ]
  },
  {
   "attachments": {},
   "cell_type": "markdown",
   "metadata": {},
   "source": [
    "### Covariance\n",
    "\n",
    "Covariance finds the direction of the relationship between two variables. It finds whether two varibales are directly or inversely proportional. \n",
    "\n",
    "The formula for calculating the covariance is:\n",
    "\n",
    "<!-- <img src=\"./images/covariance_formula.svg\" style=\"hight:3em; background:#FFF\"> -->\n",
    "<div style=\"font-size:1.3em; font-weight:bold; color:#000\">\n",
    "\n",
    "$cov(x,y) = \\frac{\\sum{(x_i-\\bar{x}).(y_i-\\bar{y})}}{n-1}$\n",
    "\n",
    "</div>\n",
    "\n",
    "\n",
    "where:\n",
    "\n",
    "- $cov_{x,y}$ - covariance between variable x and y\n",
    "- $x_{i}$ - data value of x\n",
    "- $y_{i}$ - data value of y\n",
    "- $\\bar{x}$ - mean of x\n",
    "- $\\bar{y}$ - mean of y\n",
    "- $N$ - number of data values\n",
    "\n",
    "Positive covariance tell us the the increase in one variable leads to increase in the other varible and that the decrease in the first variable will lead to decrease in second variable. Negative covarience denotes that the increase in one variable leads to decrease to the second variable.\n",
    "\n",
    "<img src=\"./images/covariance.png\">\n",
    "\n",
    "But covariance is not used by its own as its interpretations can be vague. It is used as a step in calculating correlation.\n"
   ]
  },
  {
   "attachments": {},
   "cell_type": "markdown",
   "metadata": {},
   "source": [
    "### Correlation Coefficient\n",
    "\n",
    "The correlation coefficient is a statistical measure of the **strength and direction** of a linear relationship between two variables. \n",
    "\n",
    "Its values can range from -1 to 1. A correlation of value -1.0 means a perfect negative correlation, while a correlation of +1.0 means a perfect positive correlation.\n",
    "A correlation of 0.0 means no linear relationship between the movement of the two variables.\n",
    "\n",
    "Correlation coefficients are used in science and in finance to assess the degree of association between two variables, factors, or data sets.\n",
    "\n",
    "<img src=\"./images/various_correlation_coefficients.png\" style=\"height:12em; width:15em; background:#FFF\">\n",
    "\n",
    "\n",
    "The correlation coefficient can be calculated by the Pearson’s formula - as the ratio between the covariance of two variables and the product of their standard deviations:\n",
    "\n",
    "<div style=\"font-size:1.3em; font-weight:bold; color:#000\">\n",
    "\n",
    "$r_{x,y} = \\frac{cov(X,y)}{S_xS_y}$\n",
    "\n",
    "</div>\n",
    "\n",
    "which is equivalent to:\n",
    "\n",
    "<div style=\"font-size:1.3em; font-weight:bold; color:#000\">\n",
    "\n",
    "$r_{x,y} = {\\frac{1}{n-1}}.\\sum{\\frac{x_i - \\bar{x}}{S_x} . \\frac{y_i - \\bar{y}}{S_y}}$\n",
    "\n",
    "</div>\n",
    "\n",
    "where:\n",
    "- $r$\t\t- correlation coefficient\n",
    "- $x_{i}$\t\t- values of the x-variable in a sample, \n",
    "- $\\bar{x}$\t- mean of the values of the x-variable\n",
    "- $y_{i}$\t\t- values of the y-variable in a sample\n",
    "- $\\bar{y}$\t- mean of the values of the y-variable\n",
    "- $S_x$\t\t- standard deviation of x-variable\n",
    "- $S_y$\t\t- standard deviation of y-variable\n",
    "\n",
    "<!-- \n",
    "Remember that standard deviation is calculated as the square root of variance:\n",
    "\n",
    "<div style=\"font-size:1.3em; font-weight:bold; color:#000\">\n",
    "\n",
    "$s = \\sqrt{\\frac{\\sum{(x_i-\\bar{x})^2}}{n-1}}$\n",
    "\n",
    "</div> -->\n",
    "\n",
    "<!-- \n",
    "$r_{x,y} = {\\frac{1}{n-1}}.\\frac{\\sum\\left(x_{i}-\\bar{x}\\right)\\left(y_{i}-\\bar{y}\\right)}{\\sqrt{\\sum\\left(x_{i}-\\bar{x}\\right)^{2} \\sum\\left(y_{i}-\\bar{y}\\right)^{2}}}$ \n",
    "\n",
    "where:\n",
    "- $r$\t\t- correlation coefficient\n",
    "- $x_{i}$\t\t- values of the x-variable in a sample, \n",
    "- $\\bar{x}$\t- mean of the values of the x-variable\n",
    "- $y_{i}$\t\t- values of the y-variable in a sample\n",
    "- $\\bar{y}$\t- mean of the values of the y-variable\n",
    " -->\n"
   ]
  },
  {
   "attachments": {},
   "cell_type": "markdown",
   "metadata": {},
   "source": [
    "## Calculating Regresion Line coefficient using least square method\n",
    "\n",
    "To calculate the line coefficients for regression line ($\\hat{y}=mx+b$) we make the assumtion that the line will pass through the point ($\\hat{x},\\hat{y}$), and we can use:\n",
    "1. $m=r.\\frac{S_y}{S_x}$, \n",
    "1. $b=\\hat{y}-\\hat{x}m$ \n",
    "\n",
    "where $r$ is the correlation coefficient of the dataset, and $S_x$, $S_y$ is the sample standard deviation of x and y\n",
    "\n",
    "\n",
    "In order to understend this formula, will use next simple example.\n"
   ]
  },
  {
   "attachments": {},
   "cell_type": "markdown",
   "metadata": {},
   "source": [
    "Let's have next dataset:"
   ]
  },
  {
   "cell_type": "code",
   "execution_count": 2,
   "metadata": {},
   "outputs": [],
   "source": [
    "x = np.array([1,2,2,3])\n",
    "y = np.array([1,2,3,6])"
   ]
  },
  {
   "cell_type": "code",
   "execution_count": 3,
   "metadata": {},
   "outputs": [
    {
     "name": "stdout",
     "output_type": "stream",
     "text": [
      "2.0\n",
      "3.0\n",
      "0.816\n",
      "2.16\n"
     ]
    }
   ],
   "source": [
    "# find mean and sample standard deviations\n",
    "x_mean = x.mean()\n",
    "y_mean = y.mean()\n",
    "# use ddof=1 to calculate sample std, not population, which is deafult\n",
    "x_std = x.std(ddof=1).round(3)\n",
    "y_std = y.std(ddof=1).round(3)\n",
    "\n",
    "print(x_mean)\n",
    "print(y_mean)\n",
    "print(x_std)\n",
    "print(y_std)"
   ]
  },
  {
   "cell_type": "code",
   "execution_count": 4,
   "metadata": {},
   "outputs": [
    {
     "name": "stdout",
     "output_type": "stream",
     "text": [
      "[[1.         0.94491118]\n",
      " [0.94491118 1.        ]]\n",
      "0.945\n"
     ]
    }
   ],
   "source": [
    "# find correlation coeficient:\n",
    "r_mat = np.corrcoef([x,y])\n",
    "print(r_mat)\n",
    "\n",
    "r = r_mat[0,1].round(3)\n",
    "print(r)"
   ]
  },
  {
   "cell_type": "code",
   "execution_count": 5,
   "metadata": {},
   "outputs": [
    {
     "data": {
      "text/plain": [
       "<matplotlib.lines._AxLine at 0x7f483b1f5ca0>"
      ]
     },
     "execution_count": 5,
     "metadata": {},
     "output_type": "execute_result"
    },
    {
     "data": {
      "image/png": "[encoded data removed]",
      "text/plain": [
       "<Figure size 640x480 with 1 Axes>"
      ]
     },
     "metadata": {},
     "output_type": "display_data"
    }
   ],
   "source": [
    "fig, ax = plt.subplots()\n",
    "ax.scatter(x,y, c='#F00')\n",
    "ax.grid()\n",
    "\n",
    "ax.axvline(x=x_mean, c=\"#90F\", linestyle=\"-\")\n",
    "ax.axvline(x=x_mean-x_std, c=\"#90F\", linestyle=\"--\")\n",
    "ax.axvline(x=x_mean+x_std, c=\"#90F\", linestyle=\"--\")\n",
    "\n",
    "\n",
    "ax.axhline(y=y_mean, c=\"#09F\", linestyle=\"-\")\n",
    "ax.axhline(y=y_mean-y_std, c=\"#09F\", linestyle=\"--\")\n",
    "ax.axhline(y=y_mean+y_std, c=\"#09F\", linestyle=\"--\")\n",
    "\n",
    "# plot line when r=1\n",
    "p1 = [x_mean, y_mean]\n",
    "p2= [x_mean+x_std, y_mean+y_std]\n",
    "ax.axline(p1,p2, c=\"#090\", linestyle='--')\n",
    "\n",
    "# plot line with real r, asuming in y = mx+b, m = r(Sy/Sx)\n",
    "p2= [x_mean+x_std, y_mean+r*y_std]\n",
    "ax.axline(p1,p2, c=\"#090\", linestyle='-')"
   ]
  },
  {
   "cell_type": "code",
   "execution_count": null,
   "metadata": {},
   "outputs": [],
   "source": []
  }
 ],
 "metadata": {
  "kernelspec": {
   "display_name": ".venv",
   "language": "python",
   "name": "python3"
  },
  "language_info": {
   "codemirror_mode": {
    "name": "ipython",
    "version": 3
   },
   "file_extension": ".py",
   "mimetype": "text/x-python",
   "name": "python",
   "nbconvert_exporter": "python",
   "pygments_lexer": "ipython3",
   "version": "3.9.12"
  },
  "orig_nbformat": 4,
  "vscode": {
   "interpreter": {
    "hash": "2f198458d93464d0c0db318fa461a510553a123fa96784438e9d36dcd5767d99"
   }
  }
 },
 "nbformat": 4,
 "nbformat_minor": 2
}
