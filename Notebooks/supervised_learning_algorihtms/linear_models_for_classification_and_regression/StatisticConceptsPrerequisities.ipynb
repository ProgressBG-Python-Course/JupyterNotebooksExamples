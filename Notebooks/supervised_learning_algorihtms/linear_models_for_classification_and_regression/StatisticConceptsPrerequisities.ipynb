{
 "cells": [
  {
   "cell_type": "markdown",
   "metadata": {},
   "source": [
    "# Standard Least Square Regrassion Method"
   ]
  },
  {
   "attachments": {},
   "cell_type": "markdown",
   "metadata": {},
   "source": [
    "## Prerequisites: Statistical Concepts"
   ]
  },
  {
   "attachments": {},
   "cell_type": "markdown",
   "metadata": {},
   "source": [
    "### Sample variance and standard deviation"
   ]
  },
  {
   "attachments": {},
   "cell_type": "markdown",
   "metadata": {},
   "source": [
    "### Variance\n",
    "\n",
    "Variance is a measure of dispersion (like range, mean, median, ...), meaning it is a measure of how far a set of numbers is spread out from their average value. High variance signifies that dataset values are far from their mean. On the other side, low variance signifies that the values are very close to their mean.\n",
    "\n",
    "In statistics sample variance is denoted by $s^2$ as the variance is the square of the standard deviation - a mesure most commonly used. The basic difference between both is that standard deviation is represented in the same units as the mean of data, while the variance is represented in squared units.\n",
    "\n",
    "Sample variance is calculated as the average of the squared differences from the mean.\n",
    "\n",
    "<img src=\"./images/sample_variance_formula.svg\" style=\"hight:3em; background:#FFF\">\n",
    "\n",
    "where:\n",
    "\n",
    "- $S^2$ - sample variance\n",
    "- $x_i$ - the value of the one observation\n",
    "- $\\bar{x}$ - the mean value of all observations\n",
    "- $n$ - the number of observations\n",
    "\n",
    "##### How to calculate variance by \n",
    "\n",
    "Let's have next sample data: X = [17, 15, 23, 7, 9, 13]. \n",
    "\n",
    "In this case, $n=6$ (the number of observations), and mean ($\\bar{x}$) is: (17+15+23+7+9+13)/6=14.\n",
    "\n",
    "To calculate the variance first we must calculate the numerator: $\\sum(X_i - \\overline{X})^2$, i.e. the sum of the squared differences from the mean for each data point. Next table represent how to do that:\n",
    "\n",
    "<img src=\"./images/Calculate-Variance-Numerator.jpeg\">\n",
    "\n",
    "Reference: [https://www.wikihow.com/Calculate-Variance](https://www.wikihow.com/Calculate-Variance)"
   ]
  },
  {
   "attachments": {},
   "cell_type": "markdown",
   "metadata": {},
   "source": [
    "#### Standard Deviation\n",
    "\n",
    "In statistics, the standard deviation is a measure of the amount of the dispersion of a set of values. \n",
    "\n",
    "A low standard deviation indicates that the values tend to be close to the mean of the set, while a high standard deviation indicates that the values are spread out over a wider range.\n",
    "\n",
    "Reference: [Стандартно отклонение](https://bg.wikipedia.org/wiki/%D0%A1%D1%82%D0%B0%D0%BD%D0%B4%D0%B0%D1%80%D1%82%D0%BD%D0%BE_%D0%BE%D1%82%D0%BA%D0%BB%D0%BE%D0%BD%D0%B5%D0%BD%D0%B8%D0%B5)\n",
    "\n",
    "Standard deviation tells you how spread out the data is. It is a measure of how far each observed value is from the mean. \n",
    "\n",
    "<img src=\"./images/Standard-deviation.jpg\" style=\"height:8em; background:#FFF\">"
   ]
  },
  {
   "attachments": {},
   "cell_type": "markdown",
   "metadata": {},
   "source": [
    "### Covariance\n",
    "\n",
    "Covariance finds the direction of the relationship between two data points. It finds whether two data points are directly or inversely proportional. The formula for calculating the covariance is:\n",
    "\n",
    "<img src=\"./images/covariance_formula.svg\" style=\"hight:3em; background:#FFF\">\n",
    "\n",
    "where:\n",
    "\n",
    "\n",
    "- $cov_{x,y}$ - covariance between variable x and y\n",
    "- $x_{i}$ - data value of x\n",
    "- $y_{i}$ - data value of y\n",
    "- $\\bar{x}$ - mean of x\n",
    "- $\\bar{y}$ - mean of y\n",
    "- $N$ - number of data values\n"
   ]
  },
  {
   "attachments": {},
   "cell_type": "markdown",
   "metadata": {},
   "source": [
    "### Correlation Coefficient\n",
    "\n",
    "The correlation coefficient is a statistical measure of the strength and direction of a linear relationship between two variables. \n",
    "\n",
    "Its values can range from -1 to 1. A correlation of value -1.0 means a perfect negative correlation, while a correlation of +1.0 means a perfect positive correlation.\n",
    "A correlation of 0.0 means no linear relationship between the movement of the two variables.\n",
    "\n",
    "<img src=\"./images/various_correlation_coefficients.png\" style=\"height:12em; width:15em; background:#FFF\">\n",
    "\n",
    "\n",
    "The correlation coefficient can be calculated by the Pearson’s formula - as the ratio between the covariance of two variables and the product of their standard deviations:\n",
    "\n",
    "$r_{x,y} = \\frac{cov(X,y)}{S_xS_y}$\n",
    "\n",
    "which is equivalent to:\n",
    "\n",
    "$r_{x,y} = {\\frac{1}{n-1}}.\\sum{\\frac{x_i - \\bar{x}}{S_x} . \\frac{y_i - \\bar{y}}{S_y}}$\n",
    "\n",
    "<!-- $r_{x,y} = {\\frac{1}{n-1}}.\\frac{\\sum\\left(x_{i}-\\bar{x}\\right)\\left(y_{i}-\\bar{y}\\right)}{\\sqrt{\\sum\\left(x_{i}-\\bar{x}\\right)^{2} \\sum\\left(y_{i}-\\bar{y}\\right)^{2}}}$ -->\n",
    "\n",
    "<!-- \n",
    "\n",
    "- $r$\t\t- correlation coefficient\n",
    "- $x_{i}$\t\t- values of the x-variable in a sample, \n",
    "- $\\bar{x}$\t- mean of the values of the x-variable\n",
    "- $y_{i}$\t\t- values of the y-variable in a sample\n",
    "- $\\bar{y}$\t- mean of the values of the y-variable\n",
    " -->\n"
   ]
  }
 ],
 "metadata": {
  "kernelspec": {
   "display_name": ".venv",
   "language": "python",
   "name": "python3"
  },
  "language_info": {
   "codemirror_mode": {
    "name": "ipython",
    "version": 3
   },
   "file_extension": ".py",
   "mimetype": "text/x-python",
   "name": "python",
   "nbconvert_exporter": "python",
   "pygments_lexer": "ipython3",
   "version": "3.9.12"
  },
  "orig_nbformat": 4,
  "vscode": {
   "interpreter": {
    "hash": "2f198458d93464d0c0db318fa461a510553a123fa96784438e9d36dcd5767d99"
   }
  }
 },
 "nbformat": 4,
 "nbformat_minor": 2
}
