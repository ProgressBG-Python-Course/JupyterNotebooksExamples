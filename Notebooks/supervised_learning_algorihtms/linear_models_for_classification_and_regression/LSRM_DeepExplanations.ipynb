{
 "cells": [
  {
   "cell_type": "code",
   "execution_count": 1,
   "metadata": {},
   "outputs": [],
   "source": [
    "import numpy as np\n",
    "import matplotlib.pyplot as plt"
   ]
  },
  {
   "cell_type": "markdown",
   "metadata": {},
   "source": [
    "# Standard Least Square Regrassion Method"
   ]
  },
  {
   "attachments": {},
   "cell_type": "markdown",
   "metadata": {},
   "source": [
    "## Prerequisites: Statistical Concepts"
   ]
  },
  {
   "attachments": {},
   "cell_type": "markdown",
   "metadata": {},
   "source": [
    "### Variance\n",
    "\n",
    "Variance is a measure of dispersion (like range, mean, median, ...), meaning it is a measure of how far a set of numbers is spread out from their average value. High variance signifies that dataset values are far from their mean. On the other side, low variance signifies that the values are very close to their mean.\n",
    "\n",
    "In statistics sample variance is denoted by $s^2$ as the variance is the square of the standard deviation - a mesure most commonly used. The basic difference between both is that standard deviation is represented in the same units as the mean of data, while the variance is represented in squared units.\n",
    "\n",
    "Sample variance is calculated as the average of the squared differences from the mean:\n",
    "\n",
    "<div style=\"font-size:1.3em; font-weight:bold;\">\n",
    "\n",
    "$s^2 = \\frac{\\sum{(x_i-\\bar{x})^2}}{n-1}$\n",
    "\n",
    "</div>\n",
    "\n",
    "where:\n",
    "\n",
    "- $S^2$ - sample variance\n",
    "- $x_i$ - the value of the one observation\n",
    "- $\\bar{x}$ - the mean value of all observations\n",
    "- $n$ - the number of observations\n",
    "\n",
    "##### How to calculate variance by \n",
    "\n",
    "Let's have next sample data: X = [17, 15, 23, 7, 9, 13]. \n",
    "\n",
    "In this case, $n=6$ (the number of observations), and mean ($\\bar{x}$) is: (17+15+23+7+9+13)/6=14.\n",
    "\n",
    "To calculate the variance first we must calculate the numerator: $\\sum(X_i - \\overline{X})^2$, i.e. the sum of the squared differences from the mean for each data point. Next table represent how to do that:\n",
    "\n",
    "<img src=\"./images/Calculate-Variance-Numerator.jpeg\">\n",
    "\n",
    "Reference: [https://www.wikihow.com/Calculate-Variance](https://www.wikihow.com/Calculate-Variance)"
   ]
  },
  {
   "attachments": {},
   "cell_type": "markdown",
   "metadata": {},
   "source": [
    "### Standard Deviation\n",
    "\n",
    "In statistics, the standard deviation is a measure of the amount of the dispersion of a set of values. \n",
    "\n",
    "Standard deviation is calculated as the square root of variance:\n",
    "\n",
    "<div style=\"font-size:1.3em; font-weight:bold;\">\n",
    "\n",
    "$s = \\sqrt{\\frac{\\sum{(x_i-\\bar{x})^2}}{n-1}}$\n",
    "\n",
    "</div>\n",
    "\n",
    "A low standard deviation indicates that the values tend to be close to the mean of the set, while a high standard deviation indicates that the values are spread out over a wider range.\n",
    "\n",
    "Reference: [Стандартно отклонение](https://bg.wikipedia.org/wiki/%D0%A1%D1%82%D0%B0%D0%BD%D0%B4%D0%B0%D1%80%D1%82%D0%BD%D0%BE_%D0%BE%D1%82%D0%BA%D0%BB%D0%BE%D0%BD%D0%B5%D0%BD%D0%B8%D0%B5)\n",
    "\n",
    "Standard deviation tells you how spread out the data is. It is a measure of how far each observed value is from the mean. \n",
    "\n",
    "<img src=\"./images/Standard-deviation.jpg\" style=\"height:8em; background:#FFF\">"
   ]
  },
  {
   "attachments": {},
   "cell_type": "markdown",
   "metadata": {},
   "source": [
    "### Variance vs Standard Deviation\n",
    "\n",
    "The basic difference between both is that **standard deviation is represented in the same units as the mean of data**, while the variance is represented in squared units.\n",
    "\n",
    "![variance_vs_std_deviation_formulae.png](./images/variance_vs_std_deviation_formulae.png)"
   ]
  },
  {
   "attachments": {},
   "cell_type": "markdown",
   "metadata": {},
   "source": [
    "### Z-score\n",
    "\n",
    "\n",
    "Z-score indicates how much a given value differs from the standard deviation. The Z-score, or standard score, is the number of standard deviations a given data point lies above or below mean\n",
    "\n",
    "When the population mean and the population standard deviation are unknown, the standard score may be estimated by using the sample mean and sample standard deviation as estimates of the population values:\n",
    "\n",
    "<div style=\"font-size:1.3em; font-weight:bold;\">\n",
    "\n",
    "$z={x-{\\bar {x}} \\over S}$\n",
    "\n",
    "</div>\n",
    "<img src=\"./images/z-scores-formula-concepts-and-examples.jpg\" style=\"width:30em\">"
   ]
  },
  {
   "attachments": {},
   "cell_type": "markdown",
   "metadata": {},
   "source": [
    "### Covariance\n",
    "\n",
    "Covariance finds the direction of the relationship between two variables. It finds whether two varibales are directly or inversely proportional. \n",
    "\n",
    "The formula for calculating the covariance is:\n",
    "\n",
    "<!-- <img src=\"./images/covariance_formula.svg\" style=\"hight:3em; background:#FFF\"> -->\n",
    "<div style=\"font-size:1.3em; font-weight:bold;\">\n",
    "\n",
    "$cov(x,y) = \\frac{\\sum{(x_i-\\bar{x}).(y_i-\\bar{y})}}{n-1}$\n",
    "\n",
    "</div>\n",
    "\n",
    "\n",
    "where:\n",
    "\n",
    "- $cov_{x,y}$ - covariance between variable x and y\n",
    "- $x_{i}$ - data value of x\n",
    "- $y_{i}$ - data value of y\n",
    "- $\\bar{x}$ - mean of x\n",
    "- $\\bar{y}$ - mean of y\n",
    "- $N$ - number of data values\n",
    "\n",
    "Positive covariance tell us the the increase in one variable leads to increase in the other varible and that the decrease in the first variable will lead to decrease in second variable. Negative covarience denotes that the increase in one variable leads to decrease to the second variable.\n",
    "\n",
    "<img src=\"./images/covariance.png\">\n",
    "\n",
    "But covariance is not used by its own as its interpretations can be vague. It is used as a step in calculating correlation.\n"
   ]
  },
  {
   "attachments": {},
   "cell_type": "markdown",
   "metadata": {},
   "source": [
    "### Correlation Coefficient\n",
    "\n",
    "The correlation coefficient is a statistical measure of the **strength and direction** of a linear relationship between two variables. \n",
    "\n",
    "Its values can range from -1 to 1. A correlation of value -1.0 means a perfect negative correlation, while a correlation of +1.0 means a perfect positive correlation.\n",
    "A correlation of 0.0 means no linear relationship between the movement of the two variables.\n",
    "\n",
    "Correlation coefficients are used in science and in finance to assess the degree of association between two variables, factors, or data sets.\n",
    "\n",
    "<img src=\"./images/various_correlation_coefficients.png\" style=\"height:12em; width:15em; background:#FFF\">\n",
    "\n",
    "\n",
    "The correlation coefficient can be calculated by the Pearson’s formula - as the ratio between the covariance of two variables and the product of their standard deviations:\n",
    "\n",
    "<div style=\"font-size:1.3em; font-weight:bold;\">\n",
    "\n",
    "$r_{x,y} = \\frac{cov(X,y)}{S_xS_y}$\n",
    "\n",
    "</div>\n",
    "\n",
    "which is equivalent to:\n",
    "\n",
    "<div style=\"font-size:1.3em; font-weight:bold;\">\n",
    "\n",
    "$r_{x,y} = {\\frac{1}{n-1}}.\\sum{\\frac{x_i - \\bar{x}}{S_x} . \\frac{y_i - \\bar{y}}{S_y}}$\n",
    "\n",
    "</div>\n",
    "\n",
    "where:\n",
    "- $r$\t\t- correlation coefficient\n",
    "- $x_{i}$\t\t- values of the x-variable in a sample, \n",
    "- $\\bar{x}$\t- mean of the values of the x-variable\n",
    "- $y_{i}$\t\t- values of the y-variable in a sample\n",
    "- $\\bar{y}$\t- mean of the values of the y-variable\n",
    "- $S_x$\t\t- standard deviation of x-variable\n",
    "- $S_y$\t\t- standard deviation of y-variable\n",
    "\n",
    "<!-- \n",
    "Remember that standard deviation is calculated as the square root of variance:\n",
    "\n",
    "<div style=\"font-size:1.3em; font-weight:bold; color:#000\">\n",
    "\n",
    "$s = \\sqrt{\\frac{\\sum{(x_i-\\bar{x})^2}}{n-1}}$\n",
    "\n",
    "</div> -->\n",
    "\n",
    "<!-- \n",
    "$r_{x,y} = {\\frac{1}{n-1}}.\\frac{\\sum\\left(x_{i}-\\bar{x}\\right)\\left(y_{i}-\\bar{y}\\right)}{\\sqrt{\\sum\\left(x_{i}-\\bar{x}\\right)^{2} \\sum\\left(y_{i}-\\bar{y}\\right)^{2}}}$ \n",
    "\n",
    "where:\n",
    "- $r$\t\t- correlation coefficient\n",
    "- $x_{i}$\t\t- values of the x-variable in a sample, \n",
    "- $\\bar{x}$\t- mean of the values of the x-variable\n",
    "- $y_{i}$\t\t- values of the y-variable in a sample\n",
    "- $\\bar{y}$\t- mean of the values of the y-variable\n",
    " -->\n"
   ]
  },
  {
   "attachments": {},
   "cell_type": "markdown",
   "metadata": {},
   "source": [
    "## Calculating Regresion Line coefficient using Least Square Method (by hand)\n",
    "\n",
    "The Least Squares Regression Method (LSRM) is an analytical approach to determine the best-fitting line through a set of points. The goal is to minimize the sum of the squared differences (residuals) between the observed values and the values predicted by the linear model.\n",
    "\n",
    "### Formula Derivation\n",
    "\n",
    "1. **Regression Line Equation**:\n",
    "   $$\n",
    "   y = mx + b\n",
    "   $$\n",
    "   where:\n",
    "   - $ m $ is the slope of the regression line.\n",
    "   - $ b $ is the y-intercept.\n",
    "\n",
    "2. **Sum of Squared Residuals**:\n",
    "   The residual for each data point $(x_i, y_i)$ is $(y_i - (mx_i + b))$.\n",
    "   The sum of squared residuals $S$ is given by:\n",
    "   $$\n",
    "   S = \\sum_{i=1}^{n} (y_i - (mx_i + b))^2\n",
    "   $$\n",
    "\n",
    "3. **Minimizing Sum of Squared Residuals**:\n",
    "   To find the best-fitting line, we need to minimize $S$. This is done by taking partial derivatives of $S$ with respect to $m$ and $b$, and setting them to zero:\n",
    "   $$\n",
    "   \\frac{\\partial S}{\\partial m} = -2 \\sum_{i=1}^{n} x_i (y_i - (mx_i + b)) = 0\n",
    "   $$\n",
    "   $$\n",
    "   \\frac{\\partial S}{\\partial b} = -2 \\sum_{i=1}^{n} (y_i - (mx_i + b)) = 0\n",
    "   $$\n",
    "\n",
    "4. **Solving for $m$**:\n",
    "   After solving these equations, we obtain:\n",
    "   $$\n",
    "   m = \\frac{\\sum_{i=1}^{n} (x_i - \\bar{x})(y_i - \\bar{y})}{\\sum_{i=1}^{n} (x_i - \\bar{x})^2} = r \\cdot \\frac{S_y}{S_x}\n",
    "   $$\n",
    "\n",
    "   Here:\n",
    "   - $ \\bar{x} $ and $ \\bar{y} $ are the means of $x$ and $y$ respectively.\n",
    "   - $ S_x $ and $ S_y $ are the standard deviations of $x$ and $y$.\n",
    "   - $ r $ is the correlation coefficient between $x$ and $y$.\n",
    "\n",
    "\n",
    "5. **Solving for $b$**: \n",
    "   If we make the assumption that the best fitting line will pass through the point $(\\bar{x}, \\bar{y})$, from the line equation $y = mx + b$, we can solve for the intercept $b$:\n",
    "   $$\n",
    "   b = y - mx\n",
    "   $$\n",
    "\n",
    "   By substituting the point $(\\bar{x}, \\bar{y})$ into the equation, we calculate $b$ as follows:\n",
    "   \n",
    "   $$\n",
    "   b = \\bar{y} - m \\cdot \\bar{x}\n",
    "   $$\n",
    "\n",
    "The formula $ m = r \\cdot \\frac{S_y}{S_x} $ shows that the slope of the regression line depends on how $X$ and $Y$ vary together (correlation) and the relative variability of $Y$ compared to $X$.\n",
    "\n",
    "\n",
    "<!-- To calculate the line coefficients for regression line ($\\hat{y}=mx+b$) we make the assumtion that the line will pass through the point ($\\bar{x},\\bar{y}$), where \n",
    "$\\bar{x}$ - the mean of x and $\\bar{y}$ - the mean of y\n",
    "\n",
    "and we can use:\n",
    "1. $m=r.\\frac{S_y}{S_x}$, \n",
    "1. $b=\\bar{y}-\\bar{x}m$ \n",
    "\n",
    "where $r$ is the correlation coefficient of the dataset, and $S_x$, $S_y$ is the sample standard deviation of x and y.\n",
    "This formula connects the slope of the regression line with the correlation between the variables and their standard deviations. -->\n",
    "\n",
    "\n",
    "In order to understend this formula, will use next simple example.\n"
   ]
  },
  {
   "attachments": {},
   "cell_type": "markdown",
   "metadata": {},
   "source": [
    "### Sample dataset:"
   ]
  },
  {
   "cell_type": "code",
   "execution_count": 2,
   "metadata": {},
   "outputs": [],
   "source": [
    "x = np.array([1,2,2,3,3,4])\n",
    "y = np.array([1,2,6,1,7,9])"
   ]
  },
  {
   "attachments": {},
   "cell_type": "markdown",
   "metadata": {},
   "source": [
    "### Calculate  Slope ($m$)\n",
    "\n",
    "$m=r.\\frac{S_y}{S_x}$"
   ]
  },
  {
   "cell_type": "code",
   "execution_count": 3,
   "metadata": {},
   "outputs": [
    {
     "name": "stdout",
     "output_type": "stream",
     "text": [
      "x_mean=2.5; y_mean=4.333333333333333\n",
      "x_std=1.049; y_std=3.445\n",
      "r=0.664\n",
      "m=2.1806291706387038\n"
     ]
    }
   ],
   "source": [
    "### calculate mean and sample standard deviations\n",
    "x_mean = x.mean()\n",
    "y_mean = y.mean()\n",
    "\n",
    "# use ddof=1 to calculate sample std, not population, which is deafult\n",
    "x_std = x.std(ddof=1).round(3)\n",
    "y_std = y.std(ddof=1).round(3)\n",
    "\n",
    "### calculate correlation coeficient:\n",
    "r_mat = np.corrcoef([x,y])\n",
    "r = r_mat[0,1].round(3)\n",
    "\n",
    "### calculate m:\n",
    "m = r*(y_std/x_std)\n",
    "m = m\n",
    "\n",
    "print(f'x_mean={x_mean}; y_mean={y_mean}')\n",
    "print(f'x_std={x_std}; y_std={y_std}')\n",
    "print(f'r={r}')\n",
    "print(f'm={m}')"
   ]
  },
  {
   "attachments": {},
   "cell_type": "markdown",
   "metadata": {},
   "source": [
    "### Calculate Intercept ($b$)\n",
    "\n",
    "$b=\\bar{y}-\\bar{x}m$\n",
    "\n"
   ]
  },
  {
   "cell_type": "code",
   "execution_count": 4,
   "metadata": {},
   "outputs": [
    {
     "name": "stdout",
     "output_type": "stream",
     "text": [
      "b= -1.118239593263426\n"
     ]
    }
   ],
   "source": [
    "b = y_mean-x_mean*m\n",
    "print(f'b= {b}')"
   ]
  },
  {
   "attachments": {},
   "cell_type": "markdown",
   "metadata": {},
   "source": [
    "## Calculate best fitting line coefficients using scikit-learn LinearRegression estimator"
   ]
  },
  {
   "cell_type": "code",
   "execution_count": 5,
   "metadata": {},
   "outputs": [],
   "source": [
    "### prepare data\n",
    "x_sk = x.reshape(-1, 1)\n",
    "y_sk = y\n",
    "\n",
    "### fit the estimator:\n",
    "from sklearn.linear_model import LinearRegression\n",
    "reg = LinearRegression().fit(x_sk, y_sk)\n",
    "\n",
    "### get m (coeficient) and b (intercept)\n",
    "m_sk = reg.coef_[0]\n",
    "b_sk = reg.intercept_"
   ]
  },
  {
   "attachments": {},
   "cell_type": "markdown",
   "metadata": {},
   "source": [
    "## Compare Results\n",
    "\n",
    "Let's compare the values for m and b, calulated by hand, and by scikit-learn:"
   ]
  },
  {
   "cell_type": "code",
   "execution_count": 6,
   "metadata": {},
   "outputs": [
    {
     "name": "stdout",
     "output_type": "stream",
     "text": [
      "m by hand: 2.18\n",
      "m by sklearn: 2.18\n",
      "b by hand: -1.12\n",
      "b by sklearn: -1.12\n"
     ]
    }
   ],
   "source": [
    "print(f'm by hand: {round(m,2)}')\n",
    "print(f'm by sklearn: {round(m_sk,2)}')\n",
    "\n",
    "print(f'b by hand: {round(b,2)}')\n",
    "print(f'b by sklearn: {round(b_sk,2)}')"
   ]
  },
  {
   "attachments": {},
   "cell_type": "markdown",
   "metadata": {},
   "source": [
    "## Visualize"
   ]
  },
  {
   "cell_type": "code",
   "execution_count": 7,
   "metadata": {},
   "outputs": [
    {
     "data": {
      "image/png": "[encoded data removed]",
      "text/plain": [
       "<Figure size 1200x700 with 1 Axes>"
      ]
     },
     "metadata": {},
     "output_type": "display_data"
    }
   ],
   "source": [
    "fig, ax = plt.subplots(figsize=(12,7))\n",
    "\n",
    "# Move the left and bottom spines to x = 0 and y = 0, respectively.\n",
    "ax.spines[\"left\"].set_position((\"data\", 0))\n",
    "ax.spines[\"bottom\"].set_position((\"data\", 0))\n",
    "# Hide the top and right spines.\n",
    "ax.spines[\"top\"].set_visible(False)\n",
    "ax.spines[\"right\"].set_visible(False)\n",
    "# Draw arrows (as black triangles: \">k\"/\"^k\") at the end of the axes.\n",
    "ax.plot(1, 0, \">k\", transform=ax.get_yaxis_transform(), clip_on=False)\n",
    "ax.plot(0, 1, \"^k\", transform=ax.get_xaxis_transform(), clip_on=False)\n",
    "\n",
    "# set axis limits:\n",
    "x_max = abs(x.max())\n",
    "y_max = abs(y.max())\n",
    "# ax.set_xlim(-1, x_max)\n",
    "# ax.set_ylim(-1, y_max)\n",
    "ax.set_xlim(0,x_max+1)\n",
    "ax.set_ylim(0,y_max+1)\n",
    "\n",
    "# plot data\n",
    "ax.scatter(x=x, y=y, c='#0FF', label=\"train data\")\n",
    "\n",
    "# plot X_mean lines\n",
    "ax.axvline(x_mean, c=\"#90F\", label=\"x_mean\")\n",
    "ax.axvline(x_mean+x_std, c=\"#90F\", linestyle=\"--\",label=\"x_mean+x_std\")\n",
    "\n",
    "# plot Y_mean lines\n",
    "ax.axhline(y_mean, c=\"#09F\", label=\"y_mean\")\n",
    "ax.axhline(y_mean+y_std, c=\"#09F\", linestyle=\"--\", label=\"y_mean\")\n",
    "\n",
    "# plot line when r=1, i.e. m = Sy/Sx,\n",
    "ax.axline((x_mean, y_mean), (x_mean+x_std, y_mean+y_std), linestyle='--', c=\"#090\", label=\"r=1\")\n",
    "\n",
    "# plot Sx, Sy and Sy*r\n",
    "ax.plot((x_mean, x_mean+x_std),(y_mean,y_mean), color=\"#F00\", label=\"Sx\")\n",
    "ax.plot((x_mean, x_mean),(y_mean,y_mean+y_std), color=\"#FF0\", label=\"Sy\")\n",
    "ax.plot((x_mean+x_std, x_mean+x_std),(y_mean,(y_mean+y_std*r)), color=\"#F0F\", label=\"Sy*r\")\n",
    "\n",
    "# plot points for (x_mean,y_mean),(x_mean+x_std, y_mean+y_std*r)\n",
    "ax.scatter(x_mean, y_mean, marker='p', c=\"#999\")\n",
    "ax.scatter(x_mean+x_std, y_mean+y_std*r, marker='p', c=\"#999\")\n",
    "\n",
    "# plot line y = mx+b\n",
    "ax.plot(x, m*x+b, c=\"#000\", linestyle=\"-\", label=f\"m*x+b\")\n",
    "# ax.axline((x_mean,y_mean),(x_mean+x_std, y_mean+y_std*r), c=\"#000\", linestyle=\"--\", label=f\"m*x+b\")\n",
    "\n",
    "# set aux text:\n",
    "ax.text(x_mean-0.2, -0.6, f'x_mean={round(x_mean,2)}')\n",
    "ax.text(-0.6, y_mean-0.1, f'y_mean={round(y_mean,2)}')\n",
    "\n",
    "fig.text(0.86, 0.56, f'r={r}')\n",
    "fig.text(0.86, 0.53, f'm={m.round(2)}')\n",
    "fig.text(0.86, 0.50, f'b={b.round(2)}' )\n",
    "fig.text(0.86, 0.47, f'y_pred={m.round(2)}x + {b.round(2)}')\n",
    "\n",
    "# ax.grid()\n",
    "ax.set_xlabel('x', loc='right', fontsize=16)\n",
    "ax.set_ylabel('y', loc='top', rotation=0, fontsize=16)\n",
    "ax.set_title('LSRM Formula - Graphical Explanation', fontsize=18, y=1.05)\n",
    "ax.legend(loc='upper right',  bbox_to_anchor=(1.2, 1.01))\n",
    "fig.tight_layout()"
   ]
  }
 ],
 "metadata": {
  "kernelspec": {
   "display_name": ".venv",
   "language": "python",
   "name": "python3"
  },
  "language_info": {
   "codemirror_mode": {
    "name": "ipython",
    "version": 3
   },
   "file_extension": ".py",
   "mimetype": "text/x-python",
   "name": "python",
   "nbconvert_exporter": "python",
   "pygments_lexer": "ipython3",
   "version": "3.12.3"
  },
  "orig_nbformat": 4,
  "vscode": {
   "interpreter": {
    "hash": "2f198458d93464d0c0db318fa461a510553a123fa96784438e9d36dcd5767d99"
   }
  }
 },
 "nbformat": 4,
 "nbformat_minor": 2
}
