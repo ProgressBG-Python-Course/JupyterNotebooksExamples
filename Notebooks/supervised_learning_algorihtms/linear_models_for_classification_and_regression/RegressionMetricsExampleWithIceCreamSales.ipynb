{
 "cells": [
  {
   "cell_type": "code",
   "execution_count": 1,
   "metadata": {},
   "outputs": [],
   "source": [
    "import numpy as np\n",
    "import pandas as pd\n",
    "\n",
    "from sklearn.metrics import mean_absolute_error, mean_squared_error, root_mean_squared_error, r2_score\n",
    "\n",
    "from sklearn.dummy import DummyRegressor"
   ]
  },
  {
   "cell_type": "markdown",
   "metadata": {},
   "source": [
    "# Regression Metrics Example with Ice Cream Sales Data\n",
    "\n",
    "## Example Data\n",
    "\n",
    "| Temperature (°C) | Actual Ice Cream Sales | Predicted Ice Cream Sales |\n",
    "|------------------|------------------------|---------------------------|\n",
    "| 20               | 100                    | 110                       |\n",
    "| 22               | 150                    | 140                       |\n",
    "| 25               | 200                    | 210                       |\n",
    "| 30               | 300                    | 290                       |\n",
    "| 35               | 400                    | 410                       |\n",
    "\n"
   ]
  },
  {
   "cell_type": "code",
   "execution_count": 2,
   "metadata": {},
   "outputs": [
    {
     "data": {
      "text/html": [
       "<div>\n",
       "<style scoped>\n",
       "    .dataframe tbody tr th:only-of-type {\n",
       "        vertical-align: middle;\n",
       "    }\n",
       "\n",
       "    .dataframe tbody tr th {\n",
       "        vertical-align: top;\n",
       "    }\n",
       "\n",
       "    .dataframe thead th {\n",
       "        text-align: right;\n",
       "    }\n",
       "</style>\n",
       "<table border=\"1\" class=\"dataframe\">\n",
       "  <thead>\n",
       "    <tr style=\"text-align: right;\">\n",
       "      <th></th>\n",
       "      <th>temperature</th>\n",
       "      <th>actual_sales</th>\n",
       "      <th>predicted_sales</th>\n",
       "    </tr>\n",
       "  </thead>\n",
       "  <tbody>\n",
       "    <tr>\n",
       "      <th>0</th>\n",
       "      <td>20</td>\n",
       "      <td>100</td>\n",
       "      <td>110</td>\n",
       "    </tr>\n",
       "    <tr>\n",
       "      <th>1</th>\n",
       "      <td>22</td>\n",
       "      <td>150</td>\n",
       "      <td>140</td>\n",
       "    </tr>\n",
       "    <tr>\n",
       "      <th>2</th>\n",
       "      <td>25</td>\n",
       "      <td>200</td>\n",
       "      <td>210</td>\n",
       "    </tr>\n",
       "    <tr>\n",
       "      <th>3</th>\n",
       "      <td>30</td>\n",
       "      <td>300</td>\n",
       "      <td>290</td>\n",
       "    </tr>\n",
       "    <tr>\n",
       "      <th>4</th>\n",
       "      <td>35</td>\n",
       "      <td>400</td>\n",
       "      <td>410</td>\n",
       "    </tr>\n",
       "  </tbody>\n",
       "</table>\n",
       "</div>"
      ],
      "text/plain": [
       "   temperature  actual_sales  predicted_sales\n",
       "0           20           100              110\n",
       "1           22           150              140\n",
       "2           25           200              210\n",
       "3           30           300              290\n",
       "4           35           400              410"
      ]
     },
     "execution_count": 2,
     "metadata": {},
     "output_type": "execute_result"
    }
   ],
   "source": [
    "temperature = np.array([20, 22, 25, 30, 35])\n",
    "actual_sales = np.array([100, 150, 200, 300, 400])\n",
    "predicted_sales = np.array([110, 140, 210, 290, 410])\n",
    "\n",
    "df = pd.DataFrame({\n",
    "    'temperature':temperature,\n",
    "    'actual_sales':actual_sales,\n",
    "    'predicted_sales':predicted_sales,\n",
    "})\n",
    "df\n"
   ]
  },
  {
   "cell_type": "markdown",
   "metadata": {},
   "source": [
    "## Mean Absolute Error (MAE)\n",
    "\n",
    "MAE is the average of the absolute differences between actual and predicted values. It measures the average magnitude of the errors in a set of predictions, without considering their direction.\n",
    "\n",
    "**Formula:**\n",
    "$$ \\text{MAE} = \\frac{1}{n} \\sum_{i=1}^n |y_i - \\hat{y}_i| $$\n",
    "\n",
    "**Calculation:**\n",
    "\n",
    "$$\n",
    "\\text{MAE} = \\frac{|100 - 110| + |150 - 140| + |200 - 210| + |300 - 290| + |400 - 410|}{5} = \\frac{10 + 10 + 10 + 10 + 10}{5} = 10\n",
    "$$"
   ]
  },
  {
   "cell_type": "code",
   "execution_count": 3,
   "metadata": {},
   "outputs": [
    {
     "data": {
      "text/plain": [
       "10.0"
      ]
     },
     "execution_count": 3,
     "metadata": {},
     "output_type": "execute_result"
    }
   ],
   "source": [
    "# let's check what sklearn calculation is:\n",
    "mae = mean_absolute_error(y_true=df['actual_sales'], y_pred=df['predicted_sales'])\n",
    "mae"
   ]
  },
  {
   "cell_type": "markdown",
   "metadata": {},
   "source": [
    "## Mean Squared Error (MSE)\n",
    "\n",
    "MSE is the average of the squares of the errors. It measures the average squared difference between the actual and predicted values. Squaring the errors gives more weight to larger errors.\n",
    "\n",
    "**Formula:**\n",
    "$$ \\text{MSE} = \\frac{1}{n} \\sum_{i=1}^n (y_i - \\hat{y}_i)^2 $$\n",
    "\n",
    "**Calculation:**\n",
    "\n",
    "$$\n",
    "\\text{MSE} = \\frac{(100 - 110)^2 + (150 - 140)^2 + (200 - 210)^2 + (300 - 290)^2 + (400 - 410)^2}{5} = \\frac{100 + 100 + 100 + 100 + 100}{5} = 100\n",
    "$$"
   ]
  },
  {
   "cell_type": "code",
   "execution_count": 4,
   "metadata": {},
   "outputs": [
    {
     "data": {
      "text/plain": [
       "100.0"
      ]
     },
     "execution_count": 4,
     "metadata": {},
     "output_type": "execute_result"
    }
   ],
   "source": [
    "# let's check what sklearn calculation is:\n",
    "mse = mean_squared_error(y_true=df['actual_sales'], y_pred=df['predicted_sales'])\n",
    "mse"
   ]
  },
  {
   "cell_type": "markdown",
   "metadata": {},
   "source": [
    "## Root Mean Squared Error (RMSE)\n",
    "\n",
    "RMSE is the square root of the average of the squared errors. It measures the square root of the average squared differences between actual and predicted values. RMSE is interpretable in the same units as the original data, making it more intuitive.\n",
    "\n",
    "**Formula:**\n",
    "$$ \\text{RMSE} = \\sqrt{\\text{MSE}} $$\n",
    "\n",
    "**Calculation:**\n",
    "\n",
    "$$\n",
    "\\text{RMSE} = \\sqrt{100} = 10\n",
    "$$"
   ]
  },
  {
   "cell_type": "code",
   "execution_count": 5,
   "metadata": {},
   "outputs": [
    {
     "data": {
      "text/plain": [
       "10.0"
      ]
     },
     "execution_count": 5,
     "metadata": {},
     "output_type": "execute_result"
    }
   ],
   "source": [
    "# let's check what sklearn calculation is:\n",
    "rmse = root_mean_squared_error(y_true=df['actual_sales'], y_pred=df['predicted_sales'])\n",
    "rmse"
   ]
  },
  {
   "cell_type": "markdown",
   "metadata": {},
   "source": [
    "## R-squared (Coefficient of Determination)\n",
    "R-squared is a statistical measure that represents the proportion of the variance in the dependent variable that is predictable from the independent variables.\n",
    "\n",
    "**Formula:**\n",
    "$$\n",
    "R^2 = 1 - \\frac{\\sum_{i=1}^n (y_i - \\hat{y}_i)^2}{\\sum_{i=1}^n (y_i - \\bar{y})^2}\n",
    "$$\n",
    "\n",
    "**Calculation:**\n",
    "\n",
    "1. Calculate the mean of the actual sales:\n",
    "$$\n",
    "\\bar{y} = \\frac{100 + 150 + 200 + 300 + 400}{5} = 230\n",
    "$$\n",
    "\n",
    "2. Calculate the total sum of squares (TSS):\n",
    "$$\n",
    "\\sum_{i=1}^n (y_i - \\bar{y})^2 = (100 - 230)^2 + (150 - 230)^2 + (200 - 230)^2 + (300 - 230)^2 + (400 - 230)^2 = 16900 + 6400 + 900 + 4900 + 28900 = 58000\n",
    "$$\n",
    "\n",
    "3. Calculate the residual sum of squares (RSS):\n",
    "$$\n",
    "\\sum_{i=1}^n (y_i - \\hat{y}_i)^2 = (100 - 110)^2 + (150 - 140)^2 + (200 - 210)^2 + (300 - 290)^2 + (400 - 410)^2 = 100 + 100 + 100 + 100 + 100 = 500\n",
    "$$\n",
    "\n",
    "4. Calculate R-squared:\n",
    "$$\n",
    "R^2 = 1 - \\frac{500}{58000} \\approx 0.9914\n",
    "$$\n"
   ]
  },
  {
   "cell_type": "code",
   "execution_count": 6,
   "metadata": {},
   "outputs": [
    {
     "data": {
      "text/plain": [
       "0.9914"
      ]
     },
     "execution_count": 6,
     "metadata": {},
     "output_type": "execute_result"
    }
   ],
   "source": [
    "# let's check what sklearn calculation is:\n",
    "r2 = r2_score(y_true=df['actual_sales'], y_pred=df['predicted_sales'])\n",
    "round(r2,4)"
   ]
  },
  {
   "cell_type": "markdown",
   "metadata": {},
   "source": [
    "### Interpretation\n",
    "- **MAE**: The average absolute error is 10 ice creams. This means, on average, our predictions are off by 10 ice creams.\n",
    "- **MSE**: The average of the squared errors is 100. Since the errors are squared, this value can be harder to interpret directly compared to MAE and RMSE.\n",
    "- **RMSE**: The average error, considering the original scale of the data, is 10 ice creams. This provides a more intuitive measure of prediction error, similar to MAE but with more weight given to larger errors.\n",
    "- **R-squared**: An R-squared value of approximately 0.9914 means that about 99.14% of the variability in ice cream sales can be explained by the model. The remaining 0.86% of the variability is due to other factors not included in the model."
   ]
  },
  {
   "cell_type": "markdown",
   "metadata": {},
   "source": [
    "## Evaluate the Errors\n",
    "\n",
    "To determine whether an error, let's say Mean Absolute Error (MAE) is considered big or small, you need to consider the following factors:\n",
    "\n",
    "1. Context of the Problem:\n",
    "\n",
    "    Understand the domain and the specific problem you are addressing. Different domains have different tolerances for error.\n",
    "\n",
    "2. Scale of the Target Variable:\n",
    "\n",
    "    Compare the MAE to the range of the target variable. For instance, if the target variable ranges from 0 to 1000, an MAE of 2.34 might be quite small. However, if the target variable ranges from 0 to 10, an MAE of 2.34 is relatively large.\n",
    "\n",
    "3. Benchmarking:\n",
    "\n",
    "    Compare the MAE to benchmarks or previously reported results in similar studies or problems.\n",
    "\n",
    "4. Baseline Model:\n",
    "\n",
    "    Compare the MAE to a simple baseline model (e.g., mean predictor model). If the regression model significantly outperforms the baseline, the MAE might be acceptable.\n",
    "\n",
    "5. Domain-Specific Acceptability:\n",
    "\n",
    "    Consider the acceptable error margin in your specific domain. Some applications may require very low errors (e.g., medical predictions), while others may tolerate higher errors (e.g., movie recommendations)\n",
    "\n",
    "\n",
    "### Steps to Evaluate the error (for example - MAE):"
   ]
  },
  {
   "cell_type": "code",
   "execution_count": 7,
   "metadata": {},
   "outputs": [
    {
     "name": "stdout",
     "output_type": "stream",
     "text": [
      "MAE: 10.0\n",
      "Relative MAE to range: 0.0333\n",
      "Relative MAE to mean: 0.0435\n",
      "Baseline MAE: 96.0000\n",
      "Improvement over baseline: 89.5833%\n"
     ]
    }
   ],
   "source": [
    "# Calculate the Range and Mean of the Target Variable:\n",
    "print(f'MAE: {mae}')\n",
    "\n",
    "y_true = df['actual_sales']\n",
    "\n",
    "# Calculate the range and mean of the target variable\n",
    "target_range = np.max(y_true) - np.min(y_true)\n",
    "target_mean = np.mean(y_true)\n",
    "\n",
    "# Relative MAE compared to range\n",
    "relative_mae_range = mae / target_range\n",
    "print(f\"Relative MAE to range: {relative_mae_range:.4f}\")\n",
    "\n",
    "# Relative MAE compared to mean\n",
    "relative_mae_mean = mae / target_mean\n",
    "print(f\"Relative MAE to mean: {relative_mae_mean:.4f}\")\n",
    "\n",
    "# Evaluate against a baseline model (mean predictor)\n",
    "baseline_prediction = np.mean(y_true)\n",
    "baseline_mae = mean_absolute_error(y_true, np.full_like(y_true, baseline_prediction))\n",
    "print(f\"Baseline MAE: {baseline_mae:.4f}\")\n",
    "\n",
    "# Comparing MAE with baseline\n",
    "improvement_over_baseline = (baseline_mae - mae) / baseline_mae\n",
    "print(f\"Improvement over baseline: {improvement_over_baseline:.4%}\")"
   ]
  },
  {
   "cell_type": "markdown",
   "metadata": {},
   "source": [
    "A relative MAE of 0.0333 means that the average error is about 3.33% of the range of your target variable. This is quite low, indicating that the errors are small relative to the overall range of ice cream sales.\n",
    "\n",
    "A relative MAE of 0.0435 means that the average error is about 4.35% of the mean ice cream sales. This is also relatively low, suggesting that the errors are small compared to the average sales.\n",
    "\n",
    "A baseline MAE of 96 means that a simple mean predictor (predicting the average sales for all temperatures) has an average error of 96 units. Our model's MAE of 10 is significantly better than this baseline."
   ]
  }
 ],
 "metadata": {
  "kernelspec": {
   "display_name": ".venv",
   "language": "python",
   "name": "python3"
  },
  "language_info": {
   "codemirror_mode": {
    "name": "ipython",
    "version": 3
   },
   "file_extension": ".py",
   "mimetype": "text/x-python",
   "name": "python",
   "nbconvert_exporter": "python",
   "pygments_lexer": "ipython3",
   "version": "3.12.3"
  }
 },
 "nbformat": 4,
 "nbformat_minor": 2
}
