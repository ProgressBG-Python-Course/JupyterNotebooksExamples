{
 "cells": [
  {
   "cell_type": "markdown",
   "metadata": {},
   "source": [
    "# DataFrames Manipulations"
   ]
  },
  {
   "cell_type": "code",
   "execution_count": 1,
   "metadata": {},
   "outputs": [],
   "source": [
    "import pandas as pd"
   ]
  },
  {
   "cell_type": "markdown",
   "metadata": {},
   "source": [
    "## Create Weather datasets"
   ]
  },
  {
   "cell_type": "code",
   "execution_count": 2,
   "metadata": {},
   "outputs": [
    {
     "data": {
      "text/html": [
       "<div>\n",
       "<style scoped>\n",
       "    .dataframe tbody tr th:only-of-type {\n",
       "        vertical-align: middle;\n",
       "    }\n",
       "\n",
       "    .dataframe tbody tr th {\n",
       "        vertical-align: top;\n",
       "    }\n",
       "\n",
       "    .dataframe thead th {\n",
       "        text-align: right;\n",
       "    }\n",
       "</style>\n",
       "<table border=\"1\" class=\"dataframe\">\n",
       "  <thead>\n",
       "    <tr style=\"text-align: right;\">\n",
       "      <th></th>\n",
       "      <th>town</th>\n",
       "      <th>temp</th>\n",
       "      <th>rain</th>\n",
       "    </tr>\n",
       "  </thead>\n",
       "  <tbody>\n",
       "    <tr>\n",
       "      <th>0</th>\n",
       "      <td>Atina</td>\n",
       "      <td>35</td>\n",
       "      <td>False</td>\n",
       "    </tr>\n",
       "    <tr>\n",
       "      <th>1</th>\n",
       "      <td>Oslo</td>\n",
       "      <td>21</td>\n",
       "      <td>False</td>\n",
       "    </tr>\n",
       "    <tr>\n",
       "      <th>2</th>\n",
       "      <td>London</td>\n",
       "      <td>25</td>\n",
       "      <td>True</td>\n",
       "    </tr>\n",
       "  </tbody>\n",
       "</table>\n",
       "</div>"
      ],
      "text/plain": [
       "     town  temp   rain\n",
       "0   Atina    35  False\n",
       "1    Oslo    21  False\n",
       "2  London    25   True"
      ]
     },
     "execution_count": 2,
     "metadata": {},
     "output_type": "execute_result"
    }
   ],
   "source": [
    "eu_weather_df = pd.DataFrame({\n",
    "  \"town\": [\"Atina\", \"Oslo\", \"London\"],\n",
    "  \"temp\":[35,21,25],\n",
    "  \"rain\": [False, False, True ]\n",
    "})\n",
    "eu_weather_df"
   ]
  },
  {
   "cell_type": "code",
   "execution_count": 3,
   "metadata": {},
   "outputs": [
    {
     "data": {
      "text/html": [
       "<div>\n",
       "<style scoped>\n",
       "    .dataframe tbody tr th:only-of-type {\n",
       "        vertical-align: middle;\n",
       "    }\n",
       "\n",
       "    .dataframe tbody tr th {\n",
       "        vertical-align: top;\n",
       "    }\n",
       "\n",
       "    .dataframe thead th {\n",
       "        text-align: right;\n",
       "    }\n",
       "</style>\n",
       "<table border=\"1\" class=\"dataframe\">\n",
       "  <thead>\n",
       "    <tr style=\"text-align: right;\">\n",
       "      <th></th>\n",
       "      <th>town</th>\n",
       "      <th>temp</th>\n",
       "      <th>rain</th>\n",
       "    </tr>\n",
       "  </thead>\n",
       "  <tbody>\n",
       "    <tr>\n",
       "      <th>0</th>\n",
       "      <td>Sofia</td>\n",
       "      <td>25</td>\n",
       "      <td>False</td>\n",
       "    </tr>\n",
       "    <tr>\n",
       "      <th>1</th>\n",
       "      <td>Sandanski</td>\n",
       "      <td>32</td>\n",
       "      <td>False</td>\n",
       "    </tr>\n",
       "    <tr>\n",
       "      <th>2</th>\n",
       "      <td>Pleven</td>\n",
       "      <td>21</td>\n",
       "      <td>True</td>\n",
       "    </tr>\n",
       "  </tbody>\n",
       "</table>\n",
       "</div>"
      ],
      "text/plain": [
       "        town  temp   rain\n",
       "0      Sofia    25  False\n",
       "1  Sandanski    32  False\n",
       "2     Pleven    21   True"
      ]
     },
     "execution_count": 3,
     "metadata": {},
     "output_type": "execute_result"
    }
   ],
   "source": [
    "bg_weather_df = pd.DataFrame({\n",
    "  \"town\": [\"Sofia\", \"Sandanski\", \"Pleven\"],\n",
    "  \"temp\":[25,32,21],\n",
    "  \"rain\": [False, False, True ]\n",
    "})\n",
    "bg_weather_df"
   ]
  },
  {
   "cell_type": "markdown",
   "metadata": {},
   "source": [
    "## Re-arange columns"
   ]
  },
  {
   "cell_type": "code",
   "execution_count": 10,
   "metadata": {},
   "outputs": [
    {
     "name": "stdout",
     "output_type": "stream",
     "text": [
      "rearenged eu_weather_df: \n",
      "   temp   rain\n",
      "0    35  False\n",
      "1    21  False\n",
      "2    25   True\n"
     ]
    }
   ],
   "source": [
    "eu_weather_df = eu_weather_df[[\"temp\", \"rain\"]]\n",
    "print(f'rearenged eu_weather_df: \\n{eu_weather_df}')\n"
   ]
  },
  {
   "cell_type": "code",
   "execution_count": 8,
   "metadata": {},
   "outputs": [
    {
     "data": {
      "text/html": [
       "<div>\n",
       "<style scoped>\n",
       "    .dataframe tbody tr th:only-of-type {\n",
       "        vertical-align: middle;\n",
       "    }\n",
       "\n",
       "    .dataframe tbody tr th {\n",
       "        vertical-align: top;\n",
       "    }\n",
       "\n",
       "    .dataframe thead th {\n",
       "        text-align: right;\n",
       "    }\n",
       "</style>\n",
       "<table border=\"1\" class=\"dataframe\">\n",
       "  <thead>\n",
       "    <tr style=\"text-align: right;\">\n",
       "      <th></th>\n",
       "      <th>town</th>\n",
       "      <th>temp</th>\n",
       "      <th>rain</th>\n",
       "    </tr>\n",
       "  </thead>\n",
       "  <tbody>\n",
       "    <tr>\n",
       "      <th>0</th>\n",
       "      <td>Atina</td>\n",
       "      <td>35</td>\n",
       "      <td>False</td>\n",
       "    </tr>\n",
       "    <tr>\n",
       "      <th>1</th>\n",
       "      <td>Oslo</td>\n",
       "      <td>21</td>\n",
       "      <td>False</td>\n",
       "    </tr>\n",
       "    <tr>\n",
       "      <th>2</th>\n",
       "      <td>London</td>\n",
       "      <td>25</td>\n",
       "      <td>True</td>\n",
       "    </tr>\n",
       "  </tbody>\n",
       "</table>\n",
       "</div>"
      ],
      "text/plain": [
       "     town  temp   rain\n",
       "0   Atina    35  False\n",
       "1    Oslo    21  False\n",
       "2  London    25   True"
      ]
     },
     "execution_count": 8,
     "metadata": {},
     "output_type": "execute_result"
    }
   ],
   "source": [
    "\n",
    "# but let get the order back:\n",
    "eu_weather_df = eu_weather_df[['town', 'temp', 'rain']]\n",
    "eu_weather_df\n"
   ]
  },
  {
   "cell_type": "markdown",
   "metadata": {},
   "source": [
    "## Insert Columns"
   ]
  },
  {
   "cell_type": "markdown",
   "metadata": {},
   "source": [
    "### Insert column into DF at specified location\n",
    "\n",
    "df.insert(loc, column, value, allow_duplicates: 'bool' = False) -> 'None'"
   ]
  },
  {
   "cell_type": "code",
   "execution_count": null,
   "metadata": {},
   "outputs": [],
   "source": [
    "if not \"wind\" in eu_weather_df.columns:\n",
    "    eu_weather_df.insert(3,\"wind\",[1.5, 7.5, 4])\n",
    "eu_weather_df"
   ]
  },
  {
   "cell_type": "markdown",
   "metadata": {},
   "source": [
    "### Concatenate DF along a particular axis\n",
    "\n",
    "    `pd.concat(\n",
    "        objs: 'Iterable[NDFrame] | Mapping[Hashable, NDFrame]',\n",
    "        axis=0,\n",
    "        join='outer',\n",
    "        ignore_index: 'bool' = False,\n",
    "        keys=None,\n",
    "        levels=None,\n",
    "        names=None,\n",
    "        verify_integrity: 'bool' = False,\n",
    "        sort: 'bool' = False,\n",
    "        copy: 'bool' = True,\n",
    "    ) -> 'FrameOrSeriesUnion'`\n",
    "\n",
    "Concatenate pandas objects along a particular axis with optional set logic\n",
    "along the other axes."
   ]
  },
  {
   "cell_type": "code",
   "execution_count": null,
   "metadata": {},
   "outputs": [],
   "source": [
    "wind_df=pd.DataFrame([3.4, 2, 6.5], columns=[\"wind\"])\n",
    "\n",
    "# we have to specify axis=1, in order to append columns, not rows\n",
    "bg_weather_df= pd.concat([bg_weather_df, wind_df],axis=1)\n",
    "bg_weather_df\n"
   ]
  },
  {
   "cell_type": "markdown",
   "metadata": {},
   "source": [
    "## Deleting columns"
   ]
  },
  {
   "cell_type": "markdown",
   "metadata": {},
   "source": [
    "#### in place: with del or pop()"
   ]
  },
  {
   "cell_type": "code",
   "execution_count": null,
   "metadata": {},
   "outputs": [],
   "source": [
    "del bg_weather_df[\"wind\"]\n",
    "bg_weather_df"
   ]
  },
  {
   "cell_type": "markdown",
   "metadata": {},
   "source": [
    "#### in new dataframe"
   ]
  },
  {
   "cell_type": "code",
   "execution_count": null,
   "metadata": {},
   "outputs": [],
   "source": [
    "# we have to specify axes=1, in order to drop columns, not rows\n",
    "df_tmp = eu_weather_df.drop([\"wind\",\"rain\"], axis=1)\n",
    "df_tmp"
   ]
  },
  {
   "cell_type": "code",
   "execution_count": null,
   "metadata": {},
   "outputs": [],
   "source": [
    "# note that most oerations of DataFrame objects do not modify the original object, but return a copy \n",
    "eu_weather_df"
   ]
  },
  {
   "cell_type": "markdown",
   "metadata": {},
   "source": [
    "## Append new rows"
   ]
  },
  {
   "cell_type": "markdown",
   "metadata": {},
   "source": [
    "#### with append()"
   ]
  },
  {
   "cell_type": "code",
   "execution_count": null,
   "metadata": {},
   "outputs": [],
   "source": [
    "# keep original indexes - deafult:\n",
    "# appended_weather = eu_weather_df.append(bg_weather_df, sort=False)\n",
    "\n",
    "#auto indexing\n",
    "appended_weather = eu_weather_df.append(bg_weather_df,sort=False, ignore_index=True )\n",
    "\n",
    "appended_weather"
   ]
  },
  {
   "cell_type": "markdown",
   "metadata": {},
   "source": [
    "#### with concat() - for rows, i.e. axis=0"
   ]
  },
  {
   "cell_type": "code",
   "execution_count": null,
   "metadata": {},
   "outputs": [],
   "source": [
    "# keep indexes\n",
    "concat_weather = pd.concat([eu_weather_df, bg_weather_df],sort=False)\n",
    "\n",
    "# auto indexing:\n",
    "# concat_weather = pd.concat([eu_weather_df, bg_weather_df], ignore_index=True, sort=False)\n",
    "\n",
    "# add keys for each DF\n",
    "concat_weather = pd.concat([eu_weather_df, bg_weather_df],\n",
    "                           keys=[\"EU\", \"BG\"],sort=False)\n",
    "\n",
    "# later, we can retrieve by index location:\n",
    "# concat_weather.loc[\"BG\"]\n",
    "\n",
    "concat_weather\n",
    "\n"
   ]
  },
  {
   "cell_type": "markdown",
   "metadata": {},
   "source": [
    "### Concat dataframe as new columns, i.e. axis=1"
   ]
  },
  {
   "cell_type": "code",
   "execution_count": null,
   "metadata": {},
   "outputs": [],
   "source": [
    "print(eu_weather_df)\n",
    "print(bg_weather_df)\n",
    "concat_weather_as_columns = pd.concat([eu_weather_df, bg_weather_df], axis=1)\n",
    "concat_weather_as_columns"
   ]
  },
  {
   "cell_type": "markdown",
   "metadata": {},
   "source": [
    "## DataFrame Object summary statistics"
   ]
  },
  {
   "cell_type": "markdown",
   "metadata": {},
   "source": [
    "### describe()"
   ]
  },
  {
   "cell_type": "code",
   "execution_count": null,
   "metadata": {},
   "outputs": [],
   "source": [
    "print(bg_weather_df)\n",
    "bg_weather_df.describe()"
   ]
  },
  {
   "cell_type": "markdown",
   "metadata": {},
   "source": [
    "####  count(), max(), min(),mean(), std()"
   ]
  },
  {
   "cell_type": "code",
   "execution_count": null,
   "metadata": {},
   "outputs": [],
   "source": [
    "print(bg_weather_df)\n",
    "print(\"***count:\\n\", bg_weather_df.count())\n",
    "print(\"***min:\\n\", bg_weather_df.min())\n",
    "print(\"***std:\\n\", bg_weather_df.std())\n"
   ]
  }
 ],
 "metadata": {
  "interpreter": {
   "hash": "6ff067a0fdd468d21234896ffbb9cd57a905a2e40964bad2ca7f8fead7ef9bc7"
  },
  "jupytext": {},
  "kernelspec": {
   "display_name": "Python 3.9.7 64-bit ('ml_python_3.9': pyenv)",
   "name": "python3"
  },
  "language_info": {
   "codemirror_mode": {
    "name": "ipython",
    "version": 3
   },
   "file_extension": ".py",
   "mimetype": "text/x-python",
   "name": "python",
   "nbconvert_exporter": "python",
   "pygments_lexer": "ipython3",
   "version": "3.9.7"
  },
  "toc": {
   "base_numbering": 1,
   "nav_menu": {},
   "number_sections": true,
   "sideBar": true,
   "skip_h1_title": true,
   "title_cell": "Table of Contents",
   "title_sidebar": "Content",
   "toc_cell": false,
   "toc_position": {},
   "toc_section_display": true,
   "toc_window_display": true
  }
 },
 "nbformat": 4,
 "nbformat_minor": 4
}
