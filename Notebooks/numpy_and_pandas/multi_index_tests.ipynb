{
 "cells": [
  {
   "cell_type": "code",
   "execution_count": 2,
   "metadata": {},
   "outputs": [],
   "source": [
    "import pandas as pd\n",
    "import numpy as np"
   ]
  },
  {
   "cell_type": "markdown",
   "metadata": {},
   "source": [
    "# Hierarchical indexing (MultiIndex)\n",
    "\n",
    "In essence, A MultiIndex, also known as a multi-level index or hierarchical index enables us to store and manipulate data with an arbitrary number of dimensions in lower dimensional data structures like Series (1d) and DataFrame (2d).\n",
    "\n",
    "It allows us to have multiple columns acting as a row identifier, while having each index column related to another through a parent/child relationship.\n",
    "\n",
    "Reference: [https://pandas.pydata.org/pandas-docs/stable/user_guide/advanced.html](https://pandas.pydata.org/pandas-docs/stable/user_guide/advanced.html)\n",
    "\n"
   ]
  },
  {
   "cell_type": "markdown",
   "metadata": {},
   "source": [
    "## Load and explore data"
   ]
  },
  {
   "cell_type": "code",
   "execution_count": 3,
   "metadata": {},
   "outputs": [],
   "source": [
    "# load datasets\n",
    "df = pd.read_csv('../../datasets/LordOfTheRings/WordsByCharacter.csv')"
   ]
  },
  {
   "cell_type": "code",
   "execution_count": 4,
   "metadata": {},
   "outputs": [
    {
     "data": {
      "text/html": [
       "<div>\n",
       "<style scoped>\n",
       "    .dataframe tbody tr th:only-of-type {\n",
       "        vertical-align: middle;\n",
       "    }\n",
       "\n",
       "    .dataframe tbody tr th {\n",
       "        vertical-align: top;\n",
       "    }\n",
       "\n",
       "    .dataframe thead th {\n",
       "        text-align: right;\n",
       "    }\n",
       "</style>\n",
       "<table border=\"1\" class=\"dataframe\">\n",
       "  <thead>\n",
       "    <tr style=\"text-align: right;\">\n",
       "      <th></th>\n",
       "      <th>Film</th>\n",
       "      <th>Chapter</th>\n",
       "      <th>Character</th>\n",
       "      <th>Race</th>\n",
       "      <th>Words</th>\n",
       "    </tr>\n",
       "  </thead>\n",
       "  <tbody>\n",
       "    <tr>\n",
       "      <th>0</th>\n",
       "      <td>The Fellowship Of The Ring</td>\n",
       "      <td>01: Prologue</td>\n",
       "      <td>Bilbo</td>\n",
       "      <td>Hobbit</td>\n",
       "      <td>4</td>\n",
       "    </tr>\n",
       "    <tr>\n",
       "      <th>1</th>\n",
       "      <td>The Fellowship Of The Ring</td>\n",
       "      <td>01: Prologue</td>\n",
       "      <td>Elrond</td>\n",
       "      <td>Elf</td>\n",
       "      <td>5</td>\n",
       "    </tr>\n",
       "    <tr>\n",
       "      <th>2</th>\n",
       "      <td>The Fellowship Of The Ring</td>\n",
       "      <td>01: Prologue</td>\n",
       "      <td>Galadriel</td>\n",
       "      <td>Elf</td>\n",
       "      <td>460</td>\n",
       "    </tr>\n",
       "  </tbody>\n",
       "</table>\n",
       "</div>"
      ],
      "text/plain": [
       "                         Film       Chapter  Character    Race  Words\n",
       "0  The Fellowship Of The Ring  01: Prologue      Bilbo  Hobbit      4\n",
       "1  The Fellowship Of The Ring  01: Prologue     Elrond     Elf      5\n",
       "2  The Fellowship Of The Ring  01: Prologue  Galadriel     Elf    460"
      ]
     },
     "execution_count": 4,
     "metadata": {},
     "output_type": "execute_result"
    }
   ],
   "source": [
    "df.head(3)"
   ]
  },
  {
   "cell_type": "code",
   "execution_count": 5,
   "metadata": {},
   "outputs": [
    {
     "name": "stdout",
     "output_type": "stream",
     "text": [
      "RangeIndex(start=0, stop=731, step=1)\n",
      "[ 0  1  2  3  4  5  6  7  8  9 10 11 12 13 14 15 16 17 18 19]\n",
      "[None]\n"
     ]
    }
   ],
   "source": [
    "#get index labels:\n",
    "print(df.index)\n",
    "print(df.index.values[:20])\n",
    "# print(df.index.name)\n",
    "print(df.index.names)\n",
    "# print(df.index.value_counts())"
   ]
  },
  {
   "cell_type": "markdown",
   "metadata": {},
   "source": [
    "## Create MultiIndex\n",
    "\n",
    "\n",
    "\n"
   ]
  },
  {
   "cell_type": "markdown",
   "metadata": {},
   "source": [
    "### From columns with [set_index()](https://pandas.pydata.org/docs/reference/api/pandas.DataFrame.set_index.html)\n"
   ]
  },
  {
   "cell_type": "code",
   "execution_count": 6,
   "metadata": {},
   "outputs": [
    {
     "name": "stdout",
     "output_type": "stream",
     "text": [
      "Index(['Film', 'Chapter', 'Character', 'Race', 'Words'], dtype='object')\n"
     ]
    }
   ],
   "source": [
    "print(df.columns)"
   ]
  },
  {
   "cell_type": "code",
   "execution_count": 7,
   "metadata": {},
   "outputs": [
    {
     "name": "stdout",
     "output_type": "stream",
     "text": [
      "                                                                    Words\n",
      "Film                       Chapter                Race   Character       \n",
      "The Fellowship Of The Ring 01: Prologue           Hobbit Bilbo          4\n",
      "                                                  Elf    Elrond         5\n",
      "                                                         Galadriel    460\n",
      "                                                  Gollum Gollum        20\n",
      "                           02: Concerning Hobbits Hobbit Bilbo        214\n",
      "['Film', 'Chapter', 'Race', 'Character']\n",
      "[('The Fellowship Of The Ring', '01: Prologue', 'Hobbit', 'Bilbo')\n",
      " ('The Fellowship Of The Ring', '01: Prologue', 'Elf', 'Elrond')\n",
      " ('The Fellowship Of The Ring', '01: Prologue', 'Elf', 'Galadriel')\n",
      " ('The Fellowship Of The Ring', '01: Prologue', 'Gollum', 'Gollum')\n",
      " ('The Fellowship Of The Ring', '02: Concerning Hobbits', 'Hobbit', 'Bilbo')]\n"
     ]
    }
   ],
   "source": [
    "df_multi = df.set_index(['Film', 'Chapter', 'Race', 'Character'])\n",
    "\n",
    "print(df_multi.head())\n",
    "\n",
    "print(df_multi.index.names)\n",
    "print(df_multi.index.values[:5])"
   ]
  },
  {
   "cell_type": "markdown",
   "metadata": {},
   "source": [
    "Note, that the index is not sorted by default. To do that, we can use [sort_index()](https://pandas.pydata.org/docs/reference/api/pandas.DataFrame.sort_index.html) method"
   ]
  },
  {
   "cell_type": "markdown",
   "metadata": {},
   "source": [
    "## Remove Multiindex"
   ]
  },
  {
   "cell_type": "markdown",
   "metadata": {},
   "source": [
    "### With [reset_index()](https://pandas.pydata.org/docs/reference/api/pandas.DataFrame.reset_index.html)\n",
    "\n",
    "Reset the index of the DataFrame, and use the default one instead. If the DataFrame has a MultiIndex, this method can remove one or more levels."
   ]
  },
  {
   "cell_type": "code",
   "execution_count": 8,
   "metadata": {},
   "outputs": [
    {
     "data": {
      "text/html": [
       "<div>\n",
       "<style scoped>\n",
       "    .dataframe tbody tr th:only-of-type {\n",
       "        vertical-align: middle;\n",
       "    }\n",
       "\n",
       "    .dataframe tbody tr th {\n",
       "        vertical-align: top;\n",
       "    }\n",
       "\n",
       "    .dataframe thead th {\n",
       "        text-align: right;\n",
       "    }\n",
       "</style>\n",
       "<table border=\"1\" class=\"dataframe\">\n",
       "  <thead>\n",
       "    <tr style=\"text-align: right;\">\n",
       "      <th></th>\n",
       "      <th>Film</th>\n",
       "      <th>Chapter</th>\n",
       "      <th>Race</th>\n",
       "      <th>Character</th>\n",
       "      <th>Words</th>\n",
       "    </tr>\n",
       "  </thead>\n",
       "  <tbody>\n",
       "    <tr>\n",
       "      <th>0</th>\n",
       "      <td>The Fellowship Of The Ring</td>\n",
       "      <td>01: Prologue</td>\n",
       "      <td>Hobbit</td>\n",
       "      <td>Bilbo</td>\n",
       "      <td>4</td>\n",
       "    </tr>\n",
       "    <tr>\n",
       "      <th>1</th>\n",
       "      <td>The Fellowship Of The Ring</td>\n",
       "      <td>01: Prologue</td>\n",
       "      <td>Elf</td>\n",
       "      <td>Elrond</td>\n",
       "      <td>5</td>\n",
       "    </tr>\n",
       "    <tr>\n",
       "      <th>2</th>\n",
       "      <td>The Fellowship Of The Ring</td>\n",
       "      <td>01: Prologue</td>\n",
       "      <td>Elf</td>\n",
       "      <td>Galadriel</td>\n",
       "      <td>460</td>\n",
       "    </tr>\n",
       "  </tbody>\n",
       "</table>\n",
       "</div>"
      ],
      "text/plain": [
       "                         Film       Chapter    Race  Character  Words\n",
       "0  The Fellowship Of The Ring  01: Prologue  Hobbit      Bilbo      4\n",
       "1  The Fellowship Of The Ring  01: Prologue     Elf     Elrond      5\n",
       "2  The Fellowship Of The Ring  01: Prologue     Elf  Galadriel    460"
      ]
     },
     "execution_count": 8,
     "metadata": {},
     "output_type": "execute_result"
    }
   ],
   "source": [
    "# remove all index levels\n",
    "tmp = df_multi.reset_index()\n",
    "tmp.head(3)\n"
   ]
  },
  {
   "cell_type": "code",
   "execution_count": 9,
   "metadata": {},
   "outputs": [
    {
     "data": {
      "text/html": [
       "<div>\n",
       "<style scoped>\n",
       "    .dataframe tbody tr th:only-of-type {\n",
       "        vertical-align: middle;\n",
       "    }\n",
       "\n",
       "    .dataframe tbody tr th {\n",
       "        vertical-align: top;\n",
       "    }\n",
       "\n",
       "    .dataframe thead th {\n",
       "        text-align: right;\n",
       "    }\n",
       "</style>\n",
       "<table border=\"1\" class=\"dataframe\">\n",
       "  <thead>\n",
       "    <tr style=\"text-align: right;\">\n",
       "      <th></th>\n",
       "      <th></th>\n",
       "      <th>Chapter</th>\n",
       "      <th>Race</th>\n",
       "      <th>Words</th>\n",
       "    </tr>\n",
       "    <tr>\n",
       "      <th>Film</th>\n",
       "      <th>Character</th>\n",
       "      <th></th>\n",
       "      <th></th>\n",
       "      <th></th>\n",
       "    </tr>\n",
       "  </thead>\n",
       "  <tbody>\n",
       "    <tr>\n",
       "      <th rowspan=\"10\" valign=\"top\">The Fellowship Of The Ring</th>\n",
       "      <th>Bilbo</th>\n",
       "      <td>01: Prologue</td>\n",
       "      <td>Hobbit</td>\n",
       "      <td>4</td>\n",
       "    </tr>\n",
       "    <tr>\n",
       "      <th>Elrond</th>\n",
       "      <td>01: Prologue</td>\n",
       "      <td>Elf</td>\n",
       "      <td>5</td>\n",
       "    </tr>\n",
       "    <tr>\n",
       "      <th>Galadriel</th>\n",
       "      <td>01: Prologue</td>\n",
       "      <td>Elf</td>\n",
       "      <td>460</td>\n",
       "    </tr>\n",
       "    <tr>\n",
       "      <th>Gollum</th>\n",
       "      <td>01: Prologue</td>\n",
       "      <td>Gollum</td>\n",
       "      <td>20</td>\n",
       "    </tr>\n",
       "    <tr>\n",
       "      <th>Bilbo</th>\n",
       "      <td>02: Concerning Hobbits</td>\n",
       "      <td>Hobbit</td>\n",
       "      <td>214</td>\n",
       "    </tr>\n",
       "    <tr>\n",
       "      <th>Bilbo</th>\n",
       "      <td>03: The Shire</td>\n",
       "      <td>Hobbit</td>\n",
       "      <td>70</td>\n",
       "    </tr>\n",
       "    <tr>\n",
       "      <th>Frodo</th>\n",
       "      <td>03: The Shire</td>\n",
       "      <td>Hobbit</td>\n",
       "      <td>128</td>\n",
       "    </tr>\n",
       "    <tr>\n",
       "      <th>Gandalf</th>\n",
       "      <td>03: The Shire</td>\n",
       "      <td>Ainur</td>\n",
       "      <td>197</td>\n",
       "    </tr>\n",
       "    <tr>\n",
       "      <th>Hobbit Kids</th>\n",
       "      <td>03: The Shire</td>\n",
       "      <td>Hobbit</td>\n",
       "      <td>10</td>\n",
       "    </tr>\n",
       "    <tr>\n",
       "      <th>Hobbits</th>\n",
       "      <td>03: The Shire</td>\n",
       "      <td>Hobbit</td>\n",
       "      <td>12</td>\n",
       "    </tr>\n",
       "  </tbody>\n",
       "</table>\n",
       "</div>"
      ],
      "text/plain": [
       "                                                       Chapter    Race  Words\n",
       "Film                       Character                                         \n",
       "The Fellowship Of The Ring Bilbo                  01: Prologue  Hobbit      4\n",
       "                           Elrond                 01: Prologue     Elf      5\n",
       "                           Galadriel              01: Prologue     Elf    460\n",
       "                           Gollum                 01: Prologue  Gollum     20\n",
       "                           Bilbo        02: Concerning Hobbits  Hobbit    214\n",
       "                           Bilbo                 03: The Shire  Hobbit     70\n",
       "                           Frodo                 03: The Shire  Hobbit    128\n",
       "                           Gandalf               03: The Shire   Ainur    197\n",
       "                           Hobbit Kids           03: The Shire  Hobbit     10\n",
       "                           Hobbits               03: The Shire  Hobbit     12"
      ]
     },
     "execution_count": 9,
     "metadata": {},
     "output_type": "execute_result"
    }
   ],
   "source": [
    "# reset only a subset of index\n",
    "tmp = df_multi.reset_index(level=['Chapter','Race'])\n",
    "tmp.head(10)\n",
    "# df_multi.head(3)"
   ]
  },
  {
   "cell_type": "markdown",
   "metadata": {},
   "source": [
    "## Sorting a MultiIndex\n",
    "\n",
    "For MultiIndex-ed objects to be indexed and sliced effectively, they need to be sorted. As with any index, you can use [sort_index()](https://pandas.pydata.org/docs/reference/api/pandas.DataFrame.sort_index.html).\n",
    "\n",
    "Indexing will work even if the data are not sorted, but will be rather inefficient (and show a PerformanceWarning). It will also return a copy of the data rather than a view."
   ]
  },
  {
   "cell_type": "code",
   "execution_count": null,
   "metadata": {},
   "outputs": [],
   "source": [
    "df_multi_sorted = df.set_index(['Film', 'Chapter', 'Race', 'Character']).sort_index()\n",
    "df_multi_sorted"
   ]
  },
  {
   "cell_type": "markdown",
   "metadata": {},
   "source": [
    "## Index DataFrame with MultiIndex\n",
    "\n",
    "we can use tupple with values for desired indexes with .loc"
   ]
  },
  {
   "cell_type": "code",
   "execution_count": 40,
   "metadata": {},
   "outputs": [
    {
     "data": {
      "text/html": [
       "<div>\n",
       "<style scoped>\n",
       "    .dataframe tbody tr th:only-of-type {\n",
       "        vertical-align: middle;\n",
       "    }\n",
       "\n",
       "    .dataframe tbody tr th {\n",
       "        vertical-align: top;\n",
       "    }\n",
       "\n",
       "    .dataframe thead th {\n",
       "        text-align: right;\n",
       "    }\n",
       "</style>\n",
       "<table border=\"1\" class=\"dataframe\">\n",
       "  <thead>\n",
       "    <tr style=\"text-align: right;\">\n",
       "      <th></th>\n",
       "      <th></th>\n",
       "      <th>Words</th>\n",
       "    </tr>\n",
       "    <tr>\n",
       "      <th>Race</th>\n",
       "      <th>Character</th>\n",
       "      <th></th>\n",
       "    </tr>\n",
       "  </thead>\n",
       "  <tbody>\n",
       "    <tr>\n",
       "      <th rowspan=\"2\" valign=\"top\">Elf</th>\n",
       "      <th>Elrond</th>\n",
       "      <td>5</td>\n",
       "    </tr>\n",
       "    <tr>\n",
       "      <th>Galadriel</th>\n",
       "      <td>460</td>\n",
       "    </tr>\n",
       "    <tr>\n",
       "      <th>Gollum</th>\n",
       "      <th>Gollum</th>\n",
       "      <td>20</td>\n",
       "    </tr>\n",
       "    <tr>\n",
       "      <th>Hobbit</th>\n",
       "      <th>Bilbo</th>\n",
       "      <td>4</td>\n",
       "    </tr>\n",
       "  </tbody>\n",
       "</table>\n",
       "</div>"
      ],
      "text/plain": [
       "                  Words\n",
       "Race   Character       \n",
       "Elf    Elrond         5\n",
       "       Galadriel    460\n",
       "Gollum Gollum        20\n",
       "Hobbit Bilbo          4"
      ]
     },
     "execution_count": 40,
     "metadata": {},
     "output_type": "execute_result"
    }
   ],
   "source": [
    "### TASK: which characters speak in the first chapter of “The Fellowship of the Ring”?\n",
    "# select all rows for which Film='The Fellowship Of The Ring' and Chapter='01: Prologue'\n",
    "df_multi_sorted.loc[('The Fellowship Of The Ring','01: Prologue'),:]"
   ]
  },
  {
   "cell_type": "markdown",
   "metadata": {},
   "source": [
    "### Skip a level in MultiIndex\n",
    "\n",
    "TASK: find the first five elves which speak in \"The Fellowship Of The Ring\""
   ]
  },
  {
   "cell_type": "markdown",
   "metadata": {},
   "source": [
    "#### Using slice(None) to select all values in sub-index"
   ]
  },
  {
   "cell_type": "code",
   "execution_count": 39,
   "metadata": {},
   "outputs": [
    {
     "data": {
      "text/html": [
       "<div>\n",
       "<style scoped>\n",
       "    .dataframe tbody tr th:only-of-type {\n",
       "        vertical-align: middle;\n",
       "    }\n",
       "\n",
       "    .dataframe tbody tr th {\n",
       "        vertical-align: top;\n",
       "    }\n",
       "\n",
       "    .dataframe thead th {\n",
       "        text-align: right;\n",
       "    }\n",
       "</style>\n",
       "<table border=\"1\" class=\"dataframe\">\n",
       "  <thead>\n",
       "    <tr style=\"text-align: right;\">\n",
       "      <th></th>\n",
       "      <th></th>\n",
       "      <th></th>\n",
       "      <th></th>\n",
       "      <th>Words</th>\n",
       "    </tr>\n",
       "    <tr>\n",
       "      <th>Film</th>\n",
       "      <th>Chapter</th>\n",
       "      <th>Race</th>\n",
       "      <th>Character</th>\n",
       "      <th></th>\n",
       "    </tr>\n",
       "  </thead>\n",
       "  <tbody>\n",
       "    <tr>\n",
       "      <th rowspan=\"5\" valign=\"top\">The Fellowship Of The Ring</th>\n",
       "      <th rowspan=\"2\" valign=\"top\">01: Prologue</th>\n",
       "      <th rowspan=\"2\" valign=\"top\">Elf</th>\n",
       "      <th>Elrond</th>\n",
       "      <td>5</td>\n",
       "    </tr>\n",
       "    <tr>\n",
       "      <th>Galadriel</th>\n",
       "      <td>460</td>\n",
       "    </tr>\n",
       "    <tr>\n",
       "      <th>21: Flight To The Ford</th>\n",
       "      <th>Elf</th>\n",
       "      <th>Arwen</th>\n",
       "      <td>131</td>\n",
       "    </tr>\n",
       "    <tr>\n",
       "      <th>22: Rivendell</th>\n",
       "      <th>Elf</th>\n",
       "      <th>Elrond</th>\n",
       "      <td>7</td>\n",
       "    </tr>\n",
       "    <tr>\n",
       "      <th>23: Many Meetings</th>\n",
       "      <th>Elf</th>\n",
       "      <th>Elrond</th>\n",
       "      <td>5</td>\n",
       "    </tr>\n",
       "  </tbody>\n",
       "</table>\n",
       "</div>"
      ],
      "text/plain": [
       "                                                                  Words\n",
       "Film                       Chapter                Race Character       \n",
       "The Fellowship Of The Ring 01: Prologue           Elf  Elrond         5\n",
       "                                                       Galadriel    460\n",
       "                           21: Flight To The Ford Elf  Arwen        131\n",
       "                           22: Rivendell          Elf  Elrond         7\n",
       "                           23: Many Meetings      Elf  Elrond         5"
      ]
     },
     "execution_count": 39,
     "metadata": {},
     "output_type": "execute_result"
    }
   ],
   "source": [
    "### TASK: find the first five elves which speak in \"The Fellowship Of The Ring\"\n",
    "df_multi_sorted.loc[('The Fellowship Of The Ring',slice(None),'Elf'),:].head(5)"
   ]
  },
  {
   "cell_type": "markdown",
   "metadata": {},
   "source": [
    "#### Using pd.IndexSlice to select all values in sub-index"
   ]
  },
  {
   "cell_type": "code",
   "execution_count": 42,
   "metadata": {},
   "outputs": [
    {
     "data": {
      "text/html": [
       "<div>\n",
       "<style scoped>\n",
       "    .dataframe tbody tr th:only-of-type {\n",
       "        vertical-align: middle;\n",
       "    }\n",
       "\n",
       "    .dataframe tbody tr th {\n",
       "        vertical-align: top;\n",
       "    }\n",
       "\n",
       "    .dataframe thead th {\n",
       "        text-align: right;\n",
       "    }\n",
       "</style>\n",
       "<table border=\"1\" class=\"dataframe\">\n",
       "  <thead>\n",
       "    <tr style=\"text-align: right;\">\n",
       "      <th></th>\n",
       "      <th></th>\n",
       "      <th></th>\n",
       "      <th></th>\n",
       "      <th>Words</th>\n",
       "    </tr>\n",
       "    <tr>\n",
       "      <th>Film</th>\n",
       "      <th>Chapter</th>\n",
       "      <th>Race</th>\n",
       "      <th>Character</th>\n",
       "      <th></th>\n",
       "    </tr>\n",
       "  </thead>\n",
       "  <tbody>\n",
       "    <tr>\n",
       "      <th rowspan=\"5\" valign=\"top\">The Fellowship Of The Ring</th>\n",
       "      <th rowspan=\"2\" valign=\"top\">01: Prologue</th>\n",
       "      <th rowspan=\"2\" valign=\"top\">Elf</th>\n",
       "      <th>Elrond</th>\n",
       "      <td>5</td>\n",
       "    </tr>\n",
       "    <tr>\n",
       "      <th>Galadriel</th>\n",
       "      <td>460</td>\n",
       "    </tr>\n",
       "    <tr>\n",
       "      <th>21: Flight To The Ford</th>\n",
       "      <th>Elf</th>\n",
       "      <th>Arwen</th>\n",
       "      <td>131</td>\n",
       "    </tr>\n",
       "    <tr>\n",
       "      <th>22: Rivendell</th>\n",
       "      <th>Elf</th>\n",
       "      <th>Elrond</th>\n",
       "      <td>7</td>\n",
       "    </tr>\n",
       "    <tr>\n",
       "      <th>23: Many Meetings</th>\n",
       "      <th>Elf</th>\n",
       "      <th>Elrond</th>\n",
       "      <td>5</td>\n",
       "    </tr>\n",
       "  </tbody>\n",
       "</table>\n",
       "</div>"
      ],
      "text/plain": [
       "                                                                  Words\n",
       "Film                       Chapter                Race Character       \n",
       "The Fellowship Of The Ring 01: Prologue           Elf  Elrond         5\n",
       "                                                       Galadriel    460\n",
       "                           21: Flight To The Ford Elf  Arwen        131\n",
       "                           22: Rivendell          Elf  Elrond         7\n",
       "                           23: Many Meetings      Elf  Elrond         5"
      ]
     },
     "execution_count": 42,
     "metadata": {},
     "output_type": "execute_result"
    }
   ],
   "source": [
    "### TASK: find the first five elves which speak in \"The Fellowship Of The Ring\"\n",
    "idx = pd.IndexSlice\n",
    "df_multi_sorted.loc[idx['The Fellowship Of The Ring',:,'Elf'],:].head(5)\n",
    "# df_multi_sorted.loc[('The Fellowship Of The Ring',slice(None),'Elf')].head(5)\n",
    "\n"
   ]
  },
  {
   "cell_type": "markdown",
   "metadata": {},
   "source": [
    "#### TASK: "
   ]
  }
 ],
 "metadata": {
  "interpreter": {
   "hash": "6ff067a0fdd468d21234896ffbb9cd57a905a2e40964bad2ca7f8fead7ef9bc7"
  },
  "kernelspec": {
   "display_name": "Python 3.9.7 64-bit ('ml_python_3.9': pyenv)",
   "name": "python3"
  },
  "language_info": {
   "codemirror_mode": {
    "name": "ipython",
    "version": 3
   },
   "file_extension": ".py",
   "mimetype": "text/x-python",
   "name": "python",
   "nbconvert_exporter": "python",
   "pygments_lexer": "ipython3",
   "version": "3.9.7"
  },
  "orig_nbformat": 4
 },
 "nbformat": 4,
 "nbformat_minor": 2
}
