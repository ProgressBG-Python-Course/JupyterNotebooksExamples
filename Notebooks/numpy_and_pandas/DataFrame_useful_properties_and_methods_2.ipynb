{
 "cells": [
  {
   "cell_type": "markdown",
   "metadata": {
    "toc-hr-collapsed": false
   },
   "source": [
    "## Useful properties and methods (Part 2)"
   ]
  },
  {
   "cell_type": "code",
   "execution_count": null,
   "metadata": {},
   "outputs": [],
   "source": [
    "import pandas as pd"
   ]
  },
  {
   "cell_type": "markdown",
   "metadata": {},
   "source": [
    "## Create DF:\n",
    "\n",
    "You can get the 'drinks.csv' file from https://github.com/geekcourses/JupyterNotebooksExamples/blob/master/datasets/various/drinks.csv"
   ]
  },
  {
   "cell_type": "code",
   "execution_count": null,
   "metadata": {
    "scrolled": true
   },
   "outputs": [],
   "source": [
    "data = pd.read_csv(\"../../datasets/various/drinks.csv\")\n",
    "data.head()"
   ]
  },
  {
   "cell_type": "markdown",
   "metadata": {},
   "source": [
    "## Selecting by max/min values in DF"
   ]
  },
  {
   "cell_type": "markdown",
   "metadata": {},
   "source": [
    "### Get maximum values of columns"
   ]
  },
  {
   "cell_type": "code",
   "execution_count": null,
   "metadata": {},
   "outputs": [],
   "source": [
    "# Get maximum values of every column\n",
    "data.max()"
   ]
  },
  {
   "cell_type": "code",
   "execution_count": null,
   "metadata": {},
   "outputs": [],
   "source": [
    "# find max values for wine, beer and pure_alcohol\n",
    "max_wine_servings = data.wine_servings.max()\n",
    "print(f'max_wine_servings: {max_wine_servings}')\n",
    "\n",
    "max_pure_alcohol = data.total_litres_of_pure_alcohol.max()\n",
    "print(f'max_pure_alcohol: {max_pure_alcohol}')\n",
    "\n",
    "max_beer_servings = data.beer_servings.max()\n",
    "print(f'max_beer_servings: {max_beer_servings}')"
   ]
  },
  {
   "cell_type": "markdown",
   "metadata": {},
   "source": [
    "### Get max values of row(s)\n",
    "\n",
    "must use df.max(axis=1)"
   ]
  },
  {
   "cell_type": "code",
   "execution_count": null,
   "metadata": {},
   "outputs": [],
   "source": [
    "data.max(axis=1).head(5)"
   ]
  },
  {
   "cell_type": "code",
   "execution_count": null,
   "metadata": {},
   "outputs": [],
   "source": [
    "# find max value from alcohol servings columns in row for Bulgaria\n",
    "alcohol_servings_columns = ['beer_servings','spirit_servings','wine_servings']\n",
    "\n",
    "bulgaria_data = data.loc[data.country == 'Bulgaria', alcohol_servings_columns]\n",
    "# print(bulgaria_data)\n",
    "bulgaria_data.max(axis=1)"
   ]
  },
  {
   "cell_type": "markdown",
   "metadata": {},
   "source": [
    "### Get label/coulmn of max value over row/column: df.idxmax()\n",
    "\n",
    "Reference: https://pandas.pydata.org/pandas-docs/stable/reference/api/pandas.DataFrame.idxmax.html"
   ]
  },
  {
   "cell_type": "markdown",
   "metadata": {},
   "source": [
    "#### Exmple: find max value from alcohol servings columns for Bulgaria"
   ]
  },
  {
   "cell_type": "code",
   "execution_count": null,
   "metadata": {},
   "outputs": [],
   "source": [
    "alcohol_servings_columns = ['beer_servings','spirit_servings','wine_servings']\n",
    "\n",
    "bulgaria_data = data.loc[data.country == 'Bulgaria', alcohol_servings_columns]\n",
    "# print(bulgaria_data)\n",
    "bulgaria_data.idxmax(axis=1)"
   ]
  },
  {
   "cell_type": "markdown",
   "metadata": {},
   "source": [
    "### Example: find country with max wine servings"
   ]
  },
  {
   "cell_type": "code",
   "execution_count": null,
   "metadata": {},
   "outputs": [],
   "source": [
    "wine_max_idx = data.wine_servings.idxmax()\n",
    "print(wine_max_idx)\n",
    "data.iloc[wine_max_idx,:]"
   ]
  },
  {
   "cell_type": "markdown",
   "metadata": {},
   "source": [
    "## Grouping\n",
    "\n",
    "Reference: https://pandas.pydata.org/docs/reference/api/pandas.DataFrame.groupby.html"
   ]
  },
  {
   "cell_type": "markdown",
   "metadata": {},
   "source": [
    "### Example: find the max wine_servings per each continent"
   ]
  },
  {
   "cell_type": "code",
   "execution_count": null,
   "metadata": {},
   "outputs": [],
   "source": [
    "data.groupby('continent').wine_servings.max()"
   ]
  },
  {
   "cell_type": "markdown",
   "metadata": {},
   "source": [
    "## Detect missing values"
   ]
  },
  {
   "cell_type": "code",
   "execution_count": null,
   "metadata": {},
   "outputs": [],
   "source": [
    "# check weather any missing values exists:\n",
    "print(data.isnull().values.any())\n",
    "\n",
    "# show the sum of missing values per column:\n",
    "print(data.isnull().sum())\n"
   ]
  },
  {
   "cell_type": "markdown",
   "metadata": {},
   "source": [
    "## Tasks\n",
    "\n",
    "1. Select country names of non european countries which have wine servings above the mean\n",
    "2. Select country names for countries with 0 wine and beer servings\n",
    "3. Select country name with max wine_servings in SA\n",
    "4. Stack Overflow Annual Developer Survey Insights\n",
    "   1. Get familiar with Survay Data Schema and load the dataset for 2022 year\n",
    "   2. Find the mean and median for Salary"
   ]
  },
  {
   "cell_type": "markdown",
   "metadata": {},
   "source": []
  }
 ],
 "metadata": {
  "jupytext": {},
  "kernelspec": {
   "display_name": "Python 3.9.12 ('.venv': venv)",
   "language": "python",
   "name": "python3"
  },
  "language_info": {
   "codemirror_mode": {
    "name": "ipython",
    "version": 3
   },
   "file_extension": ".py",
   "mimetype": "text/x-python",
   "name": "python",
   "nbconvert_exporter": "python",
   "pygments_lexer": "ipython3",
   "version": "3.9.12"
  },
  "toc": {
   "base_numbering": 1,
   "nav_menu": {},
   "number_sections": true,
   "sideBar": true,
   "skip_h1_title": true,
   "title_cell": "Table of Contents",
   "title_sidebar": "Content",
   "toc_cell": false,
   "toc_position": {},
   "toc_section_display": true,
   "toc_window_display": true
  },
  "vscode": {
   "interpreter": {
    "hash": "2f198458d93464d0c0db318fa461a510553a123fa96784438e9d36dcd5767d99"
   }
  }
 },
 "nbformat": 4,
 "nbformat_minor": 4
}
