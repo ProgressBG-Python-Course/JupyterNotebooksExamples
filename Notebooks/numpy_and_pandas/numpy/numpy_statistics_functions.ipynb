{
 "cells": [
  {
   "cell_type": "code",
   "execution_count": 1,
   "metadata": {},
   "outputs": [],
   "source": [
    "\n",
    "import numpy as np"
   ]
  },
  {
   "cell_type": "markdown",
   "metadata": {},
   "source": [
    "# NumPy Statistics Functions\n",
    "\n",
    "Reference: https://numpy.org/doc/stable/reference/routines.statistics.html"
   ]
  },
  {
   "cell_type": "code",
   "execution_count": 3,
   "metadata": {},
   "outputs": [
    {
     "name": "stdout",
     "output_type": "stream",
     "text": [
      "sample data: [ 1  2  3  4  5  6  7  8  9 10]\n",
      "Mean: 5.5\n",
      "Median: 5.5\n",
      "Standard Deviation: 2.8722813232690143\n",
      "Variance: 8.25\n",
      "Minimum: 1\n",
      "Maximum: 10\n",
      "25th Percentile: 3.25\n",
      "50th Percentile (Median): 5.5\n",
      "75th Percentile: 7.75\n"
     ]
    }
   ],
   "source": [
    "# Sample Data\n",
    "data = np.array([1, 2, 3, 4, 5, 6, 7, 8, 9, 10])\n",
    "print(f'sample data: {data}')\n",
    "\n",
    "# Mean: Average of all elements\n",
    "mean_value = np.mean(data)\n",
    "print(\"Mean:\", mean_value)\n",
    "\n",
    "# Median: Middle value when sorted\n",
    "median_value = np.median(data)\n",
    "print(\"Median:\", median_value)\n",
    "\n",
    "# Standard Deviation: Measure of dispersion\n",
    "std_deviation = np.std(data)\n",
    "print(\"Standard Deviation:\", std_deviation)\n",
    "\n",
    "# Variance: Average of squared differences from Mean\n",
    "variance_value = np.var(data)\n",
    "print(\"Variance:\", variance_value)\n",
    "\n",
    "# Minimum and Maximum: Smallest and largest element\n",
    "min_value = np.min(data)\n",
    "max_value = np.max(data)\n",
    "print(\"Minimum:\", min_value)\n",
    "print(\"Maximum:\", max_value)\n",
    "\n",
    "# Percentiles: Values below which certain percent of data fall\n",
    "percentile_25 = np.percentile(data, 25)\n",
    "percentile_50 = np.percentile(data, 50)  # same as median\n",
    "percentile_75 = np.percentile(data, 75)\n",
    "print(\"25th Percentile:\", percentile_25)\n",
    "print(\"50th Percentile (Median):\", percentile_50)\n",
    "print(\"75th Percentile:\", percentile_75)"
   ]
  },
  {
   "cell_type": "code",
   "execution_count": null,
   "metadata": {},
   "outputs": [],
   "source": []
  }
 ],
 "metadata": {
  "kernelspec": {
   "display_name": ".venv",
   "language": "python",
   "name": "python3"
  },
  "language_info": {
   "codemirror_mode": {
    "name": "ipython",
    "version": 3
   },
   "file_extension": ".py",
   "mimetype": "text/x-python",
   "name": "python",
   "nbconvert_exporter": "python",
   "pygments_lexer": "ipython3",
   "version": "3.12.0"
  }
 },
 "nbformat": 4,
 "nbformat_minor": 2
}
