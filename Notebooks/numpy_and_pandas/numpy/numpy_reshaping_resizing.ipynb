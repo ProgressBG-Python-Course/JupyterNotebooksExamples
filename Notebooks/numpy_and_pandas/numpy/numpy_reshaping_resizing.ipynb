{
 "cells": [
  {
   "cell_type": "code",
   "execution_count": 1,
   "metadata": {},
   "outputs": [],
   "source": [
    "import numpy as np"
   ]
  },
  {
   "cell_type": "markdown",
   "metadata": {},
   "source": [
    "# NumPy Reshaping and Resizing\n",
    "\n",
    "Reference: https://numpy.org/doc/stable/reference/generated/numpy.reshape.html"
   ]
  },
  {
   "cell_type": "code",
   "execution_count": null,
   "metadata": {},
   "outputs": [],
   "source": [
    "# Reshaping Arrays\n",
    "arr = np.array([[1, 2, 3], [4, 5, 6]])\n",
    "reshaped_arr = arr.reshape((3, 2))\n",
    "print(\"Reshaped array (3x2):\\n\", reshaped_arr)\n",
    "\n",
    "# Flattening Arrays\n",
    "flattened_arr = arr.flatten()\n",
    "print(\"Flattened array:\", flattened_arr)\n",
    "\n",
    "# Transposing Arrays\n",
    "transposed_arr = arr.T\n",
    "print(\"Transposed array:\\n\", transposed_arr)\n",
    "\n",
    "# Resizing Arrays\n",
    "arr_resized = np.resize(arr, (3, 3))\n",
    "print(\"Resized array (3x3):\\n\", arr_resized)\n"
   ]
  }
 ],
 "metadata": {
  "kernelspec": {
   "display_name": ".venv",
   "language": "python",
   "name": "python3"
  },
  "language_info": {
   "codemirror_mode": {
    "name": "ipython",
    "version": 3
   },
   "file_extension": ".py",
   "mimetype": "text/x-python",
   "name": "python",
   "nbconvert_exporter": "python",
   "pygments_lexer": "ipython3",
   "version": "3.12.0"
  }
 },
 "nbformat": 4,
 "nbformat_minor": 2
}
