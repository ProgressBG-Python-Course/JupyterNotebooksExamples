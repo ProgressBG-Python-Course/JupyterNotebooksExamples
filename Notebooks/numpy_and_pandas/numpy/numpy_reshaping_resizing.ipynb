{
 "cells": [
  {
   "cell_type": "code",
   "execution_count": 1,
   "metadata": {},
   "outputs": [],
   "source": [
    "import numpy as np"
   ]
  },
  {
   "cell_type": "markdown",
   "metadata": {},
   "source": [
    "# NumPy Reshaping and Resizing\n",
    "\n",
    "Reference: https://numpy.org/doc/stable/reference/generated/numpy.reshape.html"
   ]
  },
  {
   "cell_type": "code",
   "execution_count": 6,
   "metadata": {},
   "outputs": [
    {
     "name": "stdout",
     "output_type": "stream",
     "text": [
      "Original array (2x3):\n",
      " [[1 2 3]\n",
      " [4 5 6]]\n",
      "\n",
      "Reshaped array (3x2):\n",
      " [[1 2]\n",
      " [3 4]\n",
      " [5 6]]\n",
      "\n",
      "Flattened array: [1 2 3 4 5 6]\n",
      "\n",
      "Transposed array:\n",
      " [[1 4]\n",
      " [2 5]\n",
      " [3 6]]\n",
      "\n",
      "Resized array (3x3):\n",
      " [[1 2 3]\n",
      " [4 5 6]\n",
      " [1 2 3]]\n"
     ]
    }
   ],
   "source": [
    "# Original array with sahpe 2 rows and 3 columns (2x3)\n",
    "arr = np.array([[1, 2, 3], [4, 5, 6]])\n",
    "print(\"Original array (2x3):\\n\", arr)\n",
    "\n",
    "# Reshaping Arrays\n",
    "# Changing the shape of the array to 3 rows and 2 columns.\n",
    "reshaped_arr = arr.reshape((3, 2))\n",
    "print(\"\\nReshaped array (3x2):\\n\", reshaped_arr)\n",
    "\n",
    "# Flattening Arrays\n",
    "# Converting a multi-dimensional array into a 1D array.\n",
    "flattened_arr = arr.flatten()\n",
    "print(\"\\nFlattened array:\", flattened_arr)\n",
    "\n",
    "# Transposing Arrays\n",
    "# Swapping the dimensions of the array (rows become columns and vice versa).\n",
    "transposed_arr = arr.T\n",
    "print(\"\\nTransposed array:\\n\", transposed_arr)\n",
    "\n",
    "# Resizing Arrays\n",
    "# Changing the size of the array to 3 rows and 3 columns.\n",
    "# Note: This may repeat elements if the new size is larger than the original.\n",
    "arr_resized = np.resize(arr, (3, 3))\n",
    "print(\"\\nResized array (3x3):\\n\", arr_resized)\n"
   ]
  },
  {
   "cell_type": "code",
   "execution_count": null,
   "metadata": {},
   "outputs": [],
   "source": []
  }
 ],
 "metadata": {
  "kernelspec": {
   "display_name": ".venv",
   "language": "python",
   "name": "python3"
  },
  "language_info": {
   "codemirror_mode": {
    "name": "ipython",
    "version": 3
   },
   "file_extension": ".py",
   "mimetype": "text/x-python",
   "name": "python",
   "nbconvert_exporter": "python",
   "pygments_lexer": "ipython3",
   "version": "3.12.0"
  }
 },
 "nbformat": 4,
 "nbformat_minor": 2
}
