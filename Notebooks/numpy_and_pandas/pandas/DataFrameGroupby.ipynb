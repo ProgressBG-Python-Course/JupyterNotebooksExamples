{
 "cells": [
  {
   "cell_type": "code",
   "execution_count": 1,
   "metadata": {},
   "outputs": [],
   "source": [
    "import pandas as pd\n",
    "import numpy as np"
   ]
  },
  {
   "cell_type": "markdown",
   "metadata": {},
   "source": [
    "# DataFrame Grouping\n",
    "\n",
    "The `groupby` method in Pandas is used to split the data into groups based on some criteria. It is often used to perform operations on each of these groups independently, such as aggregation, transformation, or filtration.\n",
    "\n",
    "<img src=\"./images/DF_grouping.webp\" style=\"height:300px\">\n",
    "\n",
    "By groupby method in Pandas we perform the \"Split-Apply-Combine\" Strategy.\n",
    "\n",
    "Here's how it works:\n",
    "\n",
    "1. Splitting: You start by splitting your data into groups based on a column.\n",
    "2. Applying: You apply a function to each group independently.\n",
    "3. Combining: The results are then combined into a new DataFrame.\n",
    "\n",
    "<img src=\"./images/split-apply-combine.svg\" style=\"height:300px\">\n",
    "\n",
    "Here is a basic example:"
   ]
  },
  {
   "cell_type": "code",
   "execution_count": 2,
   "metadata": {},
   "outputs": [
    {
     "data": {
      "text/html": [
       "<div>\n",
       "<style scoped>\n",
       "    .dataframe tbody tr th:only-of-type {\n",
       "        vertical-align: middle;\n",
       "    }\n",
       "\n",
       "    .dataframe tbody tr th {\n",
       "        vertical-align: top;\n",
       "    }\n",
       "\n",
       "    .dataframe thead th {\n",
       "        text-align: right;\n",
       "    }\n",
       "</style>\n",
       "<table border=\"1\" class=\"dataframe\">\n",
       "  <thead>\n",
       "    <tr style=\"text-align: right;\">\n",
       "      <th></th>\n",
       "      <th>Category</th>\n",
       "      <th>Values</th>\n",
       "    </tr>\n",
       "  </thead>\n",
       "  <tbody>\n",
       "    <tr>\n",
       "      <th>0</th>\n",
       "      <td>A</td>\n",
       "      <td>1</td>\n",
       "    </tr>\n",
       "    <tr>\n",
       "      <th>1</th>\n",
       "      <td>A</td>\n",
       "      <td>2</td>\n",
       "    </tr>\n",
       "    <tr>\n",
       "      <th>2</th>\n",
       "      <td>B</td>\n",
       "      <td>3</td>\n",
       "    </tr>\n",
       "    <tr>\n",
       "      <th>3</th>\n",
       "      <td>B</td>\n",
       "      <td>4</td>\n",
       "    </tr>\n",
       "    <tr>\n",
       "      <th>4</th>\n",
       "      <td>C</td>\n",
       "      <td>5</td>\n",
       "    </tr>\n",
       "    <tr>\n",
       "      <th>5</th>\n",
       "      <td>C</td>\n",
       "      <td>6</td>\n",
       "    </tr>\n",
       "  </tbody>\n",
       "</table>\n",
       "</div>"
      ],
      "text/plain": [
       "  Category  Values\n",
       "0        A       1\n",
       "1        A       2\n",
       "2        B       3\n",
       "3        B       4\n",
       "4        C       5\n",
       "5        C       6"
      ]
     },
     "execution_count": 2,
     "metadata": {},
     "output_type": "execute_result"
    }
   ],
   "source": [
    "# Sample DataFrame\n",
    "data = {\n",
    "    'Category': ['A', 'A', 'B', 'B', 'C', 'C'],\n",
    "    'Values': [1, 2, 3, 4, 5, 6]\n",
    "}\n",
    "df = pd.DataFrame(data)\n",
    "df"
   ]
  },
  {
   "cell_type": "code",
   "execution_count": 3,
   "metadata": {},
   "outputs": [
    {
     "data": {
      "text/plain": [
       "Category\n",
       "A     3\n",
       "B     7\n",
       "C    11\n",
       "Name: Values, dtype: int64"
      ]
     },
     "execution_count": 3,
     "metadata": {},
     "output_type": "execute_result"
    }
   ],
   "source": [
    "# Group by 'Category' and calculate the sum of 'Values'\n",
    "grouped = df.groupby('Category')['Values'].sum()\n",
    "grouped"
   ]
  },
  {
   "cell_type": "markdown",
   "metadata": {},
   "source": [
    "\n",
    "## Examples on drinks dataset.\n",
    "\n",
    "### Load data"
   ]
  },
  {
   "cell_type": "code",
   "execution_count": 4,
   "metadata": {},
   "outputs": [
    {
     "data": {
      "text/html": [
       "<div>\n",
       "<style scoped>\n",
       "    .dataframe tbody tr th:only-of-type {\n",
       "        vertical-align: middle;\n",
       "    }\n",
       "\n",
       "    .dataframe tbody tr th {\n",
       "        vertical-align: top;\n",
       "    }\n",
       "\n",
       "    .dataframe thead th {\n",
       "        text-align: right;\n",
       "    }\n",
       "</style>\n",
       "<table border=\"1\" class=\"dataframe\">\n",
       "  <thead>\n",
       "    <tr style=\"text-align: right;\">\n",
       "      <th></th>\n",
       "      <th>country</th>\n",
       "      <th>wine_servings</th>\n",
       "      <th>total_litres_of_pure_alcohol</th>\n",
       "      <th>continent</th>\n",
       "    </tr>\n",
       "  </thead>\n",
       "  <tbody>\n",
       "    <tr>\n",
       "      <th>0</th>\n",
       "      <td>Afghanistan</td>\n",
       "      <td>0</td>\n",
       "      <td>0.0</td>\n",
       "      <td>AS</td>\n",
       "    </tr>\n",
       "    <tr>\n",
       "      <th>1</th>\n",
       "      <td>Albania</td>\n",
       "      <td>54</td>\n",
       "      <td>4.9</td>\n",
       "      <td>EU</td>\n",
       "    </tr>\n",
       "    <tr>\n",
       "      <th>2</th>\n",
       "      <td>Algeria</td>\n",
       "      <td>14</td>\n",
       "      <td>0.7</td>\n",
       "      <td>AF</td>\n",
       "    </tr>\n",
       "    <tr>\n",
       "      <th>3</th>\n",
       "      <td>Andorra</td>\n",
       "      <td>312</td>\n",
       "      <td>12.4</td>\n",
       "      <td>EU</td>\n",
       "    </tr>\n",
       "    <tr>\n",
       "      <th>4</th>\n",
       "      <td>Angola</td>\n",
       "      <td>45</td>\n",
       "      <td>5.9</td>\n",
       "      <td>AF</td>\n",
       "    </tr>\n",
       "  </tbody>\n",
       "</table>\n",
       "</div>"
      ],
      "text/plain": [
       "       country  wine_servings  total_litres_of_pure_alcohol continent\n",
       "0  Afghanistan              0                           0.0        AS\n",
       "1      Albania             54                           4.9        EU\n",
       "2      Algeria             14                           0.7        AF\n",
       "3      Andorra            312                          12.4        EU\n",
       "4       Angola             45                           5.9        AF"
      ]
     },
     "execution_count": 4,
     "metadata": {},
     "output_type": "execute_result"
    }
   ],
   "source": [
    "# load datasets\n",
    "df = pd.read_csv('../../../datasets/various/drinks.csv')\n",
    "# remove some 'beer' and 'spirit' columns\n",
    "df = df.drop(['beer_servings', 'spirit_servings'], axis=1)\n",
    "df.head(5)"
   ]
  },
  {
   "cell_type": "markdown",
   "metadata": {},
   "source": [
    "## Groupby Method\n",
    "\n",
    "df.groupby(by=None, axis=0, level=None, as_index=True, sort=True, group_keys=True, squeeze=NoDefault.no_default, observed=False, dropna=True)\n",
    "\n"
   ]
  },
  {
   "cell_type": "code",
   "execution_count": 5,
   "metadata": {},
   "outputs": [
    {
     "name": "stdout",
     "output_type": "stream",
     "text": [
      "The DF for continent: AF\n",
      "         country  wine_servings  total_litres_of_pure_alcohol continent\n",
      "2        Algeria             14                           0.7        AF\n",
      "4         Angola             45                           5.9        AF\n",
      "18         Benin             13                           1.1        AF\n",
      "22      Botswana             35                           5.4        AF\n",
      "26  Burkina Faso              7                           4.3        AF\n",
      "\n",
      "The DF for continent: AS\n",
      "        country  wine_servings  total_litres_of_pure_alcohol continent\n",
      "0   Afghanistan              0                           0.0        AS\n",
      "12      Bahrain              7                           2.0        AS\n",
      "13   Bangladesh              0                           0.0        AS\n",
      "19       Bhutan              0                           0.4        AS\n",
      "24       Brunei              1                           0.6        AS\n",
      "\n",
      "The DF for continent: EU\n",
      "       country  wine_servings  total_litres_of_pure_alcohol continent\n",
      "1      Albania             54                           4.9        EU\n",
      "3      Andorra            312                          12.4        EU\n",
      "7      Armenia             11                           3.8        EU\n",
      "9      Austria            191                           9.7        EU\n",
      "10  Azerbaijan              5                           1.3        EU\n",
      "\n",
      "The DF for continent: OC\n",
      "              country  wine_servings  total_litres_of_pure_alcohol continent\n",
      "8           Australia            212                          10.4        OC\n",
      "40       Cook Islands             74                           5.9        OC\n",
      "59               Fiji              1                           2.0        OC\n",
      "89           Kiribati              1                           1.0        OC\n",
      "106  Marshall Islands              0                           0.0        OC\n",
      "\n",
      "The DF for continent: SA\n",
      "      country  wine_servings  total_litres_of_pure_alcohol continent\n",
      "6   Argentina            221                           8.3        SA\n",
      "20    Bolivia              8                           3.8        SA\n",
      "23     Brazil             16                           7.2        SA\n",
      "35      Chile            172                           7.6        SA\n",
      "37   Colombia              3                           4.2        SA\n",
      "\n"
     ]
    }
   ],
   "source": [
    "continents_group = df.groupby('continent')\n",
    "for continet,continet_df in continents_group:\n",
    "\tprint(f'The DF for continent: {continet}')\n",
    "\tprint(continet_df.head(5))\n",
    "\tprint()"
   ]
  },
  {
   "cell_type": "markdown",
   "metadata": {},
   "source": [
    "### Groupby Object\n",
    "\n",
    "groupby() method returns a [GroupBy object](https://pandas.pydata.org/docs/reference/groupby.html)"
   ]
  },
  {
   "cell_type": "code",
   "execution_count": 6,
   "metadata": {},
   "outputs": [
    {
     "name": "stdout",
     "output_type": "stream",
     "text": [
      "{'AF': [2, 4, 18, 22, 26, 27, 28, 29, 31, 33, 34, 38, 39, 47, 49, 53, 55, 56, 58, 62, 63, 66, 70, 71, 88, 95, 96, 97, 100, 101, 104, 107, 108, 114, 115, 117, 123, 124, 142, 148, 150, 152, 153, 158, 159, 162, 164, 172, 175, 179, 183, 191, 192], 'AS': [0, 12, 13, 19, 24, 30, 36, 46, 77, 78, 79, 80, 82, 85, 86, 87, 90, 91, 92, 94, 102, 103, 112, 116, 119, 127, 128, 134, 137, 138, 141, 149, 154, 161, 167, 168, 169, 171, 176, 177, 181, 186, 189, 190], 'EU': [1, 3, 7, 9, 10, 15, 16, 21, 25, 42, 44, 45, 48, 57, 60, 61, 64, 65, 67, 75, 76, 81, 83, 93, 98, 99, 105, 111, 113, 120, 126, 135, 136, 139, 140, 147, 151, 155, 156, 160, 165, 166, 170, 180, 182], 'OC': [8, 40, 59, 89, 106, 110, 118, 121, 125, 129, 131, 146, 157, 173, 178, 187], 'SA': [6, 20, 23, 35, 37, 52, 72, 132, 133, 163, 185, 188]}\n",
      "~~~~~~~~~~~~~~~~~~~~~~~~~~~~~~~~~~~~~~~~~~~~~~~~~~~~~~~~~~~~~~~~~~~~~~~~~~~~~~~~\n",
      "{'AF': array([  2,   4,  18,  22,  26,  27,  28,  29,  31,  33,  34,  38,  39,\n",
      "        47,  49,  53,  55,  56,  58,  62,  63,  66,  70,  71,  88,  95,\n",
      "        96,  97, 100, 101, 104, 107, 108, 114, 115, 117, 123, 124, 142,\n",
      "       148, 150, 152, 153, 158, 159, 162, 164, 172, 175, 179, 183, 191,\n",
      "       192]), 'AS': array([  0,  12,  13,  19,  24,  30,  36,  46,  77,  78,  79,  80,  82,\n",
      "        85,  86,  87,  90,  91,  92,  94, 102, 103, 112, 116, 119, 127,\n",
      "       128, 134, 137, 138, 141, 149, 154, 161, 167, 168, 169, 171, 176,\n",
      "       177, 181, 186, 189, 190]), 'EU': array([  1,   3,   7,   9,  10,  15,  16,  21,  25,  42,  44,  45,  48,\n",
      "        57,  60,  61,  64,  65,  67,  75,  76,  81,  83,  93,  98,  99,\n",
      "       105, 111, 113, 120, 126, 135, 136, 139, 140, 147, 151, 155, 156,\n",
      "       160, 165, 166, 170, 180, 182]), 'OC': array([  8,  40,  59,  89, 106, 110, 118, 121, 125, 129, 131, 146, 157,\n",
      "       173, 178, 187]), 'SA': array([  6,  20,  23,  35,  37,  52,  72, 132, 133, 163, 185, 188])}\n"
     ]
    }
   ],
   "source": [
    "# get gorups as Dict {group name -> group labels}.\n",
    "print(continents_group.groups)\n",
    "print('~'*80)\n",
    "print(continents_group.indices)"
   ]
  },
  {
   "cell_type": "code",
   "execution_count": 7,
   "metadata": {},
   "outputs": [
    {
     "data": {
      "text/html": [
       "<div>\n",
       "<style scoped>\n",
       "    .dataframe tbody tr th:only-of-type {\n",
       "        vertical-align: middle;\n",
       "    }\n",
       "\n",
       "    .dataframe tbody tr th {\n",
       "        vertical-align: top;\n",
       "    }\n",
       "\n",
       "    .dataframe thead th {\n",
       "        text-align: right;\n",
       "    }\n",
       "</style>\n",
       "<table border=\"1\" class=\"dataframe\">\n",
       "  <thead>\n",
       "    <tr style=\"text-align: right;\">\n",
       "      <th></th>\n",
       "      <th>country</th>\n",
       "      <th>wine_servings</th>\n",
       "      <th>total_litres_of_pure_alcohol</th>\n",
       "    </tr>\n",
       "    <tr>\n",
       "      <th>continent</th>\n",
       "      <th></th>\n",
       "      <th></th>\n",
       "      <th></th>\n",
       "    </tr>\n",
       "  </thead>\n",
       "  <tbody>\n",
       "    <tr>\n",
       "      <th>AF</th>\n",
       "      <td>53</td>\n",
       "      <td>53</td>\n",
       "      <td>53</td>\n",
       "    </tr>\n",
       "    <tr>\n",
       "      <th>AS</th>\n",
       "      <td>44</td>\n",
       "      <td>44</td>\n",
       "      <td>44</td>\n",
       "    </tr>\n",
       "    <tr>\n",
       "      <th>EU</th>\n",
       "      <td>45</td>\n",
       "      <td>45</td>\n",
       "      <td>45</td>\n",
       "    </tr>\n",
       "    <tr>\n",
       "      <th>OC</th>\n",
       "      <td>16</td>\n",
       "      <td>16</td>\n",
       "      <td>16</td>\n",
       "    </tr>\n",
       "    <tr>\n",
       "      <th>SA</th>\n",
       "      <td>12</td>\n",
       "      <td>12</td>\n",
       "      <td>12</td>\n",
       "    </tr>\n",
       "  </tbody>\n",
       "</table>\n",
       "</div>"
      ],
      "text/plain": [
       "           country  wine_servings  total_litres_of_pure_alcohol\n",
       "continent                                                      \n",
       "AF              53             53                            53\n",
       "AS              44             44                            44\n",
       "EU              45             45                            45\n",
       "OC              16             16                            16\n",
       "SA              12             12                            12"
      ]
     },
     "execution_count": 7,
     "metadata": {},
     "output_type": "execute_result"
    }
   ],
   "source": [
    "# Compute count of group, excluding missing values.\n",
    "continents_group.count()"
   ]
  },
  {
   "cell_type": "code",
   "execution_count": 8,
   "metadata": {},
   "outputs": [
    {
     "data": {
      "text/html": [
       "<div>\n",
       "<style scoped>\n",
       "    .dataframe tbody tr th:only-of-type {\n",
       "        vertical-align: middle;\n",
       "    }\n",
       "\n",
       "    .dataframe tbody tr th {\n",
       "        vertical-align: top;\n",
       "    }\n",
       "\n",
       "    .dataframe thead th {\n",
       "        text-align: right;\n",
       "    }\n",
       "</style>\n",
       "<table border=\"1\" class=\"dataframe\">\n",
       "  <thead>\n",
       "    <tr style=\"text-align: right;\">\n",
       "      <th></th>\n",
       "      <th>country</th>\n",
       "      <th>wine_servings</th>\n",
       "      <th>total_litres_of_pure_alcohol</th>\n",
       "    </tr>\n",
       "    <tr>\n",
       "      <th>continent</th>\n",
       "      <th></th>\n",
       "      <th></th>\n",
       "      <th></th>\n",
       "    </tr>\n",
       "  </thead>\n",
       "  <tbody>\n",
       "    <tr>\n",
       "      <th>AF</th>\n",
       "      <td>Zimbabwe</td>\n",
       "      <td>233</td>\n",
       "      <td>9.1</td>\n",
       "    </tr>\n",
       "    <tr>\n",
       "      <th>AS</th>\n",
       "      <td>Yemen</td>\n",
       "      <td>123</td>\n",
       "      <td>11.5</td>\n",
       "    </tr>\n",
       "    <tr>\n",
       "      <th>EU</th>\n",
       "      <td>United Kingdom</td>\n",
       "      <td>370</td>\n",
       "      <td>14.4</td>\n",
       "    </tr>\n",
       "    <tr>\n",
       "      <th>OC</th>\n",
       "      <td>Vanuatu</td>\n",
       "      <td>212</td>\n",
       "      <td>10.4</td>\n",
       "    </tr>\n",
       "    <tr>\n",
       "      <th>SA</th>\n",
       "      <td>Venezuela</td>\n",
       "      <td>221</td>\n",
       "      <td>8.3</td>\n",
       "    </tr>\n",
       "  </tbody>\n",
       "</table>\n",
       "</div>"
      ],
      "text/plain": [
       "                  country  wine_servings  total_litres_of_pure_alcohol\n",
       "continent                                                             \n",
       "AF               Zimbabwe            233                           9.1\n",
       "AS                  Yemen            123                          11.5\n",
       "EU         United Kingdom            370                          14.4\n",
       "OC                Vanuatu            212                          10.4\n",
       "SA              Venezuela            221                           8.3"
      ]
     },
     "execution_count": 8,
     "metadata": {},
     "output_type": "execute_result"
    }
   ],
   "source": [
    "# Compute max of group values\n",
    "continents_group.max()"
   ]
  },
  {
   "cell_type": "code",
   "execution_count": 9,
   "metadata": {},
   "outputs": [
    {
     "data": {
      "text/html": [
       "<div>\n",
       "<style scoped>\n",
       "    .dataframe tbody tr th:only-of-type {\n",
       "        vertical-align: middle;\n",
       "    }\n",
       "\n",
       "    .dataframe tbody tr th {\n",
       "        vertical-align: top;\n",
       "    }\n",
       "\n",
       "    .dataframe thead th {\n",
       "        text-align: right;\n",
       "    }\n",
       "</style>\n",
       "<table border=\"1\" class=\"dataframe\">\n",
       "  <thead>\n",
       "    <tr style=\"text-align: right;\">\n",
       "      <th></th>\n",
       "      <th>country</th>\n",
       "      <th>wine_servings</th>\n",
       "      <th>total_litres_of_pure_alcohol</th>\n",
       "    </tr>\n",
       "    <tr>\n",
       "      <th>continent</th>\n",
       "      <th></th>\n",
       "      <th></th>\n",
       "      <th></th>\n",
       "    </tr>\n",
       "  </thead>\n",
       "  <tbody>\n",
       "    <tr>\n",
       "      <th>AF</th>\n",
       "      <td>AlgeriaAngolaBeninBotswanaBurkina FasoBurundiC...</td>\n",
       "      <td>862</td>\n",
       "      <td>159.4</td>\n",
       "    </tr>\n",
       "    <tr>\n",
       "      <th>AS</th>\n",
       "      <td>AfghanistanBahrainBangladeshBhutanBruneiCambod...</td>\n",
       "      <td>399</td>\n",
       "      <td>95.5</td>\n",
       "    </tr>\n",
       "    <tr>\n",
       "      <th>EU</th>\n",
       "      <td>AlbaniaAndorraArmeniaAustriaAzerbaijanBelarusB...</td>\n",
       "      <td>6400</td>\n",
       "      <td>387.8</td>\n",
       "    </tr>\n",
       "    <tr>\n",
       "      <th>OC</th>\n",
       "      <td>AustraliaCook IslandsFijiKiribatiMarshall Isla...</td>\n",
       "      <td>570</td>\n",
       "      <td>54.1</td>\n",
       "    </tr>\n",
       "    <tr>\n",
       "      <th>SA</th>\n",
       "      <td>ArgentinaBoliviaBrazilChileColombiaEcuadorGuya...</td>\n",
       "      <td>749</td>\n",
       "      <td>75.7</td>\n",
       "    </tr>\n",
       "  </tbody>\n",
       "</table>\n",
       "</div>"
      ],
      "text/plain": [
       "                                                     country  wine_servings  \\\n",
       "continent                                                                     \n",
       "AF         AlgeriaAngolaBeninBotswanaBurkina FasoBurundiC...            862   \n",
       "AS         AfghanistanBahrainBangladeshBhutanBruneiCambod...            399   \n",
       "EU         AlbaniaAndorraArmeniaAustriaAzerbaijanBelarusB...           6400   \n",
       "OC         AustraliaCook IslandsFijiKiribatiMarshall Isla...            570   \n",
       "SA         ArgentinaBoliviaBrazilChileColombiaEcuadorGuya...            749   \n",
       "\n",
       "           total_litres_of_pure_alcohol  \n",
       "continent                                \n",
       "AF                                159.4  \n",
       "AS                                 95.5  \n",
       "EU                                387.8  \n",
       "OC                                 54.1  \n",
       "SA                                 75.7  "
      ]
     },
     "execution_count": 9,
     "metadata": {},
     "output_type": "execute_result"
    }
   ],
   "source": [
    "# Compute sum of group values\n",
    "continents_group.sum()"
   ]
  },
  {
   "cell_type": "code",
   "execution_count": 10,
   "metadata": {},
   "outputs": [
    {
     "data": {
      "text/html": [
       "<div>\n",
       "<style scoped>\n",
       "    .dataframe tbody tr th:only-of-type {\n",
       "        vertical-align: middle;\n",
       "    }\n",
       "\n",
       "    .dataframe tbody tr th {\n",
       "        vertical-align: top;\n",
       "    }\n",
       "\n",
       "    .dataframe thead th {\n",
       "        text-align: right;\n",
       "    }\n",
       "</style>\n",
       "<table border=\"1\" class=\"dataframe\">\n",
       "  <thead>\n",
       "    <tr style=\"text-align: right;\">\n",
       "      <th></th>\n",
       "      <th>country</th>\n",
       "      <th>wine_servings</th>\n",
       "      <th>total_litres_of_pure_alcohol</th>\n",
       "      <th>continent</th>\n",
       "    </tr>\n",
       "  </thead>\n",
       "  <tbody>\n",
       "    <tr>\n",
       "      <th>3</th>\n",
       "      <td>Andorra</td>\n",
       "      <td>312</td>\n",
       "      <td>12.4</td>\n",
       "      <td>EU</td>\n",
       "    </tr>\n",
       "    <tr>\n",
       "      <th>4</th>\n",
       "      <td>Angola</td>\n",
       "      <td>45</td>\n",
       "      <td>5.9</td>\n",
       "      <td>AF</td>\n",
       "    </tr>\n",
       "    <tr>\n",
       "      <th>12</th>\n",
       "      <td>Bahrain</td>\n",
       "      <td>7</td>\n",
       "      <td>2.0</td>\n",
       "      <td>AS</td>\n",
       "    </tr>\n",
       "    <tr>\n",
       "      <th>20</th>\n",
       "      <td>Bolivia</td>\n",
       "      <td>8</td>\n",
       "      <td>3.8</td>\n",
       "      <td>SA</td>\n",
       "    </tr>\n",
       "    <tr>\n",
       "      <th>40</th>\n",
       "      <td>Cook Islands</td>\n",
       "      <td>74</td>\n",
       "      <td>5.9</td>\n",
       "      <td>OC</td>\n",
       "    </tr>\n",
       "    <tr>\n",
       "      <th>182</th>\n",
       "      <td>United Kingdom</td>\n",
       "      <td>195</td>\n",
       "      <td>10.4</td>\n",
       "      <td>EU</td>\n",
       "    </tr>\n",
       "    <tr>\n",
       "      <th>187</th>\n",
       "      <td>Vanuatu</td>\n",
       "      <td>11</td>\n",
       "      <td>0.9</td>\n",
       "      <td>OC</td>\n",
       "    </tr>\n",
       "    <tr>\n",
       "      <th>188</th>\n",
       "      <td>Venezuela</td>\n",
       "      <td>3</td>\n",
       "      <td>7.7</td>\n",
       "      <td>SA</td>\n",
       "    </tr>\n",
       "    <tr>\n",
       "      <th>190</th>\n",
       "      <td>Yemen</td>\n",
       "      <td>0</td>\n",
       "      <td>0.1</td>\n",
       "      <td>AS</td>\n",
       "    </tr>\n",
       "    <tr>\n",
       "      <th>192</th>\n",
       "      <td>Zimbabwe</td>\n",
       "      <td>4</td>\n",
       "      <td>4.7</td>\n",
       "      <td>AF</td>\n",
       "    </tr>\n",
       "  </tbody>\n",
       "</table>\n",
       "</div>"
      ],
      "text/plain": [
       "            country  wine_servings  total_litres_of_pure_alcohol continent\n",
       "3           Andorra            312                          12.4        EU\n",
       "4            Angola             45                           5.9        AF\n",
       "12          Bahrain              7                           2.0        AS\n",
       "20          Bolivia              8                           3.8        SA\n",
       "40     Cook Islands             74                           5.9        OC\n",
       "182  United Kingdom            195                          10.4        EU\n",
       "187         Vanuatu             11                           0.9        OC\n",
       "188       Venezuela              3                           7.7        SA\n",
       "190           Yemen              0                           0.1        AS\n",
       "192        Zimbabwe              4                           4.7        AF"
      ]
     },
     "execution_count": 10,
     "metadata": {},
     "output_type": "execute_result"
    }
   ],
   "source": [
    "# Take the nth row from each group if n is an int, or a subset of rows if n is a list of ints.\n",
    "# continents_group.nth(1)\n",
    "continents_group.nth([1,-1])"
   ]
  },
  {
   "cell_type": "markdown",
   "metadata": {},
   "source": [
    "## More examples\n",
    "\n",
    "### Example 1: Sales Data\n",
    "\n",
    "Scenario: You have a dataset of sales records for a store, including the date, product category, and sales amount. You want to analyze the total sales by category and month."
   ]
  },
  {
   "cell_type": "code",
   "execution_count": 11,
   "metadata": {},
   "outputs": [
    {
     "data": {
      "text/html": [
       "<div>\n",
       "<style scoped>\n",
       "    .dataframe tbody tr th:only-of-type {\n",
       "        vertical-align: middle;\n",
       "    }\n",
       "\n",
       "    .dataframe tbody tr th {\n",
       "        vertical-align: top;\n",
       "    }\n",
       "\n",
       "    .dataframe thead th {\n",
       "        text-align: right;\n",
       "    }\n",
       "</style>\n",
       "<table border=\"1\" class=\"dataframe\">\n",
       "  <thead>\n",
       "    <tr style=\"text-align: right;\">\n",
       "      <th></th>\n",
       "      <th>Date</th>\n",
       "      <th>Category</th>\n",
       "      <th>Sales_Amount</th>\n",
       "    </tr>\n",
       "  </thead>\n",
       "  <tbody>\n",
       "    <tr>\n",
       "      <th>0</th>\n",
       "      <td>2023-02-21</td>\n",
       "      <td>Clothing</td>\n",
       "      <td>99.034810</td>\n",
       "    </tr>\n",
       "    <tr>\n",
       "      <th>1</th>\n",
       "      <td>2023-04-03</td>\n",
       "      <td>Electronics</td>\n",
       "      <td>276.362921</td>\n",
       "    </tr>\n",
       "    <tr>\n",
       "      <th>2</th>\n",
       "      <td>2023-01-15</td>\n",
       "      <td>Electronics</td>\n",
       "      <td>252.718386</td>\n",
       "    </tr>\n",
       "    <tr>\n",
       "      <th>3</th>\n",
       "      <td>2023-03-13</td>\n",
       "      <td>Electronics</td>\n",
       "      <td>352.369296</td>\n",
       "    </tr>\n",
       "    <tr>\n",
       "      <th>4</th>\n",
       "      <td>2023-03-02</td>\n",
       "      <td>Electronics</td>\n",
       "      <td>149.317920</td>\n",
       "    </tr>\n",
       "    <tr>\n",
       "      <th>...</th>\n",
       "      <td>...</td>\n",
       "      <td>...</td>\n",
       "      <td>...</td>\n",
       "    </tr>\n",
       "    <tr>\n",
       "      <th>95</th>\n",
       "      <td>2023-03-26</td>\n",
       "      <td>Electronics</td>\n",
       "      <td>325.439657</td>\n",
       "    </tr>\n",
       "    <tr>\n",
       "      <th>96</th>\n",
       "      <td>2023-03-21</td>\n",
       "      <td>Electronics</td>\n",
       "      <td>140.221673</td>\n",
       "    </tr>\n",
       "    <tr>\n",
       "      <th>97</th>\n",
       "      <td>2023-03-23</td>\n",
       "      <td>Electronics</td>\n",
       "      <td>303.138007</td>\n",
       "    </tr>\n",
       "    <tr>\n",
       "      <th>98</th>\n",
       "      <td>2023-02-22</td>\n",
       "      <td>Furniture</td>\n",
       "      <td>489.868572</td>\n",
       "    </tr>\n",
       "    <tr>\n",
       "      <th>99</th>\n",
       "      <td>2023-01-24</td>\n",
       "      <td>Furniture</td>\n",
       "      <td>253.636233</td>\n",
       "    </tr>\n",
       "  </tbody>\n",
       "</table>\n",
       "<p>100 rows × 3 columns</p>\n",
       "</div>"
      ],
      "text/plain": [
       "         Date     Category  Sales_Amount\n",
       "0  2023-02-21     Clothing     99.034810\n",
       "1  2023-04-03  Electronics    276.362921\n",
       "2  2023-01-15  Electronics    252.718386\n",
       "3  2023-03-13  Electronics    352.369296\n",
       "4  2023-03-02  Electronics    149.317920\n",
       "..        ...          ...           ...\n",
       "95 2023-03-26  Electronics    325.439657\n",
       "96 2023-03-21  Electronics    140.221673\n",
       "97 2023-03-23  Electronics    303.138007\n",
       "98 2023-02-22    Furniture    489.868572\n",
       "99 2023-01-24    Furniture    253.636233\n",
       "\n",
       "[100 rows x 3 columns]"
      ]
     },
     "execution_count": 11,
     "metadata": {},
     "output_type": "execute_result"
    }
   ],
   "source": [
    "# Generate sample sales data\n",
    "np.random.seed(42)\n",
    "dates = pd.date_range('2023-01-01', periods=100, freq='D')\n",
    "categories = ['Electronics', 'Clothing', 'Furniture']\n",
    "sales_data = {\n",
    "    'Date': np.random.choice(dates, 100),\n",
    "    'Category': np.random.choice(categories, 100),\n",
    "    'Sales_Amount': np.random.uniform(20, 500, 100)\n",
    "}\n",
    "df_sales = pd.DataFrame(sales_data)\n",
    "df_sales"
   ]
  },
  {
   "cell_type": "code",
   "execution_count": 12,
   "metadata": {},
   "outputs": [
    {
     "data": {
      "text/plain": [
       "Category\n",
       "Clothing        5972.336458\n",
       "Electronics     9418.031641\n",
       "Furniture      12012.969786\n",
       "Name: Sales_Amount, dtype: float64"
      ]
     },
     "execution_count": 12,
     "metadata": {},
     "output_type": "execute_result"
    }
   ],
   "source": [
    "# Group by 'Category' and calculate total sales\n",
    "grouped_sales = df_sales.groupby('Category')['Sales_Amount'].sum()\n",
    "grouped_sales"
   ]
  },
  {
   "cell_type": "code",
   "execution_count": 13,
   "metadata": {},
   "outputs": [
    {
     "data": {
      "text/plain": [
       "Category     Month  \n",
       "Clothing     2023-01    1822.123962\n",
       "             2023-02    2247.954943\n",
       "             2023-03    1797.813431\n",
       "             2023-04     104.444121\n",
       "Electronics  2023-01    2017.608317\n",
       "             2023-02    2338.092129\n",
       "             2023-03    4043.126160\n",
       "             2023-04    1019.205035\n",
       "Furniture    2023-01    5414.733308\n",
       "             2023-02    1619.229506\n",
       "             2023-03    4350.727094\n",
       "             2023-04     628.279878\n",
       "Name: Sales_Amount, dtype: float64"
      ]
     },
     "execution_count": 13,
     "metadata": {},
     "output_type": "execute_result"
    }
   ],
   "source": [
    "# add Month column, extract from 'Date':\n",
    "df_sales['Month'] = df_sales['Date'].dt.to_period('M')\n",
    "\n",
    "# Group by 'Category' and 'Month' and calculate total sales\n",
    "grouped_sales_month = df_sales.groupby(['Category', 'Month'])['Sales_Amount'].sum()\n",
    "grouped_sales_month"
   ]
  },
  {
   "cell_type": "markdown",
   "metadata": {},
   "source": [
    "### Example 2: Customer Transactions\n",
    "\n",
    "*Scenario*: You have a dataset of customer transactions, including customer ID, transaction date, and transaction amount. You want to perform the following tasks:\n",
    "\n",
    "1. Calculate the total transaction amount for each customer.\n",
    "1. Find the average transaction amount per customer.\n",
    "1. Identify customers with transactions above a certain threshold.\n",
    "1. Analyze monthly transactions for each customer.\n"
   ]
  },
  {
   "cell_type": "code",
   "execution_count": 14,
   "metadata": {},
   "outputs": [
    {
     "data": {
      "text/html": [
       "<div>\n",
       "<style scoped>\n",
       "    .dataframe tbody tr th:only-of-type {\n",
       "        vertical-align: middle;\n",
       "    }\n",
       "\n",
       "    .dataframe tbody tr th {\n",
       "        vertical-align: top;\n",
       "    }\n",
       "\n",
       "    .dataframe thead th {\n",
       "        text-align: right;\n",
       "    }\n",
       "</style>\n",
       "<table border=\"1\" class=\"dataframe\">\n",
       "  <thead>\n",
       "    <tr style=\"text-align: right;\">\n",
       "      <th></th>\n",
       "      <th>Customer_ID</th>\n",
       "      <th>Transaction_Date</th>\n",
       "      <th>Transaction_Amount</th>\n",
       "    </tr>\n",
       "  </thead>\n",
       "  <tbody>\n",
       "    <tr>\n",
       "      <th>0</th>\n",
       "      <td>7</td>\n",
       "      <td>2023-01-12</td>\n",
       "      <td>285.860000</td>\n",
       "    </tr>\n",
       "    <tr>\n",
       "      <th>1</th>\n",
       "      <td>4</td>\n",
       "      <td>2023-02-03</td>\n",
       "      <td>909.183227</td>\n",
       "    </tr>\n",
       "    <tr>\n",
       "      <th>2</th>\n",
       "      <td>8</td>\n",
       "      <td>2023-02-02</td>\n",
       "      <td>247.166272</td>\n",
       "    </tr>\n",
       "    <tr>\n",
       "      <th>3</th>\n",
       "      <td>5</td>\n",
       "      <td>2023-02-17</td>\n",
       "      <td>153.445923</td>\n",
       "    </tr>\n",
       "    <tr>\n",
       "      <th>4</th>\n",
       "      <td>7</td>\n",
       "      <td>2023-01-23</td>\n",
       "      <td>494.558233</td>\n",
       "    </tr>\n",
       "    <tr>\n",
       "      <th>...</th>\n",
       "      <td>...</td>\n",
       "      <td>...</td>\n",
       "      <td>...</td>\n",
       "    </tr>\n",
       "    <tr>\n",
       "      <th>95</th>\n",
       "      <td>10</td>\n",
       "      <td>2023-01-02</td>\n",
       "      <td>25.302050</td>\n",
       "    </tr>\n",
       "    <tr>\n",
       "      <th>96</th>\n",
       "      <td>9</td>\n",
       "      <td>2023-01-02</td>\n",
       "      <td>929.035377</td>\n",
       "    </tr>\n",
       "    <tr>\n",
       "      <th>97</th>\n",
       "      <td>7</td>\n",
       "      <td>2023-04-02</td>\n",
       "      <td>433.902307</td>\n",
       "    </tr>\n",
       "    <tr>\n",
       "      <th>98</th>\n",
       "      <td>9</td>\n",
       "      <td>2023-02-23</td>\n",
       "      <td>966.988271</td>\n",
       "    </tr>\n",
       "    <tr>\n",
       "      <th>99</th>\n",
       "      <td>8</td>\n",
       "      <td>2023-03-28</td>\n",
       "      <td>963.983777</td>\n",
       "    </tr>\n",
       "  </tbody>\n",
       "</table>\n",
       "<p>100 rows × 3 columns</p>\n",
       "</div>"
      ],
      "text/plain": [
       "    Customer_ID Transaction_Date  Transaction_Amount\n",
       "0             7       2023-01-12          285.860000\n",
       "1             4       2023-02-03          909.183227\n",
       "2             8       2023-02-02          247.166272\n",
       "3             5       2023-02-17          153.445923\n",
       "4             7       2023-01-23          494.558233\n",
       "..          ...              ...                 ...\n",
       "95           10       2023-01-02           25.302050\n",
       "96            9       2023-01-02          929.035377\n",
       "97            7       2023-04-02          433.902307\n",
       "98            9       2023-02-23          966.988271\n",
       "99            8       2023-03-28          963.983777\n",
       "\n",
       "[100 rows x 3 columns]"
      ]
     },
     "execution_count": 14,
     "metadata": {},
     "output_type": "execute_result"
    }
   ],
   "source": [
    "# Generate sample customer transactions data\n",
    "np.random.seed(42)\n",
    "customer_ids = np.arange(1, 11)\n",
    "dates = pd.date_range('2023-01-01', periods=100, freq='D')\n",
    "transaction_data = {\n",
    "    'Customer_ID': np.random.choice(customer_ids, 100),\n",
    "    'Transaction_Date': np.random.choice(dates, 100),\n",
    "    'Transaction_Amount': np.random.uniform(10, 1000, 100)\n",
    "}\n",
    "df_transactions = pd.DataFrame(transaction_data)\n",
    "df_transactions"
   ]
  },
  {
   "cell_type": "code",
   "execution_count": 15,
   "metadata": {},
   "outputs": [
    {
     "name": "stdout",
     "output_type": "stream",
     "text": [
      "Total transaction amount for each customer:\n"
     ]
    },
    {
     "data": {
      "text/plain": [
       "Customer_ID\n",
       "1     4184.441341\n",
       "2     3593.600771\n",
       "3     5195.621393\n",
       "4     4958.270198\n",
       "5     3544.582543\n",
       "6     2582.612421\n",
       "7     6638.668663\n",
       "8     7900.080139\n",
       "9     7658.588096\n",
       "10    5328.930893\n",
       "Name: Transaction_Amount, dtype: float64"
      ]
     },
     "execution_count": 15,
     "metadata": {},
     "output_type": "execute_result"
    }
   ],
   "source": [
    "# Task 1: Calculate the total transaction amount for each customer\n",
    "total_transaction_amount = df_transactions.groupby('Customer_ID')['Transaction_Amount'].sum()\n",
    "print(\"Total transaction amount for each customer:\")\n",
    "total_transaction_amount"
   ]
  },
  {
   "cell_type": "code",
   "execution_count": 16,
   "metadata": {},
   "outputs": [
    {
     "name": "stdout",
     "output_type": "stream",
     "text": [
      "\n",
      "Average transaction amount per customer:\n"
     ]
    },
    {
     "data": {
      "text/plain": [
       "Customer_ID\n",
       "1     597.777334\n",
       "2     359.360077\n",
       "3     577.291266\n",
       "4     550.918911\n",
       "5     354.458254\n",
       "6     430.435403\n",
       "7     603.515333\n",
       "8     526.672009\n",
       "9     638.215675\n",
       "10    484.448263\n",
       "Name: Transaction_Amount, dtype: float64"
      ]
     },
     "execution_count": 16,
     "metadata": {},
     "output_type": "execute_result"
    }
   ],
   "source": [
    "# Task 2: Find the average transaction amount per customer\n",
    "average_transaction_amount = df_transactions.groupby('Customer_ID')['Transaction_Amount'].mean()\n",
    "print(\"\\nAverage transaction amount per customer:\")\n",
    "average_transaction_amount\n"
   ]
  },
  {
   "cell_type": "code",
   "execution_count": 17,
   "metadata": {},
   "outputs": [
    {
     "name": "stdout",
     "output_type": "stream",
     "text": [
      "\n",
      "Customers with total transactions above threshold:\n"
     ]
    },
    {
     "data": {
      "text/plain": [
       "Customer_ID\n",
       "3     5195.621393\n",
       "7     6638.668663\n",
       "8     7900.080139\n",
       "9     7658.588096\n",
       "10    5328.930893\n",
       "Name: Transaction_Amount, dtype: float64"
      ]
     },
     "execution_count": 17,
     "metadata": {},
     "output_type": "execute_result"
    }
   ],
   "source": [
    "# Task 3: Identify customers with transactions above a certain threshold (e.g., 5000)\n",
    "threshold = 5000\n",
    "high_value_customers = total_transaction_amount[total_transaction_amount > threshold]\n",
    "print(\"\\nCustomers with total transactions above threshold:\")\n",
    "high_value_customers"
   ]
  },
  {
   "cell_type": "code",
   "execution_count": 18,
   "metadata": {},
   "outputs": [
    {
     "name": "stdout",
     "output_type": "stream",
     "text": [
      "\n",
      "Monthly transactions for each customer:\n"
     ]
    },
    {
     "data": {
      "text/plain": [
       "Customer_ID  Month  \n",
       "1            2023-01    2669.730527\n",
       "             2023-02     933.575969\n",
       "             2023-03     581.134846\n",
       "2            2023-01    1482.921170\n",
       "             2023-02     559.648803\n",
       "             2023-03    1551.030797\n",
       "3            2023-01     185.339573\n",
       "             2023-02    2068.273528\n",
       "             2023-03    1668.905923\n",
       "             2023-04    1273.102370\n",
       "4            2023-01     627.652638\n",
       "             2023-02    2456.910685\n",
       "             2023-03    1704.506904\n",
       "             2023-04     169.199971\n",
       "5            2023-01     661.036763\n",
       "             2023-02    1574.822042\n",
       "             2023-03    1043.361527\n",
       "             2023-04     265.362211\n",
       "6            2023-01     822.082280\n",
       "             2023-03    1220.113203\n",
       "             2023-04     540.416937\n",
       "7            2023-01    3227.060661\n",
       "             2023-02    2584.837702\n",
       "             2023-03     392.867993\n",
       "             2023-04     433.902307\n",
       "8            2023-01    1261.213718\n",
       "             2023-02    2642.995766\n",
       "             2023-03    2350.151213\n",
       "             2023-04    1645.719443\n",
       "9            2023-01    1592.419583\n",
       "             2023-02    3238.115426\n",
       "             2023-03    2828.053088\n",
       "10           2023-01     766.781430\n",
       "             2023-02    1535.014043\n",
       "             2023-03    2099.143429\n",
       "             2023-04     927.991991\n",
       "Name: Transaction_Amount, dtype: float64"
      ]
     },
     "execution_count": 18,
     "metadata": {},
     "output_type": "execute_result"
    }
   ],
   "source": [
    "# Task 4: Analyze monthly transactions for each customer\n",
    "df_transactions['Month'] = df_transactions['Transaction_Date'].dt.to_period('M')\n",
    "monthly_transactions = df_transactions.groupby(['Customer_ID', 'Month'])['Transaction_Amount'].sum()\n",
    "print(\"\\nMonthly transactions for each customer:\")\n",
    "monthly_transactions"
   ]
  }
 ],
 "metadata": {
  "interpreter": {
   "hash": "6ff067a0fdd468d21234896ffbb9cd57a905a2e40964bad2ca7f8fead7ef9bc7"
  },
  "kernelspec": {
   "display_name": "Python 3.9.7 64-bit ('ml_python_3.9': pyenv)",
   "name": "python3"
  },
  "language_info": {
   "codemirror_mode": {
    "name": "ipython",
    "version": 3
   },
   "file_extension": ".py",
   "mimetype": "text/x-python",
   "name": "python",
   "nbconvert_exporter": "python",
   "pygments_lexer": "ipython3",
   "version": "3.12.3"
  },
  "orig_nbformat": 4
 },
 "nbformat": 4,
 "nbformat_minor": 2
}
