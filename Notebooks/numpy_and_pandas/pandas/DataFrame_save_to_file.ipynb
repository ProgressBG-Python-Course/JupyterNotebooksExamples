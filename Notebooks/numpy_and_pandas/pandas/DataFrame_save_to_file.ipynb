{
 "cells": [
  {
   "cell_type": "code",
   "execution_count": 1,
   "metadata": {},
   "outputs": [],
   "source": [
    "import pandas as pd"
   ]
  },
  {
   "cell_type": "markdown",
   "metadata": {},
   "source": [
    "## Overview"
   ]
  },
  {
   "cell_type": "code",
   "execution_count": 2,
   "metadata": {},
   "outputs": [],
   "source": [
    "# Create a DataFrame\n",
    "data = {\n",
    "    'Name': ['Ivan', 'Maria', 'Georgi'],\n",
    "    'Age': [34, 28, 45],\n",
    "    'City': ['Sofia', 'Plovdiv', 'Varna']\n",
    "}\n",
    "df = pd.DataFrame(data)"
   ]
  },
  {
   "cell_type": "code",
   "execution_count": 3,
   "metadata": {},
   "outputs": [],
   "source": [
    "# Save the DataFrame to a CSV file\n",
    "df.to_csv('example.csv', index=False)"
   ]
  },
  {
   "cell_type": "markdown",
   "metadata": {},
   "source": [
    "## Specifying Columns and Separator\n",
    "\n",
    "You can also specify which columns to include in the CSV file and use a different separator, such as a semicolon ; instead of the default comma ,\n",
    "\n",
    "Next code will create a CSV file \"example_names_cities.csv\" with the content:\n",
    "\n",
    "Name;City\n",
    "Ivan;Sofia\n",
    "Maria;Plovdiv\n",
    "Georgi;Varna"
   ]
  },
  {
   "cell_type": "code",
   "execution_count": 4,
   "metadata": {},
   "outputs": [],
   "source": [
    "# Save only the 'Name' and 'City' columns to a CSV file, using a semicolon as the separator\n",
    "df.to_csv('example_names_cities.csv', columns=['Name', 'City'], sep=';', index=False)"
   ]
  },
  {
   "cell_type": "markdown",
   "metadata": {},
   "source": [
    "## Quoting Strategies\n",
    "\n",
    "The quoting parameter controls when quotes should be applied to cell values, and it accepts one of the constants defined in the csv module:\n",
    "\n",
    "- `csv.QUOTE_MINIMAL`: Quotes are applied to fields only when necessary (e.g., when a field contains a delimiter like a comma or a quote character). This is the default behavior.\n",
    "- `csv.QUOTE_ALL`: Quotes are applied to all fields.\n",
    "- `csv.QUOTE_NONNUMERIC`: Quotes are applied to non-numeric fields.\n",
    "- `csv.QUOTE_NONE`: No fields are quoted; use this with caution as it may make your CSV file difficult to parse if your data contains the delimiter.\n",
    "\n",
    "### Example with Quoted Values\n",
    "Suppose you have a DataFrame where some names contain commas, and you want to ensure these names are correctly quoted in the CSV file. \n",
    "\n",
    "This code snippet will produce an \"example_quoted.csv\" file where only non-numeric values are quoted, which ensures that names with commas are correctly represented as single fields:\n",
    "\n",
    "```\n",
    "Name,Age,City\n",
    "\"Ivan\",34,\"Sofia\"\n",
    "\"Maria, PhD\",28,\"Plovdiv\"\n",
    "\"Georgi, MD\",45,\"Varna\"\n",
    "```"
   ]
  },
  {
   "cell_type": "code",
   "execution_count": 5,
   "metadata": {},
   "outputs": [],
   "source": [
    "import csv\n",
    "\n",
    "# Create a DataFrame with names that include commas\n",
    "data = {\n",
    "    'Name': ['Ivan', 'Maria, PhD', 'Georgi, MD'],\n",
    "    'Age': [34, 28, 45],\n",
    "    'City': ['Sofia', 'Plovdiv', 'Varna']\n",
    "}\n",
    "df = pd.DataFrame(data)\n",
    "\n",
    "# Save the DataFrame to a CSV file, ensuring proper quoting\n",
    "df.to_csv('example_quoted.csv', index=False, quoting=csv.QUOTE_NONNUMERIC)\n"
   ]
  },
  {
   "cell_type": "markdown",
   "metadata": {},
   "source": [
    "### Customizing Quote Character\n",
    "\n",
    "You can also customize the quote character using the quotechar parameter. This is useful if your data includes the standard quote character (\") and you want to use a different character to enclose your fields.\n",
    "\n",
    "Next code will produce example_custom_quote.csv, where quoting symbol is `'`:\n",
    "\n",
    "```\n",
    "'Name','Age','City'\n",
    "'Ivan',34,'Sofia'\n",
    "'Maria, PhD',28,'Plovdiv'\n",
    "'Georgi, MD',45,'Varna'\n",
    "```"
   ]
  },
  {
   "cell_type": "code",
   "execution_count": 6,
   "metadata": {},
   "outputs": [],
   "source": [
    "# Save the DataFrame using a custom quote character\n",
    "df.to_csv('example_custom_quote.csv', index=False, quotechar='\\'', quoting=csv.QUOTE_NONNUMERIC)"
   ]
  }
 ],
 "metadata": {
  "kernelspec": {
   "display_name": ".venv",
   "language": "python",
   "name": "python3"
  },
  "language_info": {
   "codemirror_mode": {
    "name": "ipython",
    "version": 3
   },
   "file_extension": ".py",
   "mimetype": "text/x-python",
   "name": "python",
   "nbconvert_exporter": "python",
   "pygments_lexer": "ipython3",
   "version": "3.12.0"
  }
 },
 "nbformat": 4,
 "nbformat_minor": 2
}
