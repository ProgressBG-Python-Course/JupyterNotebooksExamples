{
 "cells": [
  {
   "cell_type": "markdown",
   "metadata": {},
   "source": [
    "# Feature Selection: Remove correlated features - demo on Iris Dataset"
   ]
  },
  {
   "cell_type": "code",
   "execution_count": 105,
   "metadata": {},
   "outputs": [],
   "source": [
    "import numpy as np\n",
    "import pandas as pd\n",
    "import matplotlib.pyplot as plt\n",
    "import seaborn as sns\n",
    "\n",
    "from sklearn import datasets\n",
    "from sklearn.model_selection import train_test_split"
   ]
  },
  {
   "cell_type": "markdown",
   "metadata": {},
   "source": [
    "## Overview\n",
    "\n",
    "Correlation commonly refers to the degree to which a pair of variables are linearly related.\n",
    "\n",
    "Features which are highly correlated is expected to have the same effect on the dependent variable, so we can drop one of them."
   ]
  },
  {
   "cell_type": "markdown",
   "metadata": {},
   "source": [
    "## Prepare the data"
   ]
  },
  {
   "cell_type": "code",
   "execution_count": 106,
   "metadata": {},
   "outputs": [],
   "source": [
    "# Load the data\n",
    "iris = datasets.load_iris()"
   ]
  },
  {
   "cell_type": "code",
   "execution_count": 107,
   "metadata": {},
   "outputs": [
    {
     "data": {
      "text/html": [
       "<div>\n",
       "<style scoped>\n",
       "    .dataframe tbody tr th:only-of-type {\n",
       "        vertical-align: middle;\n",
       "    }\n",
       "\n",
       "    .dataframe tbody tr th {\n",
       "        vertical-align: top;\n",
       "    }\n",
       "\n",
       "    .dataframe thead th {\n",
       "        text-align: right;\n",
       "    }\n",
       "</style>\n",
       "<table border=\"1\" class=\"dataframe\">\n",
       "  <thead>\n",
       "    <tr style=\"text-align: right;\">\n",
       "      <th></th>\n",
       "      <th>sepal length (cm)</th>\n",
       "      <th>sepal width (cm)</th>\n",
       "      <th>petal length (cm)</th>\n",
       "      <th>petal width (cm)</th>\n",
       "    </tr>\n",
       "    <tr>\n",
       "      <th>target</th>\n",
       "      <th></th>\n",
       "      <th></th>\n",
       "      <th></th>\n",
       "      <th></th>\n",
       "    </tr>\n",
       "  </thead>\n",
       "  <tbody>\n",
       "    <tr>\n",
       "      <th>0</th>\n",
       "      <td>5.01</td>\n",
       "      <td>3.43</td>\n",
       "      <td>1.46</td>\n",
       "      <td>0.25</td>\n",
       "    </tr>\n",
       "    <tr>\n",
       "      <th>1</th>\n",
       "      <td>5.94</td>\n",
       "      <td>2.77</td>\n",
       "      <td>4.26</td>\n",
       "      <td>1.33</td>\n",
       "    </tr>\n",
       "    <tr>\n",
       "      <th>2</th>\n",
       "      <td>6.59</td>\n",
       "      <td>2.97</td>\n",
       "      <td>5.55</td>\n",
       "      <td>2.03</td>\n",
       "    </tr>\n",
       "  </tbody>\n",
       "</table>\n",
       "</div>"
      ],
      "text/plain": [
       "        sepal length (cm)  sepal width (cm)  petal length (cm)  \\\n",
       "target                                                           \n",
       "0                    5.01              3.43               1.46   \n",
       "1                    5.94              2.77               4.26   \n",
       "2                    6.59              2.97               5.55   \n",
       "\n",
       "        petal width (cm)  \n",
       "target                    \n",
       "0                   0.25  \n",
       "1                   1.33  \n",
       "2                   2.03  "
      ]
     },
     "execution_count": 107,
     "metadata": {},
     "output_type": "execute_result"
    }
   ],
   "source": [
    "# Create the DataFrame\n",
    "\n",
    "iris_df = pd.DataFrame(data = iris.data, columns=iris.feature_names)\n",
    "\n",
    "# add the 'target' column at the end\n",
    "iris_df['target'] = iris.target\n",
    "iris_df.head(5)\n",
    "\n",
    "# lets look at the data, grouped by 'target' values\n",
    "iris_df.groupby('target').mean().round(2)"
   ]
  },
  {
   "cell_type": "code",
   "execution_count": 108,
   "metadata": {},
   "outputs": [
    {
     "name": "stdout",
     "output_type": "stream",
     "text": [
      "   sepal length (cm)  sepal width (cm)  petal length (cm)  petal width (cm)\n",
      "0                5.1               3.5                1.4               0.2\n",
      "1                4.9               3.0                1.4               0.2\n",
      "2                4.7               3.2                1.3               0.2\n",
      "0    0\n",
      "1    0\n",
      "2    0\n",
      "Name: target, dtype: int64\n"
     ]
    }
   ],
   "source": [
    "# separate X and y\n",
    "X = iris_df.iloc[:, :4]\n",
    "print(X.head(3))\n",
    "\n",
    "y = iris_df.target\n",
    "print(y.head(3))"
   ]
  },
  {
   "cell_type": "code",
   "execution_count": null,
   "metadata": {},
   "outputs": [],
   "source": []
  },
  {
   "cell_type": "markdown",
   "metadata": {},
   "source": [
    "## Remove features with high correlation "
   ]
  },
  {
   "cell_type": "markdown",
   "metadata": {},
   "source": [
    "### Look at correlations"
   ]
  },
  {
   "cell_type": "code",
   "execution_count": 132,
   "metadata": {},
   "outputs": [],
   "source": [
    "#get correlations of each features in dataset\n",
    "corrmat = X.corr()\n",
    "# print(corrmat)"
   ]
  },
  {
   "cell_type": "code",
   "execution_count": 134,
   "metadata": {},
   "outputs": [
    {
     "data": {
      "image/png": "[encoded data removed]",
      "text/plain": [
       "<Figure size 432x144 with 2 Axes>"
      ]
     },
     "metadata": {
      "needs_background": "light"
     },
     "output_type": "display_data"
    }
   ],
   "source": [
    "# plot the correlation heat-map\n",
    "\n",
    "plt.figure(figsize=(6,2))\n",
    "g=sns.heatmap(corrmat,annot=True,cmap=\"Reds\")"
   ]
  },
  {
   "cell_type": "markdown",
   "metadata": {},
   "source": [
    "### remove correlated columns"
   ]
  },
  {
   "cell_type": "code",
   "execution_count": 135,
   "metadata": {},
   "outputs": [],
   "source": [
    "def remove_correlated_columns(X,corr_threshold):\n",
    "    # изчисляваме корелациите:\n",
    "    corrmat = X.corr()\n",
    "    \n",
    "    # правим Булев масив с размерност - броя на колоните, в който с True ще обозначаваме колона, която искаме да остане, със False - колона, която ще се премахне\n",
    "    # в началото, задаваме True за всяка една колона: \n",
    "    columns_retained_mask = np.full((corrmat.shape[0],), True, dtype=bool)\n",
    "\n",
    "    # взимаме броя на редовете и колоните\n",
    "    rows = cols = corrmat.shape[0];\n",
    "\n",
    "    # цикъл по елементите над лавния диагонал (виж примера по-долу)\n",
    "    for i in range(rows):\n",
    "        for j in range(i+1,cols):        \n",
    "            corr_value = corrmat.iloc[i,j];\n",
    "#             print(corr_value.round(2))\n",
    "\n",
    "            # ако стойността е над прага - маркираме дадената колона в масива columns_retained_mask с False:\n",
    "            if corr_value >= corr_threshold:\n",
    "                columns_retained_mask[j] = False\n",
    "#                 print(f'\"{corrmat.columns[j]}\" is correlated with \"{corrmat.index.values[i]}\"')\n",
    "                # възможно подобрение - ако вече сме сетнали False, няма смисъл да го правим отново\n",
    "\n",
    "\n",
    "    print('*' * 80)\n",
    "    print(f'columns {list(X.columns[ np.logical_not(columns_retained_mask)] )} marked for removing')\n",
    "    print('*' * 80)\n",
    "    # връщаме онези фитчъри, които искаме да останат\n",
    "    return X.loc[:,columns_retained_mask]\n",
    "    "
   ]
  },
  {
   "cell_type": "code",
   "execution_count": 137,
   "metadata": {},
   "outputs": [
    {
     "name": "stdout",
     "output_type": "stream",
     "text": [
      "********************************************************************************\n",
      "columns ['petal length (cm)', 'petal width (cm)'] marked for removing\n",
      "********************************************************************************\n",
      "     sepal length (cm)  sepal width (cm)\n",
      "0                  5.1               3.5\n",
      "1                  4.9               3.0\n",
      "2                  4.7               3.2\n",
      "3                  4.6               3.1\n",
      "4                  5.0               3.6\n",
      "..                 ...               ...\n",
      "145                6.7               3.0\n",
      "146                6.3               2.5\n",
      "147                6.5               3.0\n",
      "148                6.2               3.4\n",
      "149                5.9               3.0\n",
      "\n",
      "[150 rows x 2 columns]\n"
     ]
    }
   ],
   "source": [
    "corr_threshold = 0.8\n",
    "X_new = remove_correlated_columns(X, corr_threshold)\n",
    "print(X_new)"
   ]
  },
  {
   "cell_type": "markdown",
   "metadata": {},
   "source": [
    "Пример за обхождане на елементите над главния диагонал:"
   ]
  },
  {
   "cell_type": "code",
   "execution_count": 54,
   "metadata": {},
   "outputs": [
    {
     "name": "stdout",
     "output_type": "stream",
     "text": [
      "[[1 2 3]\n",
      " [4 5 6]\n",
      " [7 8 9]]\n"
     ]
    }
   ],
   "source": [
    "arr = np.arange(1,10).reshape(3,3)\n",
    "print(arr)"
   ]
  },
  {
   "cell_type": "code",
   "execution_count": 52,
   "metadata": {},
   "outputs": [
    {
     "name": "stdout",
     "output_type": "stream",
     "text": [
      "row 0\n",
      "2\n",
      "3\n",
      "row 1\n",
      "6\n",
      "row 2\n"
     ]
    }
   ],
   "source": [
    "# list elements above main diagonal\n",
    "rows = cols = arr.shape[0]\n",
    "\n",
    "# цикъл по редовете:\n",
    "for i in range(rows):\n",
    "    print(f'row {i}')    \n",
    "    # но от всеки ред, искаме само елементите, които започват от индекс i+1:\n",
    "    for j in range(i+1,cols): \n",
    "        print(arr[i,j])"
   ]
  },
  {
   "cell_type": "code",
   "execution_count": null,
   "metadata": {},
   "outputs": [],
   "source": []
  }
 ],
 "metadata": {
  "kernelspec": {
   "display_name": "Python 3",
   "language": "python",
   "name": "python3"
  },
  "language_info": {
   "codemirror_mode": {
    "name": "ipython",
    "version": 3
   },
   "file_extension": ".py",
   "mimetype": "text/x-python",
   "name": "python",
   "nbconvert_exporter": "python",
   "pygments_lexer": "ipython3",
   "version": "3.8.2"
  }
 },
 "nbformat": 4,
 "nbformat_minor": 4
}
