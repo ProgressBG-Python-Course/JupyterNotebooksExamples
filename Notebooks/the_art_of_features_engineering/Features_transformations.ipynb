{
 "cells": [
  {
   "cell_type": "code",
   "execution_count": null,
   "metadata": {},
   "outputs": [],
   "source": [
    "import numpy as np\n",
    "import matplotlib.pyplot as plt\n",
    "import pandas as pd\n"
   ]
  },
  {
   "cell_type": "markdown",
   "metadata": {},
   "source": [
    "## Numerical Data"
   ]
  },
  {
   "cell_type": "markdown",
   "metadata": {},
   "source": [
    "### Log Function\n",
    "\n",
    "$\\log_{b} (x) = y$, if $b^y = x$"
   ]
  },
  {
   "cell_type": "code",
   "execution_count": null,
   "metadata": {},
   "outputs": [],
   "source": [
    "x = np.arange(1,100)\n",
    "\n",
    "ylog10 = np.log10(x)\n",
    "ylog2 = np.log2(x)\n",
    "yln = np.log(x)\n",
    "# print(f'x: {x}')\n",
    "# print(f'y: {y}')"
   ]
  },
  {
   "cell_type": "code",
   "execution_count": null,
   "metadata": {},
   "outputs": [],
   "source": [
    "plt.figure(dpi=200)\n",
    "plt.plot(x,ylog2,color=\"red\",label=\"y=log2(x)\")\n",
    "plt.plot(x,ylog10, color=\"green\",label=\"y=log10(x)\")\n",
    "plt.plot(x,yln,color=\"blue\",label=\"y=logE(x)\")\n",
    "\n",
    "plt.title('Logarithm Functions')\n",
    "plt.xlabel(\"x\")\n",
    "plt.ylabel(\"y\")\n",
    "plt.legend()"
   ]
  },
  {
   "cell_type": "markdown",
   "metadata": {},
   "source": [
    "## Quantile-based discretization function\n",
    "\n",
    "`qcut()` - Discretize variable into equal-sized buckets\n",
    "https://pandas.pydata.org/pandas-docs/version/0.23.4/generated/pandas.qcut.html\n",
    "\n",
    "`cut()` like `qcut()`, but here you can specifically define the bin edges\n",
    "https://pandas.pydata.org/pandas-docs/version/0.23.4/generated/pandas.cut.html"
   ]
  },
  {
   "cell_type": "markdown",
   "metadata": {},
   "source": [
    "**Usage**\n",
    "- divide customers into 3, 4 or N groupings\n",
    "- income by quarters\n",
    "- whenever you need to convert continuous variable into a categorical one."
   ]
  },
  {
   "cell_type": "code",
   "execution_count": null,
   "metadata": {},
   "outputs": [],
   "source": [
    "# x = np.arange(1,100)\n",
    "x = np.random.randint(101, size=100)\n",
    "\n",
    "bins = pd.qcut(x,10)\n",
    "print(f'bins: \\n{bins}\\n')\n",
    "\n",
    "values_count = bins.value_counts()\n",
    "print(f':values_count \\n{values_count}')"
   ]
  },
  {
   "cell_type": "code",
   "execution_count": null,
   "metadata": {},
   "outputs": [],
   "source": [
    "# let's plot our bins:\n",
    "ax = values_count.plot.bar(rot=0, color=\"b\", figsize=(12,4))\n",
    "\n",
    "plt.grid(True)\n",
    "# plt.show()"
   ]
  },
  {
   "cell_type": "markdown",
   "metadata": {},
   "source": [
    "## Transformation of categorical labels into numeric values\n",
    "\n",
    "### Useful methods\n",
    "\n",
    "https://pandas.pydata.org/pandas-docs/stable/reference/api/pandas.Series.map.html\n",
    "\n",
    "https://pandas.pydata.org/pandas-docs/stable/reference/api/pandas.DataFrame.replace.html"
   ]
  },
  {
   "cell_type": "code",
   "execution_count": null,
   "metadata": {},
   "outputs": [],
   "source": [
    "# create a very simple DF:\n",
    "df = pd.DataFrame({\n",
    "    'gender':['m','f','f','m'],\n",
    "    'height': [186,164,158,195],\n",
    "    'y':[3,1,0,5]\n",
    "})\n",
    "df.head()\n"
   ]
  },
  {
   "cell_type": "code",
   "execution_count": null,
   "metadata": {},
   "outputs": [],
   "source": [
    "df['gender']"
   ]
  },
  {
   "cell_type": "code",
   "execution_count": null,
   "metadata": {},
   "outputs": [],
   "source": [
    "mappings = {'m':0,'f':1}\n",
    "\n",
    "\n",
    "df['gender'] = df['gender'].map(mappings)\n",
    "df"
   ]
  },
  {
   "cell_type": "markdown",
   "metadata": {},
   "source": [
    "## Scikit-learn Preprocessing Module \n",
    "\n",
    "https://scikit-learn.org/stable/modules/classes.html#module-sklearn.preprocessing"
   ]
  }
 ],
 "metadata": {
  "kernelspec": {
   "display_name": "Python 3",
   "language": "python",
   "name": "python3"
  },
  "language_info": {
   "codemirror_mode": {
    "name": "ipython",
    "version": 3
   },
   "file_extension": ".py",
   "mimetype": "text/x-python",
   "name": "python",
   "nbconvert_exporter": "python",
   "pygments_lexer": "ipython3",
   "version": "3.7.4"
  },
  "toc": {
   "base_numbering": 1,
   "nav_menu": {},
   "number_sections": true,
   "sideBar": true,
   "skip_h1_title": true,
   "title_cell": "Table of Contents",
   "title_sidebar": "Content",
   "toc_cell": false,
   "toc_position": {},
   "toc_section_display": true,
   "toc_window_display": true
  }
 },
 "nbformat": 4,
 "nbformat_minor": 4
}
