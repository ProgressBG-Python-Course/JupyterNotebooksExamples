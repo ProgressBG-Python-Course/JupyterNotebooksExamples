{
 "cells": [
  {
   "cell_type": "code",
   "execution_count": 8,
   "metadata": {},
   "outputs": [],
   "source": [
    "# Define a list of text documents\n",
    "text_documents = [\n",
    "    \"This is the first document. Let's continue documenting\",\n",
    "    \"This document is the second document.\",\n",
    "    \"And this is the third one from all documents.\",\n",
    "    \"Is this the first document?\",\n",
    "]\n",
    "\n",
    "def countVectoriserDefault(text_documents):\n",
    "    from sklearn.feature_extraction.text import CountVectorizer\n",
    "    # Create a CountVectorizer object\n",
    "    vectorizer = CountVectorizer()\n",
    "\n",
    "    # Use the vectorizer to transform the text documents into a matrix of token counts\n",
    "    matrix = vectorizer.fit_transform(text_documents)\n",
    "\n",
    "    # Print the matrix\n",
    "    print(matrix.toarray())\n",
    "\n",
    "    # Print the feature names (i.e., the unique tokens in the corpus)\n",
    "    print(vectorizer.get_feature_names_out())\n"
   ]
  },
  {
   "cell_type": "code",
   "execution_count": 9,
   "metadata": {},
   "outputs": [],
   "source": [
    "def countVectoriserStemming(text_documents):\n",
    "\tfrom sklearn.feature_extraction.text import CountVectorizer\n",
    "\tfrom nltk.stem import PorterStemmer\n",
    "\timport re\n",
    "\n",
    "\t# Create a stemmer object\n",
    "\tstemmer = PorterStemmer()\n",
    "\n",
    "\t# Define a function to tokenize and stem the text\n",
    "\tdef tokenize_and_stem(text):\n",
    "\t\t\t\t# Tokenize the text\n",
    "\t\t\t\ttokens = [word.lower() for word in re.findall(r'\\b\\w+\\b', text)]\n",
    "\t\t\t\t# Stem the tokens\n",
    "\t\t\t\tstems = [stemmer.stem(token) for token in tokens]\n",
    "\t\t\t\treturn stems\n",
    "\n",
    "\t# Create a CountVectorizer object with the tokenizer parameter set to the stemmer function\n",
    "\tvectorizer = CountVectorizer(tokenizer=tokenize_and_stem)\n",
    "\n",
    "\t# Use the vectorizer to transform the text documents into a matrix of token counts\n",
    "\tmatrix = vectorizer.fit_transform(text_documents)\n",
    "\n",
    "\t# Print the matrix\n",
    "\tprint(matrix.toarray())\n",
    "\n",
    "\t# Print the feature names (i.e., the unique tokens in the corpus)\n",
    "\tprint(vectorizer.get_feature_names_out())\n"
   ]
  },
  {
   "cell_type": "code",
   "execution_count": 10,
   "metadata": {},
   "outputs": [
    {
     "name": "stdout",
     "output_type": "stream",
     "text": [
      "[[0 0 1 1 1 0 1 0 1 1 0 0 1 0 1]\n",
      " [0 0 0 2 0 0 0 0 1 0 0 1 1 0 1]\n",
      " [1 1 0 0 0 1 0 1 1 0 1 0 1 1 1]\n",
      " [0 0 0 1 0 0 1 0 1 0 0 0 1 0 1]]\n",
      "['all' 'and' 'continue' 'document' 'documenting' 'documents' 'first'\n",
      " 'from' 'is' 'let' 'one' 'second' 'the' 'third' 'this']\n"
     ]
    }
   ],
   "source": [
    "countVectoriserDefault(text_documents)"
   ]
  },
  {
   "cell_type": "code",
   "execution_count": 11,
   "metadata": {},
   "outputs": [
    {
     "name": "stdout",
     "output_type": "stream",
     "text": [
      "[[0 0 1 2 1 0 1 1 0 1 0 1 1 0]\n",
      " [0 0 0 2 0 0 1 0 0 0 1 1 1 0]\n",
      " [1 1 0 1 0 1 1 0 1 0 0 1 1 1]\n",
      " [0 0 0 1 1 0 1 0 0 0 0 1 1 0]]\n",
      "['all', 'and', 'continu', 'document', 'first', 'from', 'is', 'let', 'one', 's', 'second', 'the', 'thi', 'third']\n"
     ]
    },
    {
     "name": "stderr",
     "output_type": "stream",
     "text": [
      "/media/nemsys/data/projects/courses/netIT/ML_SA/.venv/lib/python3.9/site-packages/sklearn/utils/deprecation.py:87: FutureWarning: Function get_feature_names is deprecated; get_feature_names is deprecated in 1.0 and will be removed in 1.2. Please use get_feature_names_out instead.\n",
      "  warnings.warn(msg, category=FutureWarning)\n"
     ]
    }
   ],
   "source": [
    "countVectoriserStemming(text_documents)"
   ]
  },
  {
   "cell_type": "code",
   "execution_count": null,
   "metadata": {},
   "outputs": [],
   "source": []
  }
 ],
 "metadata": {
  "kernelspec": {
   "display_name": ".venv",
   "language": "python",
   "name": "python3"
  },
  "language_info": {
   "codemirror_mode": {
    "name": "ipython",
    "version": 3
   },
   "file_extension": ".py",
   "mimetype": "text/x-python",
   "name": "python",
   "nbconvert_exporter": "python",
   "pygments_lexer": "ipython3",
   "version": "3.9.12"
  },
  "orig_nbformat": 4
 },
 "nbformat": 4,
 "nbformat_minor": 2
}
