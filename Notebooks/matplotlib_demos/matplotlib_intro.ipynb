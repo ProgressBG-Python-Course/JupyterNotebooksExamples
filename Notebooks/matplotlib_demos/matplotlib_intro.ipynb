{
 "cells": [
  {
   "cell_type": "markdown",
   "metadata": {
    "toc-hr-collapsed": false
   },
   "source": [
    "# Matplotlib overview\n",
    "## (from a really high perspective)"
   ]
  },
  {
   "cell_type": "code",
   "execution_count": 1,
   "metadata": {},
   "outputs": [],
   "source": [
    "# %matplotlib inline \n",
    "\n",
    "import matplotlib.pyplot as plt\n",
    "import numpy as np"
   ]
  },
  {
   "cell_type": "markdown",
   "metadata": {},
   "source": [
    "Matplotlib is a Python library for producing **publication-quality figures**. It main assests are : \n",
    "\n",
    " 1. Interactive environments across platform (Linux, MacOS, Windows)\n",
    " 2. Makes it easy to produce static raster or vector graphics files without the need for any GUIs. \n",
    " 3. Allows full customization of the plots being created, but through its powerful defaults system plots only few lines of code are enoght to create a fully usable histograms, power spectra, bar charts, etc. \n",
    " "
   ]
  },
  {
   "cell_type": "markdown",
   "metadata": {
    "toc-hr-collapsed": true
   },
   "source": [
    "### Resources:\n",
    "Matplot lib has great [documentation](https://matplotlib.org/contents.html#). On the official site you can also find nice represented and structured [tutorials](https://matplotlib.org/tutorials/index.html). And a tons of examples with code and visual plots placed, of course, in the  [The Galery](https://matplotlib.org/gallery/index.html)\n",
    " "
   ]
  },
  {
   "cell_type": "markdown",
   "metadata": {
    "toc-hr-collapsed": true
   },
   "source": [
    "### Installation Notes\n",
    "\n",
    "- Anaconda users: do nothing\n",
    "- pipenv users:\n",
    "```$ pipenv install matplotlib```\n",
    "\n",
    "#### Additional packages (only if you know you need them)\n",
    "\n",
    "- [ffmpeg](https://www.ffmpeg.org/) or [avconv](https://libav.org/avconv.html): for saving movies\n",
    "- [ImageMagick](https://www.imagemagick.org/script/index.php): for saving animated gifs\n",
    "- [Pillow](https://pillow.readthedocs.io/en/5.3.x/) (&gt;= 3.4): for a larger selection of image file formats: JPEG, BMP, and TIFF image files\n",
    "- [LaTeX](https://www.latex-project.org/about/) and [GhostScript](https://www.ghostscript.com/) (for rendering text with LaTeX)."
   ]
  },
  {
   "cell_type": "code",
   "execution_count": 3,
   "metadata": {},
   "outputs": [
    {
     "name": "stdout",
     "output_type": "stream",
     "text": [
      "3.1.1\n",
      "module://ipykernel.pylab.backend_inline\n"
     ]
    }
   ],
   "source": [
    "import matplotlib\n",
    "print(matplotlib.__version__)\n",
    "print(matplotlib.get_backend())"
   ]
  },
  {
   "cell_type": "markdown",
   "metadata": {
    "toc-hr-collapsed": true
   },
   "source": [
    "### Let's create a simple Plot"
   ]
  },
  {
   "cell_type": "code",
   "execution_count": 5,
   "metadata": {},
   "outputs": [
    {
     "data": {
      "image/png": "[encoded data removed]",
      "text/plain": [
       "<Figure size 432x288 with 1 Axes>"
      ]
     },
     "metadata": {
      "needs_background": "light"
     },
     "output_type": "display_data"
    }
   ],
   "source": [
    "#On X axis => numbers from 1 to 15\n",
    "x = np.arange(1,16)\n",
    "\n",
    "#On Y axis => the power of x-es\n",
    "y = x**2\n",
    "\n",
    "# lets plot:\n",
    "plt.plot(x,y)\n",
    "\n",
    "# if we want to see the plot and we do not use the '%matplotlib inline' magic, we have to:\n",
    "plt.show()"
   ]
  },
  {
   "cell_type": "markdown",
   "metadata": {
    "toc-hr-collapsed": false
   },
   "source": [
    "## Basic Concepts"
   ]
  },
  {
   "cell_type": "markdown",
   "metadata": {},
   "source": [
    "### Figure\n",
    "\n",
    "The top level container for all the plot elements. A Figure Object contains the whole plot.\n",
    "You can have more than one Figure object.\n",
    "Reference: [Figure Class](https://matplotlib.org/api/_as_gen/matplotlib.figure.Figure.html#matplotlib.figure.Figure)\n",
    "\n",
    "<img src=\"images/empty_figure.png\" width=\"300\">"
   ]
  },
  {
   "cell_type": "markdown",
   "metadata": {
    "toc-hr-collapsed": false
   },
   "source": [
    "### Axes (and Subplots)\n",
    "The Axes represent an **individual drawing plot**, with its own coordinate system.\n",
    "Every Subplot is a valid Axes Object.\n",
    "Reference: [Axes Class](https://matplotlib.org/api/axes_api.html#matplotlib.axes.Axes)\n",
    "\n",
    "**Note** The difference between axes and subplots is subtle. For more info: [What are the differences between add_axes and add_subplot?](https://stackoverflow.com/questions/43326680/what-are-the-differences-between-add-axes-and-add-subplot)\n"
   ]
  },
  {
   "cell_type": "code",
   "execution_count": null,
   "metadata": {},
   "outputs": [],
   "source": [
    "fig = plt.figure()\n",
    "fig.set_facecolor(\"#B15A5A\")\n",
    "fig.add_subplot(211)\n",
    "fig.add_subplot(212)"
   ]
  },
  {
   "cell_type": "markdown",
   "metadata": {},
   "source": [
    "We can do the same with \"plt.subplots\" method, which is the preferred way:"
   ]
  },
  {
   "cell_type": "code",
   "execution_count": null,
   "metadata": {},
   "outputs": [],
   "source": [
    "fig, axes = plt.subplots(nrows=2)\n",
    "fig.set_facecolor(\"#B15A5A\")"
   ]
  },
  {
   "cell_type": "markdown",
   "metadata": {},
   "source": [
    "### Axes labels"
   ]
  },
  {
   "cell_type": "code",
   "execution_count": null,
   "metadata": {},
   "outputs": [],
   "source": [
    "fig, axes = plt.subplots()\n",
    "fig.set_facecolor(\"#B15A5A\")\n",
    "\n",
    "axes.set_title(\"y=sqrt(x)\")\n",
    "axes.set_xlabel(\"X\",fontsize=14, color=\"yellow\")\n",
    "axes.set_ylabel(\"Y\", rotation=0,fontsize=14, color=\"yellow\")\n",
    "axes.xaxis.set_label_coords(1.05, 0.02)\n",
    "axes.yaxis.set_label_coords(0, 1.05)"
   ]
  },
  {
   "cell_type": "markdown",
   "metadata": {
    "toc-hr-collapsed": true
   },
   "source": [
    "### Ticks"
   ]
  },
  {
   "cell_type": "markdown",
   "metadata": {},
   "source": [
    "Each axis has a ticks. With Matplotlib you can configure all aspects (location, formating, etc.) of the ticks"
   ]
  },
  {
   "cell_type": "code",
   "execution_count": null,
   "metadata": {},
   "outputs": [],
   "source": [
    "fig, axes = plt.subplots(nrows=2)\n",
    "fig.set_facecolor(\"#B15A5A\")\n",
    "\n",
    "axes[0].get_xticklabels()[2].set_color(\"#F3FF00\")"
   ]
  },
  {
   "cell_type": "markdown",
   "metadata": {},
   "source": [
    "### Lets put it all together"
   ]
  },
  {
   "cell_type": "code",
   "execution_count": null,
   "metadata": {},
   "outputs": [],
   "source": [
    "x = np.array([1,2,3,4])\n",
    "y1 = x**2\n",
    "y2 = x**3\n",
    "\n",
    "axes_names = ['Axes 1', 'Axes 2']\n",
    "\n",
    "fig, axes = plt.subplots(nrows=2)\n",
    "fig.set_facecolor(\"#CCCCCC\")\n",
    "\n",
    "for ax, y, name,color in zip(axes, [y1, y2], axes_names, [\"#00FF80\",\"#0080FF\"]):\n",
    "    ax.plot(x, y, color='black')\n",
    "    ax.set_title(name)\n",
    "    ax.set_facecolor(\"#BA5E5E\")\n",
    "    ax.set_ylabel('Y Axis')\n",
    "    ax.set_xlabel('X Axis')    \n",
    "\n",
    "\n",
    "plt.setp(axes[0].spines.values(), color=\"#F3FF00\")\n",
    "plt.setp(axes[1].spines.values(), color=\"#00F3FF\")\n",
    "\n",
    "axes[0].get_xticklabels()[2].set_color(\"#F3FF00\")\n",
    "axes[1].get_xticklabels()[2].set_color(\"#00F3FF\")\n",
    "plt.tight_layout()\n",
    "plt.show()"
   ]
  },
  {
   "cell_type": "code",
   "execution_count": null,
   "metadata": {},
   "outputs": [],
   "source": [
    "n = 256\n",
    "X = np.linspace(-np.pi,np.pi,n)\n",
    "Y = np.sin(2*X)\n",
    "\n",
    "plt.plot (X, Y+1, color='blue', alpha=1.00)\n",
    "plt.plot (X, Y-1, color=(0,1,0,1)) # equiv to: color='green', alpha=1.00\n",
    "plt.show()"
   ]
  },
  {
   "cell_type": "markdown",
   "metadata": {},
   "source": [
    "## Tasks"
   ]
  },
  {
   "cell_type": "markdown",
   "metadata": {},
   "source": [
    "You'll have to code a plot like the image below: <br>\n",
    "<img src=\"tasks/images/task_simple_plot.png\" width=\"300\">"
   ]
  },
  {
   "cell_type": "code",
   "execution_count": null,
   "metadata": {},
   "outputs": [],
   "source": [
    "### here is the data needed:\n",
    "x = np.array([4, 9, 25])\n",
    "y = np.sqrt(x)\n",
    "\n",
    "labels_color = \"#FF004F\"\n",
    "fig_facecolor = \"#CCCCCC\"\n",
    "\n",
    "### your code starts here ####\n"
   ]
  },
  {
   "cell_type": "code",
   "execution_count": null,
   "metadata": {},
   "outputs": [],
   "source": []
  }
 ],
 "metadata": {
  "kernelspec": {
   "display_name": "Python 3",
   "language": "python",
   "name": "python3"
  },
  "language_info": {
   "codemirror_mode": {
    "name": "ipython",
    "version": 3
   },
   "file_extension": ".py",
   "mimetype": "text/x-python",
   "name": "python",
   "nbconvert_exporter": "python",
   "pygments_lexer": "ipython3",
   "version": "3.7.4"
  },
  "toc-autonumbering": false,
  "toc-showcode": true,
  "toc-showmarkdowntxt": true
 },
 "nbformat": 4,
 "nbformat_minor": 4
}
