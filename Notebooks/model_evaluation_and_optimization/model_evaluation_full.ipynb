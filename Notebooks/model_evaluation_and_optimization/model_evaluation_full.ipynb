{
 "cells": [
  {
   "cell_type": "markdown",
   "metadata": {},
   "source": []
  },
  {
   "cell_type": "markdown",
   "metadata": {},
   "source": [
    "# Model Evaluation\n",
    "\n",
    "## Overview of model evaluation\n",
    "\n",
    "### Why?\n",
    "    - Model evaluation help us to understend how well our model will perform on new data and if we are not satisfied, we can go back and tune model parameters or select different model or select other set of features.\n",
    "\n",
    "### Concepts: \n",
    "\n",
    "    - model evaluation procedure : evaluate how well a model will generalize to out-of-sample data \n",
    "    - model evaluation metric : evaluate the model performance\n",
    "\n",
    "#### Model evaluation procedures\n",
    "\n",
    "The procedure (steps) to evaluate how well a model will generalize to out-of-sample data \n",
    "\n",
    "1. **Training and testing on the same data**\n",
    "     - the worst case! If you have enough data - never train and test on same data.\n",
    "2. **Train/test split**\n",
    "    - Split the dataset into two pieces, so that the model can be trained and tested on different data    \n",
    "    - Useful due to its speed, simplicity, and flexibility\n",
    "3. **K-fold cross-validation**\n",
    "    - Systematically create \"K\" train/test splits and average the results together    \n",
    "    - Runs \"K\" times slower than train/test split, but more accurate.\n",
    "\n",
    "#### Model evaluation metric (Loss Function)\n",
    "\n",
    "A metric to evaluate how well specific algorithm models the given data ( how well the algorithm fits the data ). \n",
    "\n",
    "- **Regression problems:** Mean Absolute Error, Mean Squared Error, Root Mean Squared Error\n",
    "- **Classification problems:** Classification accuracy"
   ]
  },
  {
   "cell_type": "markdown",
   "metadata": {},
   "source": [
    "## Loss function\n",
    "\n",
    "In order to evaluate how well a function fits the training data (i.e. how well specific algorithm models the given data), the *loss* function is defined as:\n",
    "\n",
    "$L: \\hat{Y} \\times Y \\to \\Bbb{R} ^{\\ge 0}$, where \n",
    "\n",
    "<div style=\"margin-left:1em\">\n",
    "\n",
    "$Y$ - the set of [ground truth](https://en.wikipedia.org/wiki/Ground_truth) values for given input data\n",
    "\n",
    "$\\hat{Y}$ - the set of predicted values\n",
    "\n",
    "$\\Bbb{R}$ - the set of real numbers\n",
    "</div>\n",
    "\t\t\n",
    "I.e. if we have the training samples ${(x_{i},\\;y_{i})}$, then the the loss of predicting the value ${{\\hat {y}}}$ is ${L(y_i,\\hat{y})}$.\n",
    "\n",
    "Usually, in the same context, is used the term *cost* function, which can be regarded as a generalization of the lost function.\n",
    "\n",
    "**There’s no one-size-fits-all loss function to algorithms in machine learning.**\n",
    "\n",
    "Generally, loss functions can be classified into two major categories depending upon the type of learning task we are dealing with: Regression losses and Classification losses.\n",
    "\n",
    "### Regression Losses\n",
    "\n",
    "In regressoin tasks our dependent (target) variable is numeric and we have to measure the losses numerically. Meaning that *just knowing if the predicted value is wrong is not enough*, we have to calculate the *amount of deviation of our prediction from the actual value*, so we can train our network accordingly.\n",
    "\n",
    "*Note that scikit-learn implements a good quantity of regression metrics: [Regression Metrics](https://scikit-learn.org/stable/modules/model_evaluation.html#regression-metrics)*\n",
    "\n",
    "\n",
    "Next notation will be used notes bellow:\n",
    "\n",
    "$n$        - Number of training examples.\n",
    "\t\n",
    "$i$        - $i$ th training example in a data set.\n",
    "\n",
    "$y_{i}$     - Ground truth label for ith training example.\n",
    "\t\n",
    "$\\hat y_{i}$- Prediction for ith training example (y_hat(i))"
   ]
  },
  {
   "cell_type": "markdown",
   "metadata": {},
   "source": [
    "#### Mean Absolute Error (MAE) :\n",
    "\n",
    "MAE is the simplest error function, it literally just calculates the **absolute difference**(i.e. discards the sign) between the actual and predicted values and takes it’s mean.\n",
    "\n",
    "$\\frac 1n\\sum_{i=1}^n|y_i-\\hat{y}_i|$"
   ]
  },
  {
   "cell_type": "code",
   "execution_count": 6,
   "metadata": {},
   "outputs": [
    {
     "name": "stdout",
     "output_type": "stream",
     "text": [
      "MAE = 0.25000\n"
     ]
    }
   ],
   "source": [
    "# Calculating MAE with Python and numpy:\n",
    "import numpy as np\n",
    "\n",
    "def calc_mae(Y_pred, Y_true):\n",
    "\tdifferences_abs = np.absolute(Y_pred - Y_true)\n",
    "\tmean_of_differences_abs = differences_abs.mean()\t\n",
    "\n",
    "\treturn mean_of_differences_abs\n",
    "\n",
    "Y_pred = np.array([0.00, 0.16, 0.33])\n",
    "Y_true = np.array([0.00, 0.25, 0.99])\n",
    "\n",
    "mae = calc_mae(Y_pred, Y_true)\n",
    "\n",
    "print(f'MAE = {mae:.5f}')"
   ]
  },
  {
   "cell_type": "code",
   "execution_count": 8,
   "metadata": {},
   "outputs": [
    {
     "name": "stdout",
     "output_type": "stream",
     "text": [
      "MAE = 0.25000\n"
     ]
    }
   ],
   "source": [
    "# Calculating MAE with Scikit-learn:\n",
    "\n",
    "from sklearn.metrics import mean_absolute_error\n",
    "\n",
    "Y_pred = np.array([0.00, 0.16, 0.33])\n",
    "Y_true = np.array([0.00, 0.25, 0.99])\n",
    "\n",
    "# Calculation of Mean Absolute Error (MAE)\n",
    "mae = mean_absolute_error(Y_true,Y_pred)\n",
    "print(f'MAE = {mae:.5f}')\n"
   ]
  },
  {
   "cell_type": "markdown",
   "metadata": {},
   "source": [
    "#### Mean square error (MSE)\n",
    "\n",
    "Mean square error is measured as the average of squared difference between predictions and actual observations.\n",
    "\n",
    "${MSE} ={\\frac {1}{n}}\\sum _{i=1}^{n}(y_{i}-{\\hat {y_{i}}})^{2} $\n",
    "\n",
    "Due to squaring, **MSE \"punishes\" bigger errors**, which is quite useful in the real world."
   ]
  },
  {
   "cell_type": "code",
   "execution_count": 1,
   "metadata": {},
   "outputs": [
    {
     "name": "stdout",
     "output_type": "stream",
     "text": [
      "MSE = 0.14790\n"
     ]
    }
   ],
   "source": [
    "# Calculating MSE with Python and numpy:\n",
    "import numpy as np\n",
    "\n",
    "def calc_mse(Y_pred, Y_true):\n",
    "\tdifferences_squared = (Y_pred - Y_true) ** 2\n",
    "\tmean_of_differences_squared = differences_squared.mean()\t\n",
    "\n",
    "\treturn mean_of_differences_squared\n",
    "\n",
    "Y_pred = np.array([0.00, 0.16, 0.33])\n",
    "Y_true = np.array([0.00, 0.25, 0.99])\n",
    "\n",
    "mse = calc_mse(Y_pred, Y_true)\n",
    "\n",
    "print(f'MSE = {mse:.5f}')"
   ]
  },
  {
   "cell_type": "code",
   "execution_count": 2,
   "metadata": {},
   "outputs": [
    {
     "name": "stdout",
     "output_type": "stream",
     "text": [
      "MSE = 0.14790\n"
     ]
    }
   ],
   "source": [
    "# Calculating MSE with Scikit-learn:\n",
    "\n",
    "from sklearn.metrics import mean_squared_error\n",
    "\n",
    "Y_pred = np.array([0.00, 0.16, 0.33])\n",
    "Y_true = np.array([0.00, 0.25, 0.99])\n",
    "\n",
    "# Calculation of Mean Squared Error (MSE)\n",
    "mse = mean_squared_error(Y_true,Y_pred,squared=True)\n",
    "print(f'MSE = {mse:.5f}')\n"
   ]
  },
  {
   "cell_type": "markdown",
   "metadata": {},
   "source": [
    "#### Root Mean Squared Error\n",
    "\n",
    "Root Mean Squared Error (RMSE) is the square root of the mean of the squared errors:\n",
    "\n",
    "$\\sqrt{\\frac 1n\\sum_{i=1}^n(y_i-\\hat{y}_i)^2}$\n",
    "\n",
    "RMSE is easilly interpretable in the \"y\" units."
   ]
  },
  {
   "cell_type": "code",
   "execution_count": 4,
   "metadata": {},
   "outputs": [
    {
     "name": "stdout",
     "output_type": "stream",
     "text": [
      "RMSE = 0.38458\n"
     ]
    }
   ],
   "source": [
    "# Calculating RMSE with Python and numpy:\n",
    "\n",
    "import numpy as np\n",
    "\n",
    "def calc_rmse(Y_pred, Y_true):\n",
    "\tdifferences_squared = (Y_pred - Y_true) ** 2\n",
    "\tmean_of_differences_squared = differences_squared.mean()\n",
    "\troot_mean_of_differences_squared = np.sqrt(mean_of_differences_squared)\t\n",
    "\n",
    "\treturn root_mean_of_differences_squared\n",
    "\n",
    "Y_pred = np.array([0.00, 0.16, 0.33])\n",
    "Y_true = np.array([0.00, 0.25, 0.99])\n",
    "\n",
    "rmse = calc_rmse(Y_pred, Y_true)\n",
    "\n",
    "print(f'RMSE = {rmse:.5f}')"
   ]
  },
  {
   "cell_type": "code",
   "execution_count": 5,
   "metadata": {},
   "outputs": [
    {
     "name": "stdout",
     "output_type": "stream",
     "text": [
      "RMSE = 0.38458\n"
     ]
    }
   ],
   "source": [
    "# Calculating RMSE with Scikit-learn:\n",
    "\n",
    "from sklearn.metrics import mean_squared_error\n",
    "\n",
    "Y_pred = np.array([0.00, 0.16, 0.33])\n",
    "Y_true = np.array([0.00, 0.25, 0.99])\n",
    "\n",
    "# Calculation of Mean Squared Error (RMSE)\n",
    "rmse = mean_squared_error(Y_true,Y_pred,squared=False)\n",
    "print(f'RMSE = {rmse:.5f}')\n"
   ]
  },
  {
   "cell_type": "markdown",
   "metadata": {},
   "source": [
    "### Clasification Losses"
   ]
  },
  {
   "cell_type": "markdown",
   "metadata": {},
   "source": [
    "#### Classification Accuracy \n",
    "\n",
    "It just measure the percentage of correct predictions"
   ]
  },
  {
   "cell_type": "code",
   "execution_count": 16,
   "metadata": {},
   "outputs": [
    {
     "name": "stdout",
     "output_type": "stream",
     "text": [
      "0.7\n",
      "0.7\n"
     ]
    }
   ],
   "source": [
    "from sklearn import metrics\n",
    "\n",
    "Y_true = np.array([0, 0, 1, 0, 1, 1, 1, 0, 1, 0])\n",
    "Y_pred = np.array([1, 0, 1, 1, 1, 1, 0, 0, 1, 0])\n",
    "\n",
    "# claculate it with Numpy:\n",
    "accuracy = Y_true==Y_pred\n",
    "print(accuracy.sum()/len(Y_true))\n",
    "print()\n",
    "\n",
    "# calculate it with Scikit-Learn\n",
    "print(metrics.accuracy_score(Y_true, Y_pred))"
   ]
  },
  {
   "cell_type": "markdown",
   "metadata": {},
   "source": [
    "Notes: \n",
    "\n",
    "- Classification accuracy is the **easiest classification metric to understand**\n",
    "- But, it does not tell you the **underlying distribution** of response values\n",
    "- And, it does not tell you what **\"types\" of errors** your classifier is making"
   ]
  },
  {
   "cell_type": "markdown",
   "metadata": {},
   "source": [
    "## Confusion matrix\n",
    "\n",
    "Table that describes the performance of a classification model\n",
    "\n",
    "https://scikit-learn.org/stable/modules/generated/sklearn.metrics.confusion_matrix.html\n"
   ]
  },
  {
   "cell_type": "markdown",
   "metadata": {},
   "source": [
    "### Overview\n",
    "\n",
    "- True Positives (**TP**): correctly predicted Positive Class\n",
    "- True Negatives (**TN**): correctly predicted Negative Class\n",
    "- False Positives (**FP**): incorrectly predicted Positive Class\n",
    "- False Negatives (**FN**): incorrectly predicted Negative Class\n",
    "\n",
    "<img src=\"../../images/confusion_matrix.png\">"
   ]
  },
  {
   "cell_type": "code",
   "execution_count": 40,
   "metadata": {},
   "outputs": [
    {
     "name": "stdout",
     "output_type": "stream",
     "text": [
      "[[3 2]\n",
      " [1 4]]\n"
     ]
    }
   ],
   "source": [
    "Y_true = np.array([0, 0, 1, 0, 1, 1, 1, 0, 1, 0])\n",
    "Y_pred = np.array([1, 0, 1, 1, 1, 1, 0, 0, 1, 0])\n",
    "\n",
    "# IMPORTANT: first argument is true values, second argument is predicted values\n",
    "cfm = metrics.confusion_matrix(Y_true, Y_pred)\n",
    "\n",
    "print(cfm)"
   ]
  },
  {
   "cell_type": "code",
   "execution_count": 36,
   "metadata": {},
   "outputs": [
    {
     "name": "stdout",
     "output_type": "stream",
     "text": [
      "TN : 3\n",
      "FP : 2\n",
      "FN : 1\n",
      "TP : 4\n"
     ]
    }
   ],
   "source": [
    "# to get the TP... and so on, values, we need to flatten the matrix with np.ravel() method:\n",
    "tn, fp, fn, tp = cfm.ravel()\n",
    "\n",
    "print(f'TN : {tn}')\n",
    "print(f'FP : {fp}')\n",
    "print(f'FN : {fn}')\n",
    "print(f'TP : {tp}')"
   ]
  },
  {
   "cell_type": "markdown",
   "metadata": {},
   "source": [
    "### Change default labeling\n",
    "\n",
    "We can pass third parameter to confusion_matrix(), i.e. *labels* : array-like of shape (n_classes), default=None; List of labels to index the matrix. This **may be used to reorder or select a subset of labels**.\n"
   ]
  },
  {
   "cell_type": "code",
   "execution_count": 37,
   "metadata": {},
   "outputs": [
    {
     "name": "stdout",
     "output_type": "stream",
     "text": [
      "[[4 1]\n",
      " [2 3]]\n"
     ]
    }
   ],
   "source": [
    "Y_true = np.array([0, 0, 1, 0, 1, 1, 1, 0, 1, 0])\n",
    "Y_pred = np.array([1, 0, 1, 1, 1, 1, 0, 0, 1, 0])\n",
    "\n",
    "# IMPORTANT: first argument is true values, second argument is predicted values\n",
    "cfm = metrics.confusion_matrix(Y_true, Y_pred, labels=[1,0])\n",
    "\n",
    "print(cfm)"
   ]
  },
  {
   "cell_type": "markdown",
   "metadata": {},
   "source": [
    "### Plot Confusion Matrix"
   ]
  },
  {
   "cell_type": "code",
   "execution_count": 38,
   "metadata": {},
   "outputs": [
    {
     "data": {
      "image/png": "[encoded data removed]",
      "text/plain": [
       "<Figure size 640x480 with 2 Axes>"
      ]
     },
     "metadata": {},
     "output_type": "display_data"
    }
   ],
   "source": [
    "from sklearn.metrics import  ConfusionMatrixDisplay\n",
    "import matplotlib.pyplot as plt\n",
    "\n",
    "disp = ConfusionMatrixDisplay(confusion_matrix=cfm, display_labels=[1,0])\n",
    "disp.plot()\n",
    "plt.show()"
   ]
  },
  {
   "cell_type": "markdown",
   "metadata": {},
   "source": [
    "## Precision and recall metrix\n",
    "\n",
    "### Overview\n",
    "\n",
    "In pattern recognition, information retrieval and classification (machine learning).\n",
    "\n",
    "**Precision** (also called positive predictive value) is the fraction of relevant instances among the retrieved instances, \n",
    "\n",
    "**Recall** (also known as sensitivity) is the fraction of the total amount of relevant instances that were actually retrieved.\n",
    "\n",
    "\n",
    "\n",
    "<img src=\"./images/Precision_Recall_part1.png\" style=\"height:500px; display:inline-block; vertical-align:middle\">\n",
    "<img src=\"./images/Precision_Recall_part2.png\" style=\"height:300px;  display:inline-block; margin-left:1em; vertical-align:middle\">\n",
    "\n",
    "Reference: [Precision_and_recall @wikipedia](https://en.wikipedia.org/wiki/Precision_and_recall)"
   ]
  },
  {
   "cell_type": "markdown",
   "metadata": {},
   "source": [
    "### Calculation\n",
    "\n",
    "*Precision* = TP / (TP + FP)\n",
    "\n",
    "*Recall*    = TP / (TP + FN)"
   ]
  },
  {
   "cell_type": "code",
   "execution_count": 43,
   "metadata": {},
   "outputs": [
    {
     "name": "stdout",
     "output_type": "stream",
     "text": [
      "confusion matrix:\n",
      " [[0 3]\n",
      " [1 2]]\n",
      "~~~~~~~~~~~~~~~~~~~~~~~~~~~~~~~~~~~~~~~~~~~~~~~~~~\n",
      "tn : 0\n",
      "fp : 3\n",
      "fn : 1\n",
      "tp : 2\n"
     ]
    }
   ],
   "source": [
    "from sklearn.metrics import confusion_matrix\n",
    "\n",
    "y_true = [0, 1, 0, 1, 1, 0]\n",
    "y_pred = [1, 1, 1, 0, 1, 1]\n",
    "# TP = 2, FP=3, TN = 0, FN = 1 \n",
    "\n",
    "\n",
    "cnf_matrix = confusion_matrix(y_true, y_pred)\n",
    "print('confusion matrix:\\n', cnf_matrix)\n",
    "print('~' * 50)\n",
    "\n",
    "# to get the TP... and so on, values, we need to flatten the matrix with np.ravel() method:\n",
    "tn, fp, fn, tp = cnf_matrix.ravel()\n",
    "\n",
    "print(f'tn : {tn}')\n",
    "print(f'fp : {fp}')\n",
    "print(f'fn : {fn}')\n",
    "print(f'tp : {tp}')"
   ]
  },
  {
   "cell_type": "code",
   "execution_count": 44,
   "metadata": {},
   "outputs": [
    {
     "name": "stdout",
     "output_type": "stream",
     "text": [
      "precision: 0.4\n",
      "recall: 0.6666666666666666\n",
      "acc_score: 0.3333333333333333\n"
     ]
    }
   ],
   "source": [
    "precision = tp / (tp+fp)\n",
    "recall = tp / (tp+fn)\n",
    "acc_score = metrics.accuracy_score(y_true, y_pred); \n",
    "\n",
    "print(f'precision: {precision}')\n",
    "print(f'recall: {recall}')\n",
    "print(f'acc_score: {acc_score}')"
   ]
  },
  {
   "cell_type": "code",
   "execution_count": 45,
   "metadata": {},
   "outputs": [
    {
     "name": "stdout",
     "output_type": "stream",
     "text": [
      "precision: 0.4\n",
      "recall: 0.6666666666666666\n"
     ]
    }
   ],
   "source": [
    "# or using the scikit methods:\n",
    "\n",
    "print(f'precision: {metrics.precision_score(y_true, y_pred)}')\n",
    "print(f'recall: {metrics.recall_score(y_true, y_pred)}')"
   ]
  },
  {
   "cell_type": "markdown",
   "metadata": {},
   "source": [
    "## Demo on different estimators"
   ]
  },
  {
   "cell_type": "markdown",
   "metadata": {},
   "source": [
    "## Prepare the data\n",
    "\n",
    "Let's generate a random n-class classification problem dataset, using scikit  function: [make_classification()](https://scikit-learn.org/stable/modules/generated/sklearn.datasets.make_classification.html)\n",
    "\n",
    "The dataset will have 1,000 observations, with 10 input features, five of which will be informative and the remaining five will be redundant."
   ]
  },
  {
   "cell_type": "code",
   "execution_count": 46,
   "metadata": {},
   "outputs": [
    {
     "name": "stdout",
     "output_type": "stream",
     "text": [
      "(1000, 10) (1000,)\n",
      "y unique values: (array([0, 1]), array([202, 798]))\n"
     ]
    }
   ],
   "source": [
    "from sklearn.datasets import make_classification\n",
    "\n",
    "X, y = make_classification(\n",
    "    n_samples=1000, n_features=10, \n",
    "    n_informative=5, n_redundant=5, \n",
    "    n_classes=2, weights=[0.2, 0.8],\n",
    "    random_state=42)\n",
    "\n",
    "print(X.shape, y.shape)\n",
    "\n",
    "print(f'y unique values: {np.unique(y, return_counts=True)}')"
   ]
  },
  {
   "cell_type": "code",
   "execution_count": 47,
   "metadata": {},
   "outputs": [],
   "source": [
    "# let's bring some semanthics into classes:\n",
    "class_names = ['terorist', 'non-terorist']"
   ]
  },
  {
   "cell_type": "markdown",
   "metadata": {},
   "source": [
    "## Separate the training data from the test data"
   ]
  },
  {
   "cell_type": "code",
   "execution_count": 53,
   "metadata": {},
   "outputs": [
    {
     "name": "stdout",
     "output_type": "stream",
     "text": [
      "X_train shape: (800, 10)\n",
      "X_test shape: (200, 10)\n"
     ]
    }
   ],
   "source": [
    "from sklearn.model_selection import train_test_split\n",
    "\n",
    "X_train, X_test, y_train, y_test = train_test_split(X, y, test_size=0.2, random_state=42)\n",
    "print(f'X_train shape: {X_train.shape}')\n",
    "print(f'X_test shape: {X_test.shape}')\n",
    "\n",
    "# X_train = X_test = df[['x1','x2']]\n",
    "# y_train=y_test = df.y"
   ]
  },
  {
   "cell_type": "markdown",
   "metadata": {},
   "source": [
    "## Choose and Train the model"
   ]
  },
  {
   "cell_type": "markdown",
   "metadata": {},
   "source": [
    "We will use 2 classifiers, in order to compare the CM:\n",
    "\n",
    "- a Dummy one, which always will predict one class only\n",
    "- a CVM classifier"
   ]
  },
  {
   "cell_type": "code",
   "execution_count": 54,
   "metadata": {},
   "outputs": [],
   "source": [
    "from sklearn.dummy import DummyClassifier\n",
    "from sklearn.svm import SVC \n",
    "from sklearn.linear_model import LogisticRegression"
   ]
  },
  {
   "cell_type": "code",
   "execution_count": 61,
   "metadata": {},
   "outputs": [],
   "source": [
    "dummy = DummyClassifier(strategy=\"most_frequent\")\n",
    "svc = SVC(kernel=\"linear\", C=12)\n",
    "lr = LogisticRegression(random_state=0)"
   ]
  },
  {
   "cell_type": "code",
   "execution_count": 56,
   "metadata": {},
   "outputs": [],
   "source": [
    "dummy_y_pred = dummy.fit(X_train, y_train).predict(X_test)\n",
    "svc_y_pred = svc.fit(X_train, y_train).predict(X_test)\n",
    "lr_y_pred = lr.fit(X_train, y_train).predict(X_test)"
   ]
  },
  {
   "cell_type": "code",
   "execution_count": 57,
   "metadata": {},
   "outputs": [
    {
     "data": {
      "text/plain": [
       "0.79"
      ]
     },
     "execution_count": 57,
     "metadata": {},
     "output_type": "execute_result"
    }
   ],
   "source": [
    "max(y_test.mean(), 1 - y_test.mean())"
   ]
  },
  {
   "cell_type": "markdown",
   "metadata": {},
   "source": [
    "## Evaluating the Model"
   ]
  },
  {
   "cell_type": "markdown",
   "metadata": {},
   "source": [
    "### Classifier Accuracy Score"
   ]
  },
  {
   "cell_type": "code",
   "execution_count": 58,
   "metadata": {},
   "outputs": [
    {
     "name": "stdout",
     "output_type": "stream",
     "text": [
      "Dummy Accuracy: 0.79\n",
      "SVC Accuracy: 0.885\n",
      "LR Accuracy: 0.895\n"
     ]
    }
   ],
   "source": [
    "# Model Accuracy: \n",
    "print(\"Dummy Accuracy:\",metrics.accuracy_score(y_test, dummy_y_pred))\n",
    "print(\"SVC Accuracy:\",metrics.accuracy_score(y_test, svc_y_pred))\n",
    "print(\"LR Accuracy:\",metrics.accuracy_score(y_test, lr_y_pred))"
   ]
  },
  {
   "cell_type": "code",
   "execution_count": 59,
   "metadata": {},
   "outputs": [
    {
     "name": "stdout",
     "output_type": "stream",
     "text": [
      "Dummy Precision: 0.79\n",
      "SVC Precision: 0.8994082840236687\n",
      "LR Precision: 0.9101796407185628\n"
     ]
    }
   ],
   "source": [
    "# Model Precision:\n",
    "print(\"Dummy Precision:\",metrics.precision_score(y_test, dummy_y_pred))\n",
    "print(\"SVC Precision:\",metrics.precision_score(y_test, svc_y_pred))\n",
    "print(\"LR Precision:\",metrics.precision_score(y_test, lr_y_pred))"
   ]
  },
  {
   "cell_type": "code",
   "execution_count": 60,
   "metadata": {},
   "outputs": [
    {
     "name": "stdout",
     "output_type": "stream",
     "text": [
      "Dummy Recall: 1.0\n",
      "SVC Recall: 0.9620253164556962\n",
      "LR Recall: 0.9620253164556962\n"
     ]
    }
   ],
   "source": [
    "# Model Recall: \n",
    "print(\"Dummy Recall:\",metrics.recall_score(y_test, dummy_y_pred))\n",
    "print(\"SVC Recall:\",metrics.recall_score(y_test, svc_y_pred))\n",
    "print(\"LR Recall:\",metrics.recall_score(y_test, svc_y_pred))"
   ]
  },
  {
   "cell_type": "code",
   "execution_count": null,
   "metadata": {},
   "outputs": [
    {
     "name": "stdout",
     "output_type": "stream",
     "text": [
      "[[ 25  17]\n",
      " [  6 152]]\n"
     ]
    }
   ],
   "source": [
    "print(metrics.confusion_matrix(y_test, svc_y_pred))"
   ]
  }
 ],
 "metadata": {
  "kernelspec": {
   "display_name": "Python 3.9.12 ('.venv': venv)",
   "language": "python",
   "name": "python3"
  },
  "language_info": {
   "codemirror_mode": {
    "name": "ipython",
    "version": 3
   },
   "file_extension": ".py",
   "mimetype": "text/x-python",
   "name": "python",
   "nbconvert_exporter": "python",
   "pygments_lexer": "ipython3",
   "version": "3.9.12"
  },
  "orig_nbformat": 4,
  "vscode": {
   "interpreter": {
    "hash": "2f198458d93464d0c0db318fa461a510553a123fa96784438e9d36dcd5767d99"
   }
  }
 },
 "nbformat": 4,
 "nbformat_minor": 2
}
