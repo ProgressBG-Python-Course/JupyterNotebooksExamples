{
 "cells": [
  {
   "cell_type": "code",
   "execution_count": 27,
   "metadata": {},
   "outputs": [],
   "source": [
    "import numpy as np\n",
    "import pandas as pd\n",
    "\n",
    "import matplotlib.pyplot as plt"
   ]
  },
  {
   "cell_type": "code",
   "execution_count": 28,
   "metadata": {},
   "outputs": [
    {
     "data": {
      "text/plain": [
       "array([[2. , 2.1, 2.2, 2.3, 2.5, 2.6, 2.7, 2.8, 2.9, 3. ],\n",
       "       [4.4, 5.5, 5.3, 5.7, 6. , 6.5, 7. , 7.4, 7.8, 8.5]])"
      ]
     },
     "execution_count": 28,
     "metadata": {},
     "output_type": "execute_result"
    }
   ],
   "source": [
    "# prepare the data\n",
    "X = np.array(\n",
    "    [\n",
    "        [2., 2.1, 2.2, 2.3, 2.5, 2.6, 2.7, 2.8, 2.9, 3.0],\n",
    "        [4.4,5.5, 5.3, 5.7, 6. , 6.5, 7.,  7.4, 7.8 ,8.5]\n",
    "    ]   \n",
    ")\n",
    "y = np.array([ 0, 0, 0, 0, 0, 1, 0, 0, 0, 1])\n",
    "X"
   ]
  },
  {
   "cell_type": "code",
   "execution_count": 29,
   "metadata": {},
   "outputs": [
    {
     "data": {
      "text/plain": [
       "array([[2.50116972, 2.75998032, 2.85282735, 2.38536097, 2.71895096,\n",
       "        3.19528789, 3.31404687, 3.21961383, 3.81390004, 3.6532254 ],\n",
       "       [4.90116972, 6.15998032, 5.95282735, 5.78536097, 6.21895096,\n",
       "        7.09528789, 7.61404687, 7.81961383, 8.71390004, 9.1532254 ]])"
      ]
     },
     "execution_count": 29,
     "metadata": {},
     "output_type": "execute_result"
    }
   ],
   "source": [
    "X_new = np.array(\n",
    "    [\n",
    "        X[0] + rand_coef,\n",
    "        X[1] + rand_coef \n",
    "    ])\n",
    "X_new"
   ]
  },
  {
   "cell_type": "code",
   "execution_count": 30,
   "metadata": {},
   "outputs": [
    {
     "data": {
      "image/png": "[encoded data removed]",
      "text/plain": [
       "<Figure size 432x288 with 1 Axes>"
      ]
     },
     "metadata": {
      "needs_background": "light"
     },
     "output_type": "display_data"
    }
   ],
   "source": [
    "plt.scatter(X[0,:],X[1,:], color=\"red\")\n",
    "plt.scatter(X_new[0,:],X_new[1,:], color=\"green\")\n",
    "\n",
    "X_real_0 = np.append(X[0], X_new[0])\n",
    "X_real_1 = np.append(X[1], X_new[1])\n",
    "X_data = np.array([X_real_0, X_real_1])\n",
    "\n",
    "y = np.append(np.zeros(18), np.ones(2))"
   ]
  },
  {
   "cell_type": "code",
   "execution_count": 31,
   "metadata": {},
   "outputs": [
    {
     "name": "stdout",
     "output_type": "stream",
     "text": [
      "['red', 'red', 'red', 'red', 'red', 'red', 'red', 'red', 'red', 'red', 'red', 'red', 'red', 'red', 'red', 'red', 'red', 'red', 'green', 'green']\n"
     ]
    }
   ],
   "source": [
    "colors_map = [\"red\", \"green\"]\n",
    "\n",
    "\n",
    "# if-else statment like expression with logical operators used as short circuit \n",
    "# colors = map(lambda el:el and \"green\" or \"red\", y)\n",
    "\n",
    "# if-else statment like expression with if-else expression\n",
    "colors = map(lambda el: \"green\"  if el else \"red\", y)\n",
    "\n",
    "colors = list(colors)\n",
    "print(colors)"
   ]
  },
  {
   "cell_type": "code",
   "execution_count": 32,
   "metadata": {},
   "outputs": [
    {
     "data": {
      "text/plain": [
       "<matplotlib.collections.PathCollection at 0x7fae92b49510>"
      ]
     },
     "execution_count": 32,
     "metadata": {},
     "output_type": "execute_result"
    },
    {
     "data": {
      "image/png": "[encoded data removed]",
      "text/plain": [
       "<Figure size 432x288 with 1 Axes>"
      ]
     },
     "metadata": {
      "needs_background": "light"
     },
     "output_type": "display_data"
    }
   ],
   "source": [
    "plt.scatter(X_data[0,:],X_data[1,:], color=colors)"
   ]
  },
  {
   "cell_type": "code",
   "execution_count": 34,
   "metadata": {},
   "outputs": [
    {
     "data": {
      "text/plain": [
       "DummyClassifier(constant=None, random_state=None, strategy='stratified')"
      ]
     },
     "execution_count": 34,
     "metadata": {},
     "output_type": "execute_result"
    }
   ],
   "source": [
    "# test with SVM and a Dummy Classifier\n",
    "from sklearn import svm\n",
    "from sklearn import dummy\n",
    "\n",
    "svc = svm.SVC(gamma=\"auto\")\n",
    "dummy = dummy.DummyClassifier()\n",
    "\n",
    "svc.fit(X_data.T, y) \n",
    "dummy.fit(X_data.T, y) \n"
   ]
  },
  {
   "cell_type": "code",
   "execution_count": 49,
   "metadata": {},
   "outputs": [],
   "source": [
    "# test on same data, but first we need to transpose the input data\n",
    "X_test = X_data.T\n",
    "\n",
    "y_pred_svc = svc.predict(X_test)\n",
    "y_pred_dummy = dummy.predict(X_test)"
   ]
  },
  {
   "cell_type": "code",
   "execution_count": 50,
   "metadata": {},
   "outputs": [
    {
     "name": "stdout",
     "output_type": "stream",
     "text": [
      "accuracy_score SVC: 1.0\n",
      "accuracy_score Dummy: 0.75\n"
     ]
    }
   ],
   "source": [
    "# evaluate the model\n",
    "from sklearn.metrics import accuracy_score\n",
    "print(f'accuracy_score SVC: {accuracy_score(y, y_pred_svc)}')\n",
    "print(f'accuracy_score Dummy: {accuracy_score(y, y_pred_dummy)}')\n"
   ]
  },
  {
   "cell_type": "code",
   "execution_count": 54,
   "metadata": {},
   "outputs": [
    {
     "name": "stdout",
     "output_type": "stream",
     "text": [
      "confusion_matrix SVC:\n",
      " [[18  0]\n",
      " [ 0  2]]\n",
      "\n",
      "confusion_matrix Dummy:\n",
      " [[15  3]\n",
      " [ 2  0]]\n"
     ]
    }
   ],
   "source": [
    "from sklearn.metrics import confusion_matrix\n",
    "print(f'confusion_matrix SVC:\\n {confusion_matrix(y, y_pred_svc)}\\n')\n",
    "print(f'confusion_matrix Dummy:\\n {confusion_matrix(y, y_pred_dummy)}')"
   ]
  },
  {
   "cell_type": "code",
   "execution_count": 57,
   "metadata": {},
   "outputs": [
    {
     "name": "stdout",
     "output_type": "stream",
     "text": [
      "classification_report SVC: \n",
      "              precision    recall  f1-score   support\n",
      "\n",
      "         red       1.00      1.00      1.00        18\n",
      "       green       1.00      1.00      1.00         2\n",
      "\n",
      "    accuracy                           1.00        20\n",
      "   macro avg       1.00      1.00      1.00        20\n",
      "weighted avg       1.00      1.00      1.00        20\n",
      "\n",
      "classification_report Dummy: \n",
      "              precision    recall  f1-score   support\n",
      "\n",
      "         red       0.88      0.83      0.86        18\n",
      "       green       0.00      0.00      0.00         2\n",
      "\n",
      "    accuracy                           0.75        20\n",
      "   macro avg       0.44      0.42      0.43        20\n",
      "weighted avg       0.79      0.75      0.77        20\n",
      "\n"
     ]
    }
   ],
   "source": [
    "from sklearn.metrics import classification_report\n",
    "\n",
    "cls_rep_svc = classification_report(y, y_pred_svc, target_names=colors_map)\n",
    "cls_rep_dummy = classification_report(y, y_pred_dummy, target_names=colors_map)\n",
    "\n",
    "print(f'classification_report SVC: \\n{cls_rep_svc}')\n",
    "print(f'classification_report Dummy: \\n{cls_rep_dummy}')"
   ]
  },
  {
   "cell_type": "code",
   "execution_count": null,
   "metadata": {},
   "outputs": [],
   "source": []
  }
 ],
 "metadata": {
  "kernelspec": {
   "display_name": "Python 3",
   "language": "python",
   "name": "python3"
  },
  "language_info": {
   "codemirror_mode": {
    "name": "ipython",
    "version": 3
   },
   "file_extension": ".py",
   "mimetype": "text/x-python",
   "name": "python",
   "nbconvert_exporter": "python",
   "pygments_lexer": "ipython3",
   "version": "3.7.4"
  },
  "toc": {
   "base_numbering": 1,
   "nav_menu": {},
   "number_sections": true,
   "sideBar": true,
   "skip_h1_title": true,
   "title_cell": "Table of Contents",
   "title_sidebar": "Content",
   "toc_cell": false,
   "toc_position": {},
   "toc_section_display": true,
   "toc_window_display": true
  }
 },
 "nbformat": 4,
 "nbformat_minor": 4
}
