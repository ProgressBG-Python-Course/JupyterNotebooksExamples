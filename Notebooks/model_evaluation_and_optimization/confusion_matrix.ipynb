{
 "cells": [
  {
   "cell_type": "code",
   "execution_count": 156,
   "metadata": {},
   "outputs": [],
   "source": [
    "import numpy as np\n",
    "import pandas as pd\n",
    "import matplotlib.pyplot as plt\n",
    "\n",
    "from sklearn.model_selection import train_test_split\n",
    "# from sklearn.metrics import confusion_matrix\n",
    "from sklearn import metrics\n",
    "\n",
    "%matplotlib inline\n"
   ]
  },
  {
   "cell_type": "markdown",
   "metadata": {},
   "source": [
    "# Confusion Matrix"
   ]
  },
  {
   "cell_type": "markdown",
   "metadata": {},
   "source": [
    "## Overview\n",
    "\n",
    "- True Positives (**TP**): correctly predicted Positive Class\n",
    "- True Negatives (**TN**): correctly predicted Negative Class\n",
    "- False Positives (**FP**): incorrectly predicted Positive Class\n",
    "- False Negatives (**FN**): incorrectly predicted Negative Class\n",
    "\n",
    "<img src=\"../../images/confusion_matrix.png\">\n"
   ]
  },
  {
   "cell_type": "markdown",
   "metadata": {},
   "source": [
    "To compute the comfusion matrix we will use the scikit's [confusion_matrix()](https://scikit-learn.org/stable/modules/generated/sklearn.metrics.confusion_matrix.html) function\n"
   ]
  },
  {
   "cell_type": "code",
   "execution_count": 157,
   "metadata": {},
   "outputs": [],
   "source": [
    "from sklearn.metrics import confusion_matrix"
   ]
  },
  {
   "cell_type": "code",
   "execution_count": 159,
   "metadata": {},
   "outputs": [
    {
     "name": "stdout",
     "output_type": "stream",
     "text": [
      "confusion matrix:\n",
      " [[0 3]\n",
      " [1 2]]\n",
      "~~~~~~~~~~~~~~~~~~~~~~~~~~~~~~~~~~~~~~~~~~~~~~~~~~\n",
      "tn : 0\n",
      "fp : 3\n",
      "fn : 1\n",
      "tp : 2\n"
     ]
    }
   ],
   "source": [
    "y_true = [0, 1, 0, 1, 1, 0]\n",
    "y_pred = [1, 1, 1, 0, 1, 1]\n",
    "# TP = 2, FP=3, TN = 0, FN = 1 \n",
    "\n",
    "\n",
    "cnf_matrix = confusion_matrix(y_true, y_pred)\n",
    "print('confusion matrix:\\n', cnf_matrix)\n",
    "print('~' * 50)\n",
    "\n",
    "# to get the TP... and so on, values, we need to flatten the matrix with np.ravel() method:\n",
    "tn, fp, fn, tp = cnf_matrix.ravel()\n",
    "\n",
    "print(f'tn : {tn}')\n",
    "print(f'fp : {fp}')\n",
    "print(f'fn : {fn}')\n",
    "print(f'tp : {tp}')"
   ]
  },
  {
   "cell_type": "code",
   "execution_count": 160,
   "metadata": {},
   "outputs": [],
   "source": [
    "# deafult labeling:\n",
    "# [\n",
    "#     [TN, FP],\n",
    "#     [FN, TP]\n",
    "# ]"
   ]
  },
  {
   "cell_type": "markdown",
   "metadata": {},
   "source": [
    "**Change default labeling**\n",
    "\n",
    "We can pass third parameter to confusion_matrix(), i.e. *labels* : array-like of shape (n_classes), default=None; List of labels to index the matrix. This **may be used to reorder or select a subset of labels**.\n"
   ]
  },
  {
   "cell_type": "code",
   "execution_count": 161,
   "metadata": {},
   "outputs": [
    {
     "name": "stdout",
     "output_type": "stream",
     "text": [
      "confusion matrix:\n",
      " [[2 1]\n",
      " [3 0]]\n",
      "tn : 2\n",
      "fp : 1\n",
      "fn : 3\n",
      "tp : 0\n"
     ]
    }
   ],
   "source": [
    "cnf_matrix = confusion_matrix(y_true, y_pred, labels=[1,0])\n",
    "print('confusion matrix:\\n', cnf_matrix)\n",
    "\n",
    "tn, fp, fn, tp = cnf_matrix.ravel()\n",
    "\n",
    "print(f'tn : {tn}')\n",
    "print(f'fp : {fp}')\n",
    "print(f'fn : {fn}')\n",
    "print(f'tp : {tp}')"
   ]
  },
  {
   "cell_type": "markdown",
   "metadata": {},
   "source": [
    "### Plot CM"
   ]
  },
  {
   "cell_type": "code",
   "execution_count": 162,
   "metadata": {},
   "outputs": [],
   "source": [
    "import itertools\n",
    "def plot_confusion_matrix(cm, classes,\n",
    "                          normalize=False,\n",
    "                          title='Confusion matrix',\n",
    "                          cmap=plt.cm.Blues):\n",
    "    \"\"\"\n",
    "    This function prints and plots the confusion matrix.\n",
    "    Normalization can be applied by setting `normalize=True`.\n",
    "    \"\"\"\n",
    "    if normalize:\n",
    "        cm = cm.astype('float') / cm.sum(axis=1)[:, np.newaxis]\n",
    "   \n",
    "\n",
    "    plt.imshow(cm, interpolation='nearest', cmap=cmap)\n",
    "    plt.title(title)\n",
    "    plt.colorbar()\n",
    "    tick_marks = np.arange(len(classes))\n",
    "    plt.xticks(tick_marks, classes, rotation=45)\n",
    "    plt.yticks(tick_marks, classes)\n",
    "\n",
    "    fmt = '.2f' if normalize else 'd'\n",
    "    thresh = cm.max() / 2.\n",
    "    for i, j in itertools.product(range(cm.shape[0]), range(cm.shape[1])):\n",
    "        plt.text(j, i, format(cm[i, j], fmt),\n",
    "                 horizontalalignment=\"center\",\n",
    "                 color=\"white\" if cm[i, j] > thresh else \"black\")\n",
    "\n",
    "    plt.ylabel('True label')\n",
    "    plt.xlabel('Predicted label')\n",
    "    plt.tight_layout()\n"
   ]
  },
  {
   "cell_type": "code",
   "execution_count": 163,
   "metadata": {},
   "outputs": [
    {
     "data": {
      "image/png": "[encoded data removed]",
      "text/plain": [
       "<Figure size 432x288 with 2 Axes>"
      ]
     },
     "metadata": {
      "needs_background": "light"
     },
     "output_type": "display_data"
    }
   ],
   "source": [
    "# plot \n",
    "# np.set_printoptions(precision=2)\n",
    "\n",
    "# Plot non-normalized confusion matrix\n",
    "plt.figure()\n",
    "plot_confusion_matrix(cnf_matrix, classes=classes['names'],\n",
    "                      title='Confusion matrix, without normalization')\n",
    "\n",
    "# # Plot normalized confusion matrix\n",
    "# plt.figure()\n",
    "# plot_confusion_matrix(cnf_matrix, classes=class_names, normalize=True,\n",
    "#                       title='Normalized confusion matrix')\n",
    "\n",
    "plt.show()"
   ]
  },
  {
   "cell_type": "markdown",
   "metadata": {},
   "source": [
    "## Precision and recall metrix\n",
    "\n",
    "### Overview\n",
    "\n",
    "In pattern recognition, information retrieval and classification (machine learning), precision (also called positive predictive value) is the fraction of relevant instances among the retrieved instances, while recall (also known as sensitivity) is the fraction of the total amount of relevant instances that were actually retrieved.\n",
    "\n",
    "\n",
    "\n",
    "<img src=\"./images/Precision_Recall_part1.png\" style=\"height:500px; display:inline-block; vertical-align:middle\">\n",
    "<img src=\"./images/Precision_Recall_part2.png\" style=\"height:300px;  display:inline-block; margin-left:1em; vertical-align:middle\">\n",
    "\n",
    "Reference: [Precision_and_recall @wikipedia](https://en.wikipedia.org/wiki/Precision_and_recall)"
   ]
  },
  {
   "cell_type": "markdown",
   "metadata": {},
   "source": [
    "### Calculation\n",
    "\n",
    "Precision = TP / (TP + FP)\n",
    "\n",
    "Recall:  TP / (TP + FN)"
   ]
  },
  {
   "cell_type": "code",
   "execution_count": 167,
   "metadata": {},
   "outputs": [
    {
     "name": "stdout",
     "output_type": "stream",
     "text": [
      "confusion matrix:\n",
      " [[0 3]\n",
      " [1 2]]\n",
      "~~~~~~~~~~~~~~~~~~~~~~~~~~~~~~~~~~~~~~~~~~~~~~~~~~\n",
      "tn : 0\n",
      "fp : 3\n",
      "fn : 1\n",
      "tp : 2\n"
     ]
    }
   ],
   "source": [
    "y_true = [0, 1, 0, 1, 1, 0]\n",
    "y_pred = [1, 1, 1, 0, 1, 1]\n",
    "# TP = 2, FP=3, TN = 0, FN = 1 \n",
    "\n",
    "\n",
    "cnf_matrix = confusion_matrix(y_true, y_pred)\n",
    "print('confusion matrix:\\n', cnf_matrix)\n",
    "print('~' * 50)\n",
    "\n",
    "# to get the TP... and so on, values, we need to flatten the matrix with np.ravel() method:\n",
    "tn, fp, fn, tp = cnf_matrix.ravel()\n",
    "\n",
    "print(f'tn : {tn}')\n",
    "print(f'fp : {fp}')\n",
    "print(f'fn : {fn}')\n",
    "print(f'tp : {tp}')"
   ]
  },
  {
   "cell_type": "code",
   "execution_count": 186,
   "metadata": {},
   "outputs": [
    {
     "name": "stdout",
     "output_type": "stream",
     "text": [
      "precision: 0.4\n",
      "recall: 0.6666666666666666\n",
      "acc_score: 0.3333333333333333\n"
     ]
    }
   ],
   "source": [
    "precision = tp / (tp+fp)\n",
    "recall = tp / (tp+fn)\n",
    "acc_score = metrics.accuracy_score(y_true, y_pred); \n",
    "\n",
    "print(f'precision: {precision}')\n",
    "print(f'recall: {recall}')\n",
    "print(f'acc_score: {acc_score}')"
   ]
  },
  {
   "cell_type": "code",
   "execution_count": 187,
   "metadata": {},
   "outputs": [
    {
     "name": "stdout",
     "output_type": "stream",
     "text": [
      "precision: 0.4\n",
      "recall: 0.6666666666666666\n"
     ]
    }
   ],
   "source": [
    "# or using the scikit methods:\n",
    "\n",
    "print(f'precision: {metrics.precision_score(y_true, y_pred)}')\n",
    "print(f'recall: {metrics.recall_score(y_true, y_pred)}')"
   ]
  },
  {
   "cell_type": "markdown",
   "metadata": {},
   "source": [
    "## Demo on different estimators"
   ]
  },
  {
   "cell_type": "markdown",
   "metadata": {},
   "source": [
    "## Prepare the data\n",
    "\n",
    "Let's generate a random n-class classification problem dataset, using scikit  function: [make_classification()](https://scikit-learn.org/stable/modules/generated/sklearn.datasets.make_classification.html)\n",
    "\n",
    "The dataset will have 1,000 observations, with 10 input features, five of which will be informative and the remaining five will be redundant."
   ]
  },
  {
   "cell_type": "code",
   "execution_count": 173,
   "metadata": {},
   "outputs": [
    {
     "name": "stdout",
     "output_type": "stream",
     "text": [
      "(1000, 10) (1000,)\n",
      "y unique values: (array([0, 1]), array([202, 798]))\n"
     ]
    }
   ],
   "source": [
    "from sklearn.datasets import make_classification\n",
    "\n",
    "X, y = make_classification(\n",
    "    n_samples=1000, n_features=10, \n",
    "    n_informative=5, n_redundant=5, \n",
    "    n_classes=2, weights=[0.2, 0.8],\n",
    "    random_state=42)\n",
    "\n",
    "print(X.shape, y.shape)\n",
    "\n",
    "print(f'y unique values: {np.unique(y, return_counts=True)}')"
   ]
  },
  {
   "cell_type": "code",
   "execution_count": 174,
   "metadata": {},
   "outputs": [],
   "source": [
    "# let's bring some semanthics into classes:\n",
    "class_names = ['terorist', 'non-terorist']"
   ]
  },
  {
   "cell_type": "markdown",
   "metadata": {},
   "source": [
    "## Separate the training data from the test data"
   ]
  },
  {
   "cell_type": "code",
   "execution_count": 175,
   "metadata": {},
   "outputs": [
    {
     "name": "stdout",
     "output_type": "stream",
     "text": [
      "X_train shape: (800, 10)\n",
      "X_test shape: (200, 10)\n"
     ]
    }
   ],
   "source": [
    "X_train, X_test, y_train, y_test = train_test_split(X, y, test_size=0.2, random_state=42)\n",
    "print(f'X_train shape: {X_train.shape}')\n",
    "print(f'X_test shape: {X_test.shape}')\n",
    "\n",
    "# X_train = X_test = df[['x1','x2']]\n",
    "# y_train=y_test = df.y"
   ]
  },
  {
   "cell_type": "markdown",
   "metadata": {},
   "source": [
    "## Choose and Train the model"
   ]
  },
  {
   "cell_type": "markdown",
   "metadata": {},
   "source": [
    "We will use 2 classifiers, in order to compare the CM:\n",
    "\n",
    "- a Dummy one, which always will predict one class only\n",
    "- a CVM classifier"
   ]
  },
  {
   "cell_type": "code",
   "execution_count": 176,
   "metadata": {},
   "outputs": [],
   "source": [
    "from sklearn.dummy import DummyClassifier\n",
    "from sklearn.svm import SVC \n",
    "from sklearn.linear_model import LogisticRegression"
   ]
  },
  {
   "cell_type": "code",
   "execution_count": 177,
   "metadata": {},
   "outputs": [],
   "source": [
    "dummy = DummyClassifier(strategy=\"most_frequent\")\n",
    "svc = SVC(kernel=\"linear\", C=12)\n",
    "lr = LogisticRegression(random_state=0)"
   ]
  },
  {
   "cell_type": "code",
   "execution_count": 178,
   "metadata": {},
   "outputs": [],
   "source": [
    "dummy_y_pred = dummy.fit(X_train, y_train).predict(X_test)\n",
    "svc_y_pred = svc.fit(X_train, y_train).predict(X_test)\n",
    "lr_y_pred = lr.fit(X_train, y_train).predict(X_test)"
   ]
  },
  {
   "cell_type": "code",
   "execution_count": 179,
   "metadata": {},
   "outputs": [
    {
     "data": {
      "text/plain": [
       "0.79"
      ]
     },
     "execution_count": 179,
     "metadata": {},
     "output_type": "execute_result"
    }
   ],
   "source": [
    "max(y_test.mean(), 1 - y_test.mean())"
   ]
  },
  {
   "cell_type": "markdown",
   "metadata": {},
   "source": [
    "## Evaluating the Model"
   ]
  },
  {
   "cell_type": "markdown",
   "metadata": {},
   "source": [
    "### Classifier Accuracy Score"
   ]
  },
  {
   "cell_type": "code",
   "execution_count": 180,
   "metadata": {},
   "outputs": [
    {
     "name": "stdout",
     "output_type": "stream",
     "text": [
      "Dummy Accuracy: 0.79\n",
      "SVC Accuracy: 0.885\n",
      "LR Accuracy: 0.895\n"
     ]
    }
   ],
   "source": [
    "# Model Accuracy: \n",
    "print(\"Dummy Accuracy:\",metrics.accuracy_score(y_test, dummy_y_pred))\n",
    "print(\"SVC Accuracy:\",metrics.accuracy_score(y_test, svc_y_pred))\n",
    "print(\"LR Accuracy:\",metrics.accuracy_score(y_test, lr_y_pred))"
   ]
  },
  {
   "cell_type": "code",
   "execution_count": 182,
   "metadata": {},
   "outputs": [
    {
     "name": "stdout",
     "output_type": "stream",
     "text": [
      "Dummy Precision: 0.79\n",
      "SVC Precision: 0.8994082840236687\n",
      "LR Precision: 0.9101796407185628\n"
     ]
    }
   ],
   "source": [
    "# Model Precision:\n",
    "print(\"Dummy Precision:\",metrics.precision_score(y_test, dummy_y_pred))\n",
    "print(\"SVC Precision:\",metrics.precision_score(y_test, svc_y_pred))\n",
    "print(\"LR Precision:\",metrics.precision_score(y_test, lr_y_pred))"
   ]
  },
  {
   "cell_type": "code",
   "execution_count": 183,
   "metadata": {},
   "outputs": [
    {
     "name": "stdout",
     "output_type": "stream",
     "text": [
      "Dummy Recall: 1.0\n",
      "SVC Recall: 0.9620253164556962\n",
      "LR Recall: 0.9620253164556962\n"
     ]
    }
   ],
   "source": [
    "# Model Recall: \n",
    "print(\"Dummy Recall:\",metrics.recall_score(y_test, dummy_y_pred))\n",
    "print(\"SVC Recall:\",metrics.recall_score(y_test, svc_y_pred))\n",
    "print(\"LR Recall:\",metrics.recall_score(y_test, svc_y_pred))"
   ]
  },
  {
   "cell_type": "code",
   "execution_count": 184,
   "metadata": {},
   "outputs": [
    {
     "name": "stdout",
     "output_type": "stream",
     "text": [
      "[[ 25  17]\n",
      " [  6 152]]\n"
     ]
    }
   ],
   "source": [
    "print(metrics.confusion_matrix(y_test, svc_y_pred))"
   ]
  }
 ],
 "metadata": {
  "kernelspec": {
   "display_name": "Python 3.9.12 ('.venv': venv)",
   "language": "python",
   "name": "python3"
  },
  "language_info": {
   "codemirror_mode": {
    "name": "ipython",
    "version": 3
   },
   "file_extension": ".py",
   "mimetype": "text/x-python",
   "name": "python",
   "nbconvert_exporter": "python",
   "pygments_lexer": "ipython3",
   "version": "3.9.12"
  },
  "vscode": {
   "interpreter": {
    "hash": "2f198458d93464d0c0db318fa461a510553a123fa96784438e9d36dcd5767d99"
   }
  }
 },
 "nbformat": 4,
 "nbformat_minor": 4
}
