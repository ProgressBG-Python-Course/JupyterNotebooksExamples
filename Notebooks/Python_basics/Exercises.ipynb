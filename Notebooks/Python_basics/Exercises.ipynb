{
 "cells": [
  {
   "cell_type": "markdown",
   "metadata": {},
   "source": [
    "# Functions"
   ]
  },
  {
   "cell_type": "markdown",
   "metadata": {},
   "source": [
    "## Task1: find_bigger_number()\n",
    "\n",
    "Write a function `find_bigger_number()` which takes two numbers and returns the bigger one"
   ]
  },
  {
   "cell_type": "code",
   "execution_count": null,
   "metadata": {},
   "outputs": [],
   "source": [
    "# define the function 'find_bigger_number()' bellow:\n",
    "\n",
    "\n",
    "# example function call:\n",
    "bigger = find_bigger_number(2,8)\n",
    "print( bigger )  \n",
    "\n",
    "# expected output:\n",
    "# 8"
   ]
  },
  {
   "cell_type": "markdown",
   "metadata": {},
   "source": [
    "# Lists and Strings manipulations"
   ]
  },
  {
   "cell_type": "markdown",
   "metadata": {},
   "source": [
    "## Task1: print positive even numbers\n",
    "\n",
    "Print only the positive (i.e. > 0) even numbers from a given list"
   ]
  },
  {
   "cell_type": "code",
   "execution_count": null,
   "metadata": {},
   "outputs": [],
   "source": [
    "# given\n",
    "numbers = [2, -4, -3, 13, 8, -6, 4] \n",
    "\n",
    "# your code goes below:\n",
    "\n",
    "\n",
    "# expected output:\n",
    "# 2 \n",
    "# 8 \n",
    "# 4"
   ]
  },
  {
   "cell_type": "markdown",
   "metadata": {},
   "source": [
    "## Task2: function count_even_positives()\n",
    "\n",
    "Define a function <code>count_even_positives()</code> which takes as argument a list of numbers, and returns the count of positive (i.e. > 0) even numbers from the given list"
   ]
  },
  {
   "cell_type": "code",
   "execution_count": null,
   "metadata": {},
   "outputs": [],
   "source": [
    "# define the function 'find_even_positives()' bellow:\n",
    "\n",
    "\n",
    "# example function call:\n",
    "even_positives_count = count_even_positives( [2, -4, -3, 13, 8, -6, 4] )    \n",
    "\n",
    "print( even_positives_count )  \n",
    "\n",
    "# expected output:\n",
    "# 3"
   ]
  },
  {
   "cell_type": "markdown",
   "metadata": {},
   "source": [
    "## Task3: find words starting with 't' or 'T'\n",
    "\n",
    "Get all words from a given string (for simplicity, just split it on space) and print only the words which starts with 't' or 'T'"
   ]
  },
  {
   "cell_type": "code",
   "execution_count": null,
   "metadata": {},
   "outputs": [],
   "source": [
    "# given is the string:\n",
    "sentence = '''There is a theory which states that if ever anyone discovers exactly what the \n",
    "Universe is for and why it is here, it will instantly disappear and be replaced by something \n",
    "even more bizarre and inexplicable. There is another theory which states that this has \n",
    "already happened.'''\n",
    "\n",
    "# get a list of words from string  - use str.split() method with space as separator\n",
    "# your code goes below:\n",
    "\n",
    "\n",
    "# loop through words and print only the ones which starts with 'a' or 'A'\n",
    "# your code goes below:\n",
    "        \n",
    "    \n",
    "# expected output:\n",
    "# There\n",
    "# theory\n",
    "# that\n",
    "# the\n",
    "# There\n",
    "# theory\n",
    "# that\n",
    "# this\n",
    "        "
   ]
  }
 ],
 "metadata": {
  "kernelspec": {
   "display_name": "Python 3",
   "language": "python",
   "name": "python3"
  },
  "language_info": {
   "codemirror_mode": {
    "name": "ipython",
    "version": 3
   },
   "file_extension": ".py",
   "mimetype": "text/x-python",
   "name": "python",
   "nbconvert_exporter": "python",
   "pygments_lexer": "ipython3",
   "version": "3.7.4"
  }
 },
 "nbformat": 4,
 "nbformat_minor": 4
}
