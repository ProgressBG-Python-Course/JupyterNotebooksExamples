{
 "cells": [
  {
   "cell_type": "markdown",
   "metadata": {},
   "source": [
    "# Files manipulations"
   ]
  },
  {
   "cell_type": "markdown",
   "metadata": {},
   "source": [
    "## Directory Manipulations"
   ]
  },
  {
   "cell_type": "code",
   "execution_count": 53,
   "metadata": {},
   "outputs": [],
   "source": [
    "import os"
   ]
  },
  {
   "cell_type": "code",
   "execution_count": 54,
   "metadata": {},
   "outputs": [
    {
     "data": {
      "text/plain": [
       "'/home/nemsys/projects/courses/ProgressBG/JupyterNotebooksExamples/Notebooks/Python_basics/File_manipulations'"
      ]
     },
     "execution_count": 54,
     "metadata": {},
     "output_type": "execute_result"
    }
   ],
   "source": [
    "# Get the current working directory\n",
    "os.getcwd()"
   ]
  },
  {
   "cell_type": "code",
   "execution_count": 55,
   "metadata": {},
   "outputs": [
    {
     "data": {
      "text/plain": [
       "['file_manipulations.ipynb', '.ipynb_checkpoints', 'file1.txt']"
      ]
     },
     "execution_count": 55,
     "metadata": {},
     "output_type": "execute_result"
    }
   ],
   "source": [
    "# List entries in a directory\n",
    "os.listdir()"
   ]
  },
  {
   "cell_type": "markdown",
   "metadata": {
    "toc-hr-collapsed": true
   },
   "source": [
    "## Read from file"
   ]
  },
  {
   "cell_type": "markdown",
   "metadata": {},
   "source": [
    "### open file"
   ]
  },
  {
   "cell_type": "markdown",
   "metadata": {},
   "source": [
    "Most of file operations in Python are done through the File Object Methods. I.e. before reading or writing to a file, we must get the corresponding File Object with the `open` built-in function.\n",
    "\n",
    "<dl class=\"fa\">\n",
    "    <dt><code>fh = open(file_path, mode=\"<em>mode</em>\")</code></dt>\n",
    "    <dt>Open file by the given pathname and return a corresponding file object</dt>\n",
    "    <dt><em>mode</em></dt>\n",
    "    <dd>'r' - open for reading (default)</dd>\n",
    "    <dd>'w' - open for writing, truncating the file first</dd>\n",
    "    <dd>'a' - open for writing, appending to the end of the file if it exists</dd>\n",
    "    <dt class=\"note\">After the work with the file is done, you have to call fh.close() in order to release the fh</dt>\n",
    "  </dl>"
   ]
  },
  {
   "cell_type": "code",
   "execution_count": 56,
   "metadata": {},
   "outputs": [
    {
     "name": "stdout",
     "output_type": "stream",
     "text": [
      "<_io.TextIOWrapper name='file1.txt' mode='r' encoding='UTF-8'>\n"
     ]
    }
   ],
   "source": [
    "fh = open('file1.txt', mode='r')\n",
    "print(fh)\n",
    "fh.close()"
   ]
  },
  {
   "cell_type": "markdown",
   "metadata": {},
   "source": [
    "### Read from file"
   ]
  },
  {
   "cell_type": "markdown",
   "metadata": {},
   "source": [
    "**Read whole file**\n",
    "\n",
    "`content = fh.read()`\n",
    "\n",
    "Reads file content and stores it in variable"
   ]
  },
  {
   "cell_type": "code",
   "execution_count": 57,
   "metadata": {},
   "outputs": [
    {
     "name": "stdout",
     "output_type": "stream",
     "text": [
      "this is a file 1\n",
      "just a demo text filea new linea new linea new linea new line\n"
     ]
    }
   ],
   "source": [
    "fh = open('file1.txt', mode='r')\n",
    "content = fh.read()\n",
    "print(content)\n",
    "fh.close()\n",
    "\n",
    "# note test it outside JN to see the actual result, i.e. the EOL symbols"
   ]
  },
  {
   "cell_type": "markdown",
   "metadata": {},
   "source": [
    "### Get list of lines"
   ]
  },
  {
   "cell_type": "code",
   "execution_count": 58,
   "metadata": {},
   "outputs": [
    {
     "name": "stdout",
     "output_type": "stream",
     "text": [
      "['this is a file 1\\n', 'just a demo text filea new linea new linea new linea new line']\n"
     ]
    }
   ],
   "source": [
    "fh = open('file1.txt', mode='r')\n",
    "lines = list(fh)\n",
    "print(lines)\n",
    "fh.close()"
   ]
  },
  {
   "cell_type": "markdown",
   "metadata": {},
   "source": [
    "### Loop over lines"
   ]
  },
  {
   "cell_type": "code",
   "execution_count": 59,
   "metadata": {},
   "outputs": [
    {
     "name": "stdout",
     "output_type": "stream",
     "text": [
      "this is a file 1\n",
      "\n",
      "just a demo text filea new linea new linea new linea new line\n"
     ]
    }
   ],
   "source": [
    "fh = open('file1.txt', mode='r')\n",
    "for line in fh:\n",
    "    print(line)\n",
    "fh.close()"
   ]
  },
  {
   "cell_type": "markdown",
   "metadata": {},
   "source": [
    "## Write to a file"
   ]
  },
  {
   "cell_type": "markdown",
   "metadata": {},
   "source": [
    "### Write to an Existing File\n",
    "\n",
    "Note, when we want to write to existing file, we must open it in write/append mode.\n",
    "\n",
    "`mode='w'` - opens the file for writing. **Will overwrite any existing content**\n",
    "\n",
    "`mode='a'` - opens the file for appending. **Will keep the content, writing at the end**"
   ]
  },
  {
   "cell_type": "code",
   "execution_count": 66,
   "metadata": {},
   "outputs": [],
   "source": [
    "# append to file\n",
    "fh = open('file1.txt', mode='a')\n",
    "fh.write('\\nlet\\'s append a new line')\n",
    "fh.close()"
   ]
  },
  {
   "cell_type": "code",
   "execution_count": 67,
   "metadata": {},
   "outputs": [],
   "source": [
    "# write to file\n",
    "fh = open('file1.txt', mode='w')\n",
    "fh.write('\\nlet\\'s write a new line')\n",
    "fh.close()"
   ]
  },
  {
   "cell_type": "markdown",
   "metadata": {},
   "source": [
    "## Create a New File"
   ]
  },
  {
   "cell_type": "markdown",
   "metadata": {},
   "source": [
    "To create a new file in Python, use the open() method, with one of the following modes:\n",
    "\n",
    "`mode='c'` - will create the file, but will returns an error if the file exist\n",
    "\n",
    "`mode='a'` - will create the file if it does not exists, or will open it for appending.\n",
    "\n",
    "`mode='w'` - will create the file if it does not exists, or will open it for writing (**note, that the content will be deleted, if file exists**)\n"
   ]
  },
  {
   "cell_type": "code",
   "execution_count": 70,
   "metadata": {},
   "outputs": [],
   "source": [
    "fh = open('file2.txt', mode='w')\n",
    "fh.write('\\nlet\\'s write a new line')\n",
    "fh.close()"
   ]
  },
  {
   "cell_type": "code",
   "execution_count": 74,
   "metadata": {},
   "outputs": [
    {
     "name": "stdout",
     "output_type": "stream",
     "text": [
      "file1.txt  file2.txt  file_manipulations.ipynb\n"
     ]
    }
   ],
   "source": [
    "# lets check if file is created\n",
    "!ls"
   ]
  },
  {
   "cell_type": "code",
   "execution_count": null,
   "metadata": {},
   "outputs": [],
   "source": []
  }
 ],
 "metadata": {
  "kernelspec": {
   "display_name": "Python 3",
   "language": "python",
   "name": "python3"
  },
  "language_info": {
   "codemirror_mode": {
    "name": "ipython",
    "version": 3
   },
   "file_extension": ".py",
   "mimetype": "text/x-python",
   "name": "python",
   "nbconvert_exporter": "python",
   "pygments_lexer": "ipython3",
   "version": "3.7.4"
  }
 },
 "nbformat": 4,
 "nbformat_minor": 4
}
