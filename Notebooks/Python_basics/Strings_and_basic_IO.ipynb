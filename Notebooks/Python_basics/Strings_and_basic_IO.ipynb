{
 "cells": [
  {
   "cell_type": "markdown",
   "metadata": {},
   "source": [
    "## Basic IO"
   ]
  },
  {
   "cell_type": "markdown",
   "metadata": {},
   "source": [
    "### `print()` function"
   ]
  },
  {
   "cell_type": "code",
   "execution_count": 10,
   "metadata": {},
   "outputs": [
    {
     "name": "stdout",
     "output_type": "stream",
     "text": [
      "Hello World\n"
     ]
    }
   ],
   "source": [
    "print('Hello World')"
   ]
  },
  {
   "cell_type": "code",
   "execution_count": 8,
   "metadata": {},
   "outputs": [
    {
     "name": "stdout",
     "output_type": "stream",
     "text": [
      "Hello World\n"
     ]
    }
   ],
   "source": [
    "# note, that default arguments separator is space (\" \")\n",
    "print('Hello', 'World')"
   ]
  },
  {
   "cell_type": "code",
   "execution_count": 9,
   "metadata": {},
   "outputs": [
    {
     "name": "stdout",
     "output_type": "stream",
     "text": [
      "Hello-World\n"
     ]
    }
   ],
   "source": [
    "# but we can set custom separator:\n",
    "print('Hello', 'World', sep=\"-\")"
   ]
  },
  {
   "cell_type": "code",
   "execution_count": 11,
   "metadata": {},
   "outputs": [
    {
     "name": "stdout",
     "output_type": "stream",
     "text": [
      "Hello\n",
      "World\n"
     ]
    }
   ],
   "source": [
    "# note, that default end of line symbol is new line\n",
    "print('Hello')\n",
    "print('World')"
   ]
  },
  {
   "cell_type": "code",
   "execution_count": 13,
   "metadata": {},
   "outputs": [
    {
     "name": "stdout",
     "output_type": "stream",
     "text": [
      "Hello-World\n"
     ]
    }
   ],
   "source": [
    "# but we can set custom EOL symbol:\n",
    "print('Hello', end=\"-\")\n",
    "print('World')\n"
   ]
  },
  {
   "cell_type": "markdown",
   "metadata": {},
   "source": [
    "### `input()` function"
   ]
  },
  {
   "cell_type": "code",
   "execution_count": 5,
   "metadata": {},
   "outputs": [
    {
     "name": "stdin",
     "output_type": "stream",
     "text": [
      "Tell me the answer:  42\n"
     ]
    },
    {
     "name": "stdout",
     "output_type": "stream",
     "text": [
      "The answer is:  42\n"
     ]
    }
   ],
   "source": [
    "answer = input(\"Tell me the answer: \")\n",
    "print('The answer is: ', answer)"
   ]
  },
  {
   "cell_type": "code",
   "execution_count": 14,
   "metadata": {},
   "outputs": [
    {
     "data": {
      "text/plain": [
       "str"
      ]
     },
     "execution_count": 14,
     "metadata": {},
     "output_type": "execute_result"
    }
   ],
   "source": [
    "# Note, that no matter what value the user entered, it will be stored as a string!\n",
    "type(answer)"
   ]
  },
  {
   "cell_type": "code",
   "execution_count": 15,
   "metadata": {},
   "outputs": [
    {
     "name": "stdin",
     "output_type": "stream",
     "text": [
      "Tell me the answer:  42\n"
     ]
    },
    {
     "data": {
      "text/plain": [
       "int"
      ]
     },
     "execution_count": 15,
     "metadata": {},
     "output_type": "execute_result"
    }
   ],
   "source": [
    "# if you need to convert the input to number type, use the int() function:\n",
    "answer = int(input(\"Tell me the answer: \"))\n",
    "type(answer)"
   ]
  },
  {
   "cell_type": "code",
   "execution_count": 16,
   "metadata": {},
   "outputs": [
    {
     "name": "stdin",
     "output_type": "stream",
     "text": [
      " 3\n"
     ]
    },
    {
     "name": "stdout",
     "output_type": "stream",
     "text": [
      "x = 3\n"
     ]
    }
   ],
   "source": [
    "# if you ommit the prompt string, no message will be shown to the user:\n",
    "x = input()\n",
    "print('x =', x)\n"
   ]
  },
  {
   "cell_type": "markdown",
   "metadata": {},
   "source": [
    "## String and List operations"
   ]
  },
  {
   "cell_type": "markdown",
   "metadata": {},
   "source": [
    "### Membership testing (the in, not in, operators)"
   ]
  },
  {
   "cell_type": "code",
   "execution_count": 31,
   "metadata": {},
   "outputs": [
    {
     "name": "stdout",
     "output_type": "stream",
     "text": [
      "True\n",
      "False\n",
      "False\n",
      "True\n"
     ]
    }
   ],
   "source": [
    "# in lists:\n",
    "l = [1,2,3]\n",
    "\n",
    "print( 2 in l ) # True\n",
    "print( 7 in l ) # False\n",
    "\n",
    "print( 2 not in l ) # False\n",
    "print( 7 not in l ) # True"
   ]
  },
  {
   "cell_type": "code",
   "execution_count": 32,
   "metadata": {},
   "outputs": [
    {
     "name": "stdout",
     "output_type": "stream",
     "text": [
      "True\n",
      "True\n",
      "False\n"
     ]
    }
   ],
   "source": [
    "# in strings - we can also check for any substring\n",
    "string = 'abcdefg'\n",
    "\n",
    "print( 'a' in string)     # True\n",
    "print( 'abc' in string )  # True\n",
    "print( 'abcaaa' in string )  # False\n"
   ]
  },
  {
   "cell_type": "markdown",
   "metadata": {},
   "source": [
    "### Indexing"
   ]
  },
  {
   "cell_type": "code",
   "execution_count": 42,
   "metadata": {},
   "outputs": [
    {
     "name": "stdout",
     "output_type": "stream",
     "text": [
      "1\n",
      "5\n",
      "4\n"
     ]
    }
   ],
   "source": [
    "# on lists\n",
    "l = [1,2,3,4,5]\n",
    "\n",
    "# get the first element:\n",
    "print( l[0] )\n",
    "\n",
    "# get the last element:\n",
    "print( l[-1] )\n",
    "\n",
    "# get the element, before last:\n",
    "print( l[-2] )"
   ]
  },
  {
   "cell_type": "code",
   "execution_count": 44,
   "metadata": {},
   "outputs": [
    {
     "name": "stdout",
     "output_type": "stream",
     "text": [
      "a\n",
      "g\n",
      "f\n"
     ]
    }
   ],
   "source": [
    "# on strings\n",
    "string = 'abcdefg'\n",
    "\n",
    "# get the first element:\n",
    "print( string[0] )\n",
    "\n",
    "# get the last element:\n",
    "print( string[-1] )\n",
    "    \n",
    "# get the element, before last:\n",
    "print( string[-2] )"
   ]
  },
  {
   "cell_type": "markdown",
   "metadata": {},
   "source": [
    "### Slicing"
   ]
  },
  {
   "cell_type": "markdown",
   "metadata": {},
   "source": [
    "Syntax: `sequence[start:end:step]`\n",
    "\n",
    "where:\n",
    "\n",
    "`start` - the index of element to start slice from. Default = 0\n",
    "\n",
    "`end`   - the index-1 of element to stop the slice, Default - last element\n",
    "\n",
    "`step`  - number, which is added consequently to start, until end is reached."
   ]
  },
  {
   "cell_type": "code",
   "execution_count": 55,
   "metadata": {},
   "outputs": [
    {
     "name": "stdout",
     "output_type": "stream",
     "text": [
      "[1, 2, 3]\n",
      "[1, 2, 3]\n",
      "[4, 5]\n",
      "[1, 2, 3, 4, 5]\n",
      "[1, 3, 5]\n"
     ]
    }
   ],
   "source": [
    "# on lists\n",
    "l = [1,2,3,4,5]\n",
    "\n",
    "# get the first 3 elements:\n",
    "print( l[0:3] )\n",
    "\n",
    "# get the first 3 elements, ommitting 'start' argument, as it defaults to 0:\n",
    "print( l[:3] )\n",
    "\n",
    "# get the elements from 3, till the end (omitting 'end')\n",
    "print( l[3:] )\n",
    "\n",
    "# get the whole list:\n",
    "print( l[:] )\n",
    "\n",
    "# get all elements with even indexes, i.e. 0, 2, 4 ...\n",
    "print( l[::2] )"
   ]
  },
  {
   "cell_type": "code",
   "execution_count": 54,
   "metadata": {},
   "outputs": [
    {
     "name": "stdout",
     "output_type": "stream",
     "text": [
      "[1, 2, 3, 4, 5]\n"
     ]
    }
   ],
   "source": [
    "# get copy of the sequence (i.e. slice the sequence)\n",
    "l2 = l[:]\n",
    "print(l2)"
   ]
  },
  {
   "cell_type": "code",
   "execution_count": null,
   "metadata": {},
   "outputs": [],
   "source": []
  }
 ],
 "metadata": {
  "kernelspec": {
   "display_name": "Python 3",
   "language": "python",
   "name": "python3"
  },
  "language_info": {
   "codemirror_mode": {
    "name": "ipython",
    "version": 3
   },
   "file_extension": ".py",
   "mimetype": "text/x-python",
   "name": "python",
   "nbconvert_exporter": "python",
   "pygments_lexer": "ipython3",
   "version": "3.7.4"
  }
 },
 "nbformat": 4,
 "nbformat_minor": 4
}
